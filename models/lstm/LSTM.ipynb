{
  "nbformat": 4,
  "nbformat_minor": 0,
  "metadata": {
    "colab": {
      "name": "LSTM",
      "provenance": [],
      "collapsed_sections": [],
      "authorship_tag": "ABX9TyNdjuz8DNOR6VA4OkearXRM"
    },
    "kernelspec": {
      "name": "python3",
      "display_name": "Python 3"
    },
    "accelerator": "GPU"
  },
  "cells": [
    {
      "cell_type": "markdown",
      "metadata": {
        "id": "p9498FU1189f",
        "colab_type": "text"
      },
      "source": [
        "# Sentiment Analysis: LSTM (PyTorch)\n",
        "\n",
        "\n"
      ]
    },
    {
      "cell_type": "markdown",
      "metadata": {
        "id": "2T44Md1u2Dhq",
        "colab_type": "text"
      },
      "source": [
        "The notebook is roughly divided into two sections: pre-processing and the actual model.\n",
        "\n",
        "## Setup and downloading data\n",
        "\n",
        "We use the Kaggle API to download the data.\n",
        "\n",
        "N.B. If you want to run the notebook you need to upload a kaggle.json file which contains your API credentials. Instructions for downloading the file from Kaggle can be found here."
      ]
    },
    {
      "cell_type": "code",
      "metadata": {
        "id": "-F0r5NpfwRLP",
        "colab_type": "code",
        "colab": {}
      },
      "source": [
        "# install the kaggle API\n",
        "pip install kaggle -q"
      ],
      "execution_count": 0,
      "outputs": []
    },
    {
      "cell_type": "code",
      "metadata": {
        "id": "hzo5eVM8wVv8",
        "colab_type": "code",
        "colab": {}
      },
      "source": [
        "# data wrangling\n",
        "import pandas as pd\n",
        "import numpy as np\n",
        "from sklearn.model_selection import train_test_split\n",
        "\n",
        "# language model \n",
        "import spacy\n",
        "spacy_en = spacy.load('en')\n",
        "\n",
        "# pytorch\n",
        "import torch\n",
        "import torch.nn as nn\n",
        "import torch.nn.functional as F\n",
        "import torch.optim as optim\n",
        "from torch.nn.utils.rnn import pad_sequence, pack_padded_sequence, pad_packed_sequence\n",
        "from torch.utils import data\n",
        "\n",
        "from collections import Counter\n",
        "import copy\n",
        "import re\n",
        "import matplotlib.pyplot as plt\n",
        "import matplotlib "
      ],
      "execution_count": 0,
      "outputs": []
    },
    {
      "cell_type": "code",
      "metadata": {
        "id": "OVMpObCdcFDi",
        "colab_type": "code",
        "colab": {}
      },
      "source": [
        "torch.backends.cudnn.deterministic = True"
      ],
      "execution_count": 0,
      "outputs": []
    },
    {
      "cell_type": "code",
      "metadata": {
        "id": "5QgyixJocGwa",
        "colab_type": "code",
        "outputId": "f0fedafc-932f-4bf9-d89a-6b005f90e766",
        "colab": {
          "base_uri": "https://localhost:8080/",
          "height": 33
        }
      },
      "source": [
        "device = torch.device(\"cuda\" if torch.cuda.is_available() else \"cpu\")\n",
        "device"
      ],
      "execution_count": 29,
      "outputs": [
        {
          "output_type": "execute_result",
          "data": {
            "text/plain": [
              "device(type='cuda')"
            ]
          },
          "metadata": {
            "tags": []
          },
          "execution_count": 29
        }
      ]
    },
    {
      "cell_type": "code",
      "metadata": {
        "id": "cdjEZfQy2Ru1",
        "colab_type": "code",
        "colab": {
          "resources": {
            "http://localhost:8080/nbextensions/google.colab/files.js": {
              "data": "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",
              "ok": true,
              "headers": [
                [
                  "content-type",
                  "application/javascript"
                ]
              ],
              "status": 200,
              "status_text": ""
            }
          },
          "base_uri": "https://localhost:8080/",
          "height": 70
        },
        "outputId": "10f8855f-c83c-4d0b-86c2-3dd27d8dd9b7"
      },
      "source": [
        "# upload kaggle.json file\n",
        "from google.colab import files\n",
        "uploaded = files.upload()"
      ],
      "execution_count": 3,
      "outputs": [
        {
          "output_type": "display_data",
          "data": {
            "text/html": [
              "\n",
              "     <input type=\"file\" id=\"files-c0285ccd-c1aa-4f15-a147-ff2a3523aaf1\" name=\"files[]\" multiple disabled />\n",
              "     <output id=\"result-c0285ccd-c1aa-4f15-a147-ff2a3523aaf1\">\n",
              "      Upload widget is only available when the cell has been executed in the\n",
              "      current browser session. Please rerun this cell to enable.\n",
              "      </output>\n",
              "      <script src=\"/nbextensions/google.colab/files.js\"></script> "
            ],
            "text/plain": [
              "<IPython.core.display.HTML object>"
            ]
          },
          "metadata": {
            "tags": []
          }
        },
        {
          "output_type": "stream",
          "text": [
            "Saving kaggle.json to kaggle.json\n"
          ],
          "name": "stdout"
        }
      ]
    },
    {
      "cell_type": "code",
      "metadata": {
        "id": "w89Vq8rK2R07",
        "colab_type": "code",
        "colab": {}
      },
      "source": [
        "!mkdir -p ~/.kaggle\n",
        "!cp kaggle.json ~/.kaggle/\n",
        "!chmod 600 ~/.kaggle/kaggle.json"
      ],
      "execution_count": 0,
      "outputs": []
    },
    {
      "cell_type": "code",
      "metadata": {
        "id": "Qnw5Lik32R6m",
        "colab_type": "code",
        "colab": {
          "base_uri": "https://localhost:8080/",
          "height": 212
        },
        "outputId": "b7dba20a-fcba-442b-866a-60930f948ce3"
      },
      "source": [
        "# download the dataset and unzip\n",
        "!kaggle competitions download sentiment-analysis-on-movie-reviews\n",
        "!unzip train.tsv.zip"
      ],
      "execution_count": 5,
      "outputs": [
        {
          "output_type": "stream",
          "text": [
            "Warning: Looks like you're using an outdated API Version, please consider updating (server 1.5.6 / client 1.5.4)\n",
            "Downloading train.tsv.zip to /content\n",
            "  0% 0.00/1.28M [00:00<?, ?B/s]\n",
            "100% 1.28M/1.28M [00:00<00:00, 89.3MB/s]\n",
            "Downloading test.tsv.zip to /content\n",
            "  0% 0.00/494k [00:00<?, ?B/s]\n",
            "100% 494k/494k [00:00<00:00, 160MB/s]\n",
            "Downloading sampleSubmission.csv to /content\n",
            "  0% 0.00/583k [00:00<?, ?B/s]\n",
            "100% 583k/583k [00:00<00:00, 197MB/s]\n",
            "Archive:  train.tsv.zip\n",
            "  inflating: train.tsv               \n"
          ],
          "name": "stdout"
        }
      ]
    },
    {
      "cell_type": "markdown",
      "metadata": {
        "id": "1dMUgXEp2hoX",
        "colab_type": "text"
      },
      "source": [
        "## Pre-processing\n",
        "\n",
        "The model cannot accept strings as input, thus in this section we convert each element of the dataset into an integer-encoded vector.\n"
      ]
    },
    {
      "cell_type": "markdown",
      "metadata": {
        "id": "32T69Hn72p1e",
        "colab_type": "text"
      },
      "source": [
        "### Text processing\n",
        "\n",
        "Descriptions:\n",
        "- `tokenizer`: function that takes as input a string of text and returns a list of tokens\n",
        "- `Vocabularly`: class that stores the vocab found in the dataset and creates a mapping from token to integer"
      ]
    },
    {
      "cell_type": "code",
      "metadata": {
        "id": "4sD6l3tz2SCI",
        "colab_type": "code",
        "colab": {}
      },
      "source": [
        "def tokenizer(text): \n",
        "    text = text.lower()\n",
        "    text = re.sub(\"-rrb-\",\"\", text)\n",
        "    text = re.sub(\"-lrb-\",\"\", text)\n",
        "    tokens = spacy_en.tokenizer(text)\n",
        "    #tokens = [tok for tok in tokens if tok.is_stop == False]\n",
        "    tokens = [tok.lemma_ for tok in tokens]\n",
        "    return tokens"
      ],
      "execution_count": 0,
      "outputs": []
    },
    {
      "cell_type": "code",
      "metadata": {
        "id": "EyMBgFPycG6Y",
        "colab_type": "code",
        "colab": {}
      },
      "source": [
        "class Vocabulary:\n",
        "      \n",
        "    def __init__(self, vocabCount, min_freq):\n",
        "        # initialize PAD and UNK tokens\n",
        "        self.PAD_token = 0   \n",
        "        self.UNK_token = 1\n",
        "        self.vocabCount = vocabCount\n",
        "        self.min_freq = min_freq\n",
        "        # initialize list of words and vocab dictionary\n",
        "        self.wordlist = [\"<pad>\", \"<unk>\"]\n",
        "        self.word2index = {}\n",
        "\n",
        "        self.build_vocab(self.vocabCount)\n",
        "\n",
        "    def __len__(self):\n",
        "      return len(self.word2index)\n",
        "\n",
        "    def __getitem__(self, word):\n",
        "      return self.word2index.get(word, 1)\n",
        "\n",
        "    def __iter__(self):\n",
        "      return iter(vocab.word2index)\n",
        "\n",
        "    def build_vocab(self, vocabCount):\n",
        "      for word in self.vocabCount:\n",
        "        if vocabCount[word] >= self.min_freq:\n",
        "          self.wordlist.append(word)\n",
        "      self.word2index.update({tok: i for i, tok in enumerate(self.wordlist)})"
      ],
      "execution_count": 0,
      "outputs": []
    },
    {
      "cell_type": "markdown",
      "metadata": {
        "id": "yY2dYmOP21G6",
        "colab_type": "text"
      },
      "source": [
        "### Loading and processing data"
      ]
    },
    {
      "cell_type": "code",
      "metadata": {
        "id": "wLLy7flU2R_r",
        "colab_type": "code",
        "colab": {}
      },
      "source": [
        "train_data = pd.read_csv('/content/train.tsv', sep=\"\\t\", \n",
        "                         encoding=\"utf_8_sig\")\n",
        "\n",
        "phrases = np.array(train_data.iloc[:, 2])\n",
        "target = np.array(train_data.iloc[:, 3])\n",
        "\n",
        "# create train and validation sets\n",
        "X_train , X_val, y_train , y_val = train_test_split(phrases, target, \n",
        "                                                    test_size = 0.2, random_state=42)\n",
        "\n",
        "# create validation and test sets\n",
        "X_val , X_test, y_val , y_test = train_test_split(X_val, y_val, \n",
        "                                                    test_size = 0.4, random_state=42)"
      ],
      "execution_count": 0,
      "outputs": []
    },
    {
      "cell_type": "markdown",
      "metadata": {
        "id": "D3MuFfmi28aO",
        "colab_type": "text"
      },
      "source": [
        "Convert each string into a list of words, using `tokenizer` function."
      ]
    },
    {
      "cell_type": "code",
      "metadata": {
        "id": "W6uwiAT4xD5u",
        "colab_type": "code",
        "outputId": "27d4ad54-881a-41e9-dffe-f7d82f8ea666",
        "colab": {
          "base_uri": "https://localhost:8080/",
          "height": 66
        }
      },
      "source": [
        "X_train = [tokenizer(phrase) for phrase in X_train]\n",
        "X_val = [tokenizer(phrase) for phrase in X_val]\n",
        "X_test = [tokenizer(phrase) for phrase in X_test]\n",
        "\n",
        "print(\"Length of train dataset: {} \\nLength of validation dataset: {} \\nLength of test dataset: {}\".format(len(X_train), len(X_val), len(X_test)))"
      ],
      "execution_count": 8,
      "outputs": [
        {
          "output_type": "stream",
          "text": [
            "Length of train dataset: 124848 \n",
            "Length of validation dataset: 18727 \n",
            "Length of test dataset: 12485\n"
          ],
          "name": "stdout"
        }
      ]
    },
    {
      "cell_type": "markdown",
      "metadata": {
        "id": "tzDAvfrn3Ejr",
        "colab_type": "text"
      },
      "source": [
        "### Create vocabularly"
      ]
    },
    {
      "cell_type": "code",
      "metadata": {
        "id": "Gn9KLrBsxGlG",
        "colab_type": "code",
        "colab": {}
      },
      "source": [
        "vocabCount = Counter([item for sublist in X_train for item in sublist])\n",
        "vocab = Vocabulary(vocabCount, 1)"
      ],
      "execution_count": 0,
      "outputs": []
    },
    {
      "cell_type": "markdown",
      "metadata": {
        "id": "m_ZCbccq3Gwq",
        "colab_type": "text"
      },
      "source": [
        "### Converting tokens to integers"
      ]
    },
    {
      "cell_type": "code",
      "metadata": {
        "id": "pPXC8lmUxIQt",
        "colab_type": "code",
        "colab": {}
      },
      "source": [
        "X_trainNum = [torch.tensor([vocab[word] for word in phrase]) for phrase in X_train]\n",
        "X_valNum = [torch.tensor([vocab[word] for word in phrase]) for phrase in X_val]\n",
        "X_testNum = [torch.tensor([vocab[word] for word in phrase]) for phrase in X_test]"
      ],
      "execution_count": 0,
      "outputs": []
    },
    {
      "cell_type": "code",
      "metadata": {
        "id": "Q0vZRZl0xMbn",
        "colab_type": "code",
        "colab": {
          "base_uri": "https://localhost:8080/",
          "height": 50
        },
        "outputId": "e780d49a-65d1-4145-9d17-4a1474b6c774"
      },
      "source": [
        "# make sure each tensor actually has values\n",
        "for i, el in enumerate(X_trainNum):\n",
        "    if el.nelement() == 0:\n",
        "        print(i)\n",
        "        X_trainNum[i] = torch.tensor([0]).long()\n",
        "\n",
        "# make sure each tensor actually has values\n",
        "for i, el in enumerate(X_valNum):\n",
        "    if el.nelement() == 0:\n",
        "        print(i)\n",
        "        X_valNum[i] = torch.tensor([0]).long()\n",
        "\n",
        "# make sure each tensor actually has values\n",
        "for i, el in enumerate(X_testNum):\n",
        "    if el.nelement() == 0:\n",
        "        print(i)\n",
        "        X_testNum[i] = torch.tensor([0]).long()"
      ],
      "execution_count": 13,
      "outputs": [
        {
          "output_type": "stream",
          "text": [
            "43785\n",
            "7117\n"
          ],
          "name": "stdout"
        }
      ]
    },
    {
      "cell_type": "markdown",
      "metadata": {
        "id": "b8Ds88de3Zxx",
        "colab_type": "text"
      },
      "source": [
        "## LSTM-model"
      ]
    },
    {
      "cell_type": "markdown",
      "metadata": {
        "id": "0ezrNOaG3eo-",
        "colab_type": "text"
      },
      "source": [
        "### Custom dataset class and batching function"
      ]
    },
    {
      "cell_type": "code",
      "metadata": {
        "id": "lEdSJyz_xRnB",
        "colab_type": "code",
        "colab": {}
      },
      "source": [
        "class WordDataset(data.Dataset):\n",
        "    \n",
        "    def __init__(self, X, y):\n",
        "        self.X = X\n",
        "        self.y = y\n",
        "        \n",
        "    def __len__(self):\n",
        "        return len(self.y)\n",
        "    \n",
        "    def __getitem__(self, idx):  \n",
        "        X = self.X[idx]\n",
        "        Y = self.y[idx]\n",
        "        return X, Y"
      ],
      "execution_count": 0,
      "outputs": []
    },
    {
      "cell_type": "code",
      "metadata": {
        "id": "_VRlF9yhxZjD",
        "colab_type": "code",
        "colab": {}
      },
      "source": [
        "def generate_batch(batch):\n",
        "    \n",
        "    # get inputs and targets\n",
        "    data = [item[0] for item in batch]\n",
        "    targets = [item[1] for item in batch]\n",
        "\n",
        "    # to be able to pack sequences later on, need\n",
        "    # the original sequence lengths\n",
        "    seqlengths = [len(el) for el in data]\n",
        "    \n",
        "    # pad the sequences\n",
        "    x = pad_sequence(data, batch_first=True)\n",
        "\n",
        "    return x, torch.Tensor(targets).long(), seqlengths"
      ],
      "execution_count": 0,
      "outputs": []
    },
    {
      "cell_type": "code",
      "metadata": {
        "id": "nmsXlCwkxZ1A",
        "colab_type": "code",
        "colab": {}
      },
      "source": [
        "trainingset = WordDataset(X_trainNum, y_train)\n",
        "valset = WordDataset(X_valNum, y_val)\n",
        "testset = WordDataset(X_testNum, y_test)"
      ],
      "execution_count": 0,
      "outputs": []
    },
    {
      "cell_type": "code",
      "metadata": {
        "id": "WXEw6wYYxbkY",
        "colab_type": "code",
        "colab": {}
      },
      "source": [
        "training_generator = data.DataLoader(trainingset, batch_size=64, collate_fn=generate_batch)\n",
        "val_generator = data.DataLoader(valset, batch_size=len(y_val), collate_fn=generate_batch)\n",
        "test_generator = data.DataLoader(testset, batch_size=len(y_test), collate_fn=generate_batch)"
      ],
      "execution_count": 0,
      "outputs": []
    },
    {
      "cell_type": "code",
      "metadata": {
        "id": "qKEUtySRxczo",
        "colab_type": "code",
        "colab": {}
      },
      "source": [
        "training_eval = data.DataLoader(trainingset, batch_size=512, collate_fn = generate_batch)"
      ],
      "execution_count": 0,
      "outputs": []
    },
    {
      "cell_type": "markdown",
      "metadata": {
        "id": "hjgo8Gjk3j7V",
        "colab_type": "text"
      },
      "source": [
        "### Training function"
      ]
    },
    {
      "cell_type": "code",
      "metadata": {
        "id": "J0aJFHnpxeC4",
        "colab_type": "code",
        "colab": {}
      },
      "source": [
        "def train(m, lossFun, optim, scheduler, epochs, train_loader, val_loader, train_eval,\n",
        "          saveModel = False, verbose=False):\n",
        "\n",
        "    print(\"Summary of model\\n\")\n",
        "    print(m)\n",
        "    print(\"\\n\")\n",
        "\n",
        "    # initialize lists to store loss and accuracy\n",
        "    trainLossVec , valLossVec, trainAccuracyVec, valAccuracyVec = [], [], [], []\n",
        "    bestLoss, bestEpoch = 100, 0\n",
        "\n",
        "    for epoch in range(epochs):\n",
        "\n",
        "        # Set model to training mode\n",
        "        m.train()\n",
        "    \n",
        "        # Loop over each batch from the training set\n",
        "        for batch_idx, (inputs, targets, seqlengths) in enumerate(train_loader):\n",
        "            \n",
        "            # Zero gradient buffers\n",
        "            optim.zero_grad()\n",
        "            # Foward pass and compute loss on batch\n",
        "            outputs = m(inputs.to(device), seqlengths)\n",
        "            batchloss = lossFun(outputs, targets.to(device))\n",
        "            # Backpropagate and update weights\n",
        "            batchloss.backward()\n",
        "            # gradient clipping\n",
        "            torch.nn.utils.clip_grad_norm_(m.parameters(), 1., norm_type=2)\n",
        "            # optimizer step\n",
        "            optim.step()\n",
        "    \n",
        "        # set model to evaluation mode\n",
        "        m.eval()\n",
        "        with torch.no_grad():\n",
        "            \n",
        "            # evaluate model on training and validation data\n",
        "            train_metrics = evaluate(m, train_eval, lossFun)\n",
        "            val_metrics = evaluate(m, val_loader, lossFun)\n",
        "            # update accuracy\n",
        "            trainAccuracyVec.append(train_metrics[\"acc\"])\n",
        "            valAccuracyVec.append(val_metrics[\"acc\"])\n",
        "            # update loss\n",
        "            trainLossVec.append(train_metrics[\"loss\"])\n",
        "            valLossVec.append(val_metrics[\"loss\"])\n",
        "            \n",
        "            scheduler.step()\n",
        "    \n",
        "            # check if new best for validation accuracy\n",
        "            if valLossVec[-1] < bestLoss:\n",
        "                bestLoss = valLossVec[-1]\n",
        "                bestEpoch = epoch\n",
        "                if saveModel == True:\n",
        "                    torch.save(m.state_dict(), \"bestModel.pt\")\n",
        "                    print(\"New best value for validation loss: Saved model to bestModel.pt\")\n",
        "            \n",
        "            # print information about training progress\n",
        "            if verbose == True:\n",
        "                print((\"Epoch: {} \\t Loss (train): {:.3f} (val): {:.3f} \\t\" +\n",
        "              \"Acc (train) {:.3f} (val): {:.3f}\").format(epoch + 1,\n",
        "                            trainLossVec[-1], valLossVec[-1], trainAccuracyVec[-1], valAccuracyVec[-1]))\n",
        "            # clean up\n",
        "            del inputs, targets, outputs\n",
        "\n",
        "    return trainLossVec, valLossVec, trainAccuracyVec, valAccuracyVec, bestEpoch"
      ],
      "execution_count": 0,
      "outputs": []
    },
    {
      "cell_type": "code",
      "metadata": {
        "id": "_vIIwYar3y-d",
        "colab_type": "code",
        "colab": {}
      },
      "source": [
        "def eval_batch(model, batch, lossFun):\n",
        "\n",
        "  inputs, targets, seqlengths = batch\n",
        "  model.eval()\n",
        "  with torch.no_grad():\n",
        "    batchsize = len(targets)\n",
        "    logits = model(inputs.to(device), seqlengths)\n",
        "    # for loss\n",
        "    lossVal = lossFun(logits, targets.to(device)).item() * batchsize\n",
        "    # for accuracy\n",
        "    _, pred = torch.max(logits.data, 1)\n",
        "    correct = (pred == targets.to(device)).sum().item()\n",
        "\n",
        "  return correct, lossVal\n",
        "\n",
        "\n",
        "def evaluate(model, dataLoader, lossFun):\n",
        "\n",
        "  correct = 0\n",
        "  loss = 0\n",
        "  total = 0\n",
        "  for batch in dataLoader:\n",
        "    c, l = eval_batch(model, batch, lossFun)\n",
        "    correct += c\n",
        "    loss += l\n",
        "    total += batch[1].shape[0]\n",
        "\n",
        "  acc = correct/total\n",
        "  loss = loss/total\n",
        "  return {\"acc\": acc, \"loss\": loss}"
      ],
      "execution_count": 0,
      "outputs": []
    },
    {
      "cell_type": "markdown",
      "metadata": {
        "id": "tyBlyWG04PNX",
        "colab_type": "text"
      },
      "source": [
        "### Using pre-trained embeddings"
      ]
    },
    {
      "cell_type": "code",
      "metadata": {
        "id": "XK5DWNvuyTFu",
        "colab_type": "code",
        "outputId": "c0809389-c8a7-4f10-d7a4-a9c177b01cb5",
        "colab": {
          "base_uri": "https://localhost:8080/",
          "height": 456
        }
      },
      "source": [
        "!wget http://nlp.stanford.edu/data/glove.6B.zip\n",
        "!unzip glove*.zip\n",
        "print('Indexing word vectors.')\n",
        "embeddings_index = {}\n",
        "f = open('glove.6B.300d.txt', encoding='utf-8')\n",
        "for line in f:\n",
        "    values = line.split()\n",
        "    word = values[0]\n",
        "    coefs = np.asarray(values[1:], dtype='float32')\n",
        "    embeddings_index[word] = coefs\n",
        "f.close()\n",
        "print('Found {} word vectors.'.format(len(embeddings_index)))"
      ],
      "execution_count": 24,
      "outputs": [
        {
          "output_type": "stream",
          "text": [
            "--2020-04-23 11:51:50--  http://nlp.stanford.edu/data/glove.6B.zip\n",
            "Resolving nlp.stanford.edu (nlp.stanford.edu)... 171.64.67.140\n",
            "Connecting to nlp.stanford.edu (nlp.stanford.edu)|171.64.67.140|:80... connected.\n",
            "HTTP request sent, awaiting response... 302 Found\n",
            "Location: https://nlp.stanford.edu/data/glove.6B.zip [following]\n",
            "--2020-04-23 11:51:50--  https://nlp.stanford.edu/data/glove.6B.zip\n",
            "Connecting to nlp.stanford.edu (nlp.stanford.edu)|171.64.67.140|:443... connected.\n",
            "HTTP request sent, awaiting response... 301 Moved Permanently\n",
            "Location: http://downloads.cs.stanford.edu/nlp/data/glove.6B.zip [following]\n",
            "--2020-04-23 11:51:51--  http://downloads.cs.stanford.edu/nlp/data/glove.6B.zip\n",
            "Resolving downloads.cs.stanford.edu (downloads.cs.stanford.edu)... 171.64.64.22\n",
            "Connecting to downloads.cs.stanford.edu (downloads.cs.stanford.edu)|171.64.64.22|:80... connected.\n",
            "HTTP request sent, awaiting response... 200 OK\n",
            "Length: 862182613 (822M) [application/zip]\n",
            "Saving to: ‘glove.6B.zip’\n",
            "\n",
            "glove.6B.zip        100%[===================>] 822.24M  2.11MB/s    in 6m 29s  \n",
            "\n",
            "2020-04-23 11:58:20 (2.11 MB/s) - ‘glove.6B.zip’ saved [862182613/862182613]\n",
            "\n",
            "Archive:  glove.6B.zip\n",
            "  inflating: glove.6B.50d.txt        \n",
            "  inflating: glove.6B.100d.txt       \n",
            "  inflating: glove.6B.200d.txt       \n",
            "  inflating: glove.6B.300d.txt       \n",
            "Indexing word vectors.\n",
            "Found 400000 word vectors.\n"
          ],
          "name": "stdout"
        }
      ]
    },
    {
      "cell_type": "code",
      "metadata": {
        "id": "zU3cyw0iyPiH",
        "colab_type": "code",
        "outputId": "3794551c-eb9e-493d-b171-cbb6669767e2",
        "colab": {
          "base_uri": "https://localhost:8080/",
          "height": 33
        }
      },
      "source": [
        "# iterate through each word in the vocabularly\n",
        "# if there exists a word embedding insert it,\n",
        "# else use a sample from a random normal\n",
        "matrix_len = len(vocab)\n",
        "weights_matrix = np.zeros((matrix_len, 300))\n",
        "words_notfound = 0\n",
        "\n",
        "for i, word in enumerate(vocab):\n",
        "    try: \n",
        "        weights_matrix[i] = embeddings_index[word]\n",
        "        # if there is no embedding for the given word\n",
        "        # create vector sampled from random normal\n",
        "\n",
        "        # a advantage of updating the weights of the\n",
        "        # embedding layer as part of training, is that\n",
        "        # an embedding will be learnt for these words \n",
        "    except KeyError:\n",
        "\n",
        "        weights_matrix[i] = np.random.normal(scale=0.5, size=(300, ))\n",
        "        words_notfound += 1\n",
        "\n",
        "print(\"Words not found: {}\".format(words_notfound))"
      ],
      "execution_count": 25,
      "outputs": [
        {
          "output_type": "stream",
          "text": [
            "Words not found: 441\n"
          ],
          "name": "stdout"
        }
      ]
    },
    {
      "cell_type": "markdown",
      "metadata": {
        "id": "DFTNxIVxx6O7",
        "colab_type": "text"
      },
      "source": [
        "## Model"
      ]
    },
    {
      "cell_type": "code",
      "metadata": {
        "id": "-_E3oh9kxws8",
        "colab_type": "code",
        "colab": {}
      },
      "source": [
        "class LSTM(nn.Module):\n",
        "\n",
        "  def __init__(self, embeddingDIM, hiddenDIM1, hiddenDIM2, outputDIM, \n",
        "                 n_layers, vocab_size):\n",
        "    \n",
        "    super(LSTM, self).__init__()    \n",
        "\n",
        "    self.embedding = nn.Embedding(vocab_size, embeddingDIM, padding_idx=0)\n",
        "    self.lstm = nn.LSTM(embeddingDIM, hiddenDIM1, num_layers = n_layers, batch_first = True)\n",
        "    self.linear1 = nn.Linear(hiddenDIM1, hiddenDIM2)\n",
        "    self.linear2 = nn.Linear(hiddenDIM2, outputDIM)\n",
        "    self.dropout = nn.Dropout()\n",
        "\n",
        "  def forward(self, inputs, seqlengths):\n",
        "\n",
        "    # input size: (batchsize, longest_seq)\n",
        "    \n",
        "    # get embeddings for each sequence\n",
        "    embeds = self.embedding(inputs.long()).to(device)\n",
        "    # size after embedding: (batchsize, longest_seq, embed_dim)\n",
        "\n",
        "    # as sequences are padded, pack them\n",
        "    inputs = pack_padded_sequence(embeds, seqlengths, \n",
        "              enforce_sorted=False, batch_first=True)\n",
        "    # size after packing: (sum(seqlengths), embed_dim)\n",
        "\n",
        "    # as we leave the second argument empty, the hidden states are\n",
        "    # initialized to zero - and also reset after every batch\n",
        "    packed_output, (hidden, cell) = self.lstm(inputs)\n",
        "    # packed output size: (sum(seqlengths), hidden_dim)\n",
        "    # hidden size: (n_layers, batchsize, hidden_dim)\n",
        "\n",
        "    # need hidden state from last layer\n",
        "    lastState = hidden[-1]\n",
        "\n",
        "    # linear layer\n",
        "    output = self.dropout(F.relu(self.linear1(lastState)))\n",
        "    output = self.linear2(output)\n",
        "\n",
        "    return output"
      ],
      "execution_count": 0,
      "outputs": []
    },
    {
      "cell_type": "markdown",
      "metadata": {
        "id": "ahrptZT04nVQ",
        "colab_type": "text"
      },
      "source": [
        "### Keeping pre-training embeddings fixed"
      ]
    },
    {
      "cell_type": "code",
      "metadata": {
        "id": "F-2riNIlyJzb",
        "colab_type": "code",
        "colab": {}
      },
      "source": [
        "torch.manual_seed(42)\n",
        "model = LSTM(300, 300, 100, 5, 1, len(vocab)).to(device) \n",
        "model.embedding.weight.data.copy_(torch.from_numpy(weights_matrix))\n",
        "model.embedding.weight.requires_grad = False\n",
        "optimizer = optim.Adam(model.parameters(), lr = 6e-4)\n",
        "scheduler = optim.lr_scheduler.StepLR(optimizer, step_size=3, gamma=0.1) \n",
        "loss = nn.CrossEntropyLoss()"
      ],
      "execution_count": 0,
      "outputs": []
    },
    {
      "cell_type": "code",
      "metadata": {
        "id": "PxgqTWCCyF7i",
        "colab_type": "code",
        "outputId": "aaa03e4f-04c5-4379-c97e-27bd6a501702",
        "colab": {
          "base_uri": "https://localhost:8080/",
          "height": 440
        }
      },
      "source": [
        "trainLossVec, valLossVec, trainAccuracyVec, valAccuracyVec, bestEpoch = train(model, loss, optimizer, \n",
        "                  scheduler, 15, training_generator, val_generator, training_eval, verbose = True)"
      ],
      "execution_count": 43,
      "outputs": [
        {
          "output_type": "stream",
          "text": [
            "Summary of model\n",
            "\n",
            "LSTM(\n",
            "  (embedding): Embedding(12134, 300, padding_idx=0)\n",
            "  (lstm): LSTM(300, 300, batch_first=True)\n",
            "  (linear1): Linear(in_features=300, out_features=100, bias=True)\n",
            "  (linear2): Linear(in_features=100, out_features=5, bias=True)\n",
            "  (dropout): Dropout(p=0.5, inplace=False)\n",
            ")\n",
            "\n",
            "\n",
            "Epoch: 1 \t Loss (train): 0.883 (val): 0.901 \tAcc (train) 0.630 (val): 0.623\n",
            "Epoch: 2 \t Loss (train): 0.805 (val): 0.849 \tAcc (train) 0.662 (val): 0.649\n",
            "Epoch: 3 \t Loss (train): 0.739 (val): 0.821 \tAcc (train) 0.689 (val): 0.663\n",
            "Epoch: 4 \t Loss (train): 0.701 (val): 0.813 \tAcc (train) 0.704 (val): 0.671\n",
            "Epoch: 5 \t Loss (train): 0.687 (val): 0.813 \tAcc (train) 0.710 (val): 0.672\n",
            "Epoch: 6 \t Loss (train): 0.673 (val): 0.811 \tAcc (train) 0.716 (val): 0.673\n",
            "Epoch: 7 \t Loss (train): 0.669 (val): 0.806 \tAcc (train) 0.718 (val): 0.673\n",
            "Epoch: 8 \t Loss (train): 0.668 (val): 0.806 \tAcc (train) 0.718 (val): 0.673\n",
            "Epoch: 9 \t Loss (train): 0.667 (val): 0.805 \tAcc (train) 0.719 (val): 0.673\n",
            "Epoch: 10 \t Loss (train): 0.666 (val): 0.805 \tAcc (train) 0.720 (val): 0.673\n",
            "Epoch: 11 \t Loss (train): 0.666 (val): 0.805 \tAcc (train) 0.720 (val): 0.673\n",
            "Epoch: 12 \t Loss (train): 0.666 (val): 0.805 \tAcc (train) 0.720 (val): 0.673\n",
            "Epoch: 13 \t Loss (train): 0.666 (val): 0.805 \tAcc (train) 0.720 (val): 0.673\n",
            "Epoch: 14 \t Loss (train): 0.666 (val): 0.805 \tAcc (train) 0.720 (val): 0.673\n",
            "Epoch: 15 \t Loss (train): 0.666 (val): 0.805 \tAcc (train) 0.720 (val): 0.673\n"
          ],
          "name": "stdout"
        }
      ]
    },
    {
      "cell_type": "code",
      "metadata": {
        "id": "tppt3PZh0Jsx",
        "colab_type": "code",
        "outputId": "43cefd7f-61a5-4761-8cc7-798919cdb262",
        "colab": {
          "base_uri": "https://localhost:8080/",
          "height": 336
        }
      },
      "source": [
        "matplotlib.rcParams['axes.spines.top'] = False\n",
        "matplotlib.rcParams['axes.spines.right'] = False\n",
        "\n",
        "fig, (ax1, ax2) = plt.subplots(1, 2, figsize=(12,5))\n",
        "\n",
        "ax1.plot(range(len(valAccuracyVec)), valAccuracyVec, label = \"Validation\")\n",
        "ax1.plot(range(len(trainAccuracyVec)), trainAccuracyVec, label = \"Train\")\n",
        "ax1.grid(True, alpha=0.4)\n",
        "ax1.set_title(\"Accuracy\")\n",
        "ax1.legend()\n",
        "ax2.plot(range(len(valLossVec)), valLossVec, label = \"Validation\")\n",
        "ax2.plot(range(len(trainLossVec)), trainLossVec, label = \"Train\")\n",
        "ax2.grid(True, alpha=0.4)\n",
        "ax2.set_title(\"Loss\")\n",
        "ax2.legend()\n",
        "plt.show()"
      ],
      "execution_count": 44,
      "outputs": [
        {
          "output_type": "display_data",
          "data": {
            "image/png": "[encoded data removed]",
            "text/plain": [
              "<Figure size 864x360 with 2 Axes>"
            ]
          },
          "metadata": {
            "tags": [],
            "needs_background": "light"
          }
        }
      ]
    },
    {
      "cell_type": "markdown",
      "metadata": {
        "id": "HkKN-pzz4qLM",
        "colab_type": "text"
      },
      "source": [
        "### Fine-tuning pre-trained embeddings"
      ]
    },
    {
      "cell_type": "code",
      "metadata": {
        "id": "SzEVYErGGgav",
        "colab_type": "code",
        "colab": {}
      },
      "source": [
        "torch.manual_seed(42)\n",
        "model = LSTM(300, 300, 100, 5, 1, len(vocab)).to(device) \n",
        "model.embedding.weight.data.copy_(torch.from_numpy(weights_matrix))\n",
        "optimizer = optim.Adam([\n",
        "                {'params': [model.lstm.weight_ih_l0,\n",
        "    model.lstm.weight_hh_l0, model.lstm.bias_ih_l0,\n",
        "    model.lstm.bias_hh_l0, model.linear1.weight,\n",
        "    model.linear1.bias, model.linear2.weight,\n",
        "    model.linear2.bias], 'lr': 6e-4},\n",
        "                {'params': model.embedding.weight, 'lr': 5e-6}\n",
        "            ])\n",
        "scheduler = optim.lr_scheduler.StepLR(optimizer, step_size=3, gamma=0.1) \n",
        "loss = nn.CrossEntropyLoss()"
      ],
      "execution_count": 0,
      "outputs": []
    },
    {
      "cell_type": "code",
      "metadata": {
        "id": "KO3zSjgaG6NC",
        "colab_type": "code",
        "outputId": "45773a1e-e0ef-45c6-89fc-f552673ae2d9",
        "colab": {
          "base_uri": "https://localhost:8080/",
          "height": 440
        }
      },
      "source": [
        "trainLossVec, valLossVec, trainAccuracyVec, valAccuracyVec, bestEpoch = train(model, loss, optimizer, \n",
        "                  scheduler, 15, training_generator, val_generator, training_eval, verbose = True)"
      ],
      "execution_count": 46,
      "outputs": [
        {
          "output_type": "stream",
          "text": [
            "Summary of model\n",
            "\n",
            "LSTM(\n",
            "  (embedding): Embedding(12134, 300, padding_idx=0)\n",
            "  (lstm): LSTM(300, 300, batch_first=True)\n",
            "  (linear1): Linear(in_features=300, out_features=100, bias=True)\n",
            "  (linear2): Linear(in_features=100, out_features=5, bias=True)\n",
            "  (dropout): Dropout(p=0.5, inplace=False)\n",
            ")\n",
            "\n",
            "\n",
            "Epoch: 1 \t Loss (train): 0.880 (val): 0.898 \tAcc (train) 0.630 (val): 0.626\n",
            "Epoch: 2 \t Loss (train): 0.802 (val): 0.846 \tAcc (train) 0.663 (val): 0.650\n",
            "Epoch: 3 \t Loss (train): 0.736 (val): 0.819 \tAcc (train) 0.691 (val): 0.664\n",
            "Epoch: 4 \t Loss (train): 0.699 (val): 0.812 \tAcc (train) 0.705 (val): 0.669\n",
            "Epoch: 5 \t Loss (train): 0.685 (val): 0.813 \tAcc (train) 0.710 (val): 0.672\n",
            "Epoch: 6 \t Loss (train): 0.671 (val): 0.811 \tAcc (train) 0.716 (val): 0.674\n",
            "Epoch: 7 \t Loss (train): 0.667 (val): 0.806 \tAcc (train) 0.719 (val): 0.675\n",
            "Epoch: 8 \t Loss (train): 0.666 (val): 0.806 \tAcc (train) 0.719 (val): 0.675\n",
            "Epoch: 9 \t Loss (train): 0.664 (val): 0.806 \tAcc (train) 0.720 (val): 0.675\n",
            "Epoch: 10 \t Loss (train): 0.664 (val): 0.805 \tAcc (train) 0.720 (val): 0.675\n",
            "Epoch: 11 \t Loss (train): 0.664 (val): 0.805 \tAcc (train) 0.720 (val): 0.675\n",
            "Epoch: 12 \t Loss (train): 0.664 (val): 0.805 \tAcc (train) 0.720 (val): 0.675\n",
            "Epoch: 13 \t Loss (train): 0.664 (val): 0.805 \tAcc (train) 0.720 (val): 0.676\n",
            "Epoch: 14 \t Loss (train): 0.664 (val): 0.805 \tAcc (train) 0.720 (val): 0.676\n",
            "Epoch: 15 \t Loss (train): 0.664 (val): 0.805 \tAcc (train) 0.720 (val): 0.676\n"
          ],
          "name": "stdout"
        }
      ]
    }
  ]
}