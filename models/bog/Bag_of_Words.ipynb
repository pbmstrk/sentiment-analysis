{
  "nbformat": 4,
  "nbformat_minor": 0,
  "metadata": {
    "accelerator": "GPU",
    "colab": {
      "name": "Copy of Copy of Bag_of_Words.ipynb",
      "provenance": [],
      "collapsed_sections": [],
      "toc_visible": true
    },
    "kernelspec": {
      "name": "python3",
      "display_name": "Python 3"
    },
    "language_info": {
      "codemirror_mode": {
        "name": "ipython",
        "version": 3
      },
      "file_extension": ".py",
      "mimetype": "text/x-python",
      "name": "python",
      "nbconvert_exporter": "python",
      "pygments_lexer": "ipython3",
      "version": "3.7.3"
    }
  },
  "cells": [
    {
      "cell_type": "markdown",
      "metadata": {
        "colab_type": "text",
        "id": "mYbj7WHxZCWc"
      },
      "source": [
        "# Sentiment Analysis: Bag-of-Words (PyTorch)\n",
        "\n",
        "---\n",
        "\n",
        "\n",
        "\n",
        "\n"
      ]
    },
    {
      "cell_type": "markdown",
      "metadata": {
        "id": "UB-v_PAQWrJD",
        "colab_type": "text"
      },
      "source": [
        "The notebook is roughly divided into two sections: pre-processing and the actual model.\n",
        "\n",
        "## Setup and downloading data\n",
        "\n",
        "We use the Kaggle API to download the data. \n",
        "\n",
        "**N.B.** If you want to run the notebook you need to upload a `kaggle.json` file which contains your API credentials. Instructions for downloading the file from Kaggle can be found [here](https://github.com/Kaggle/kaggle-api)."
      ]
    },
    {
      "cell_type": "code",
      "metadata": {
        "id": "hG0htS1U6osw",
        "colab_type": "code",
        "colab": {}
      },
      "source": [
        "# install the kaggle API\n",
        "pip install kaggle -q"
      ],
      "execution_count": 0,
      "outputs": []
    },
    {
      "cell_type": "code",
      "metadata": {
        "colab_type": "code",
        "id": "UuOF6emZFysw",
        "colab": {}
      },
      "source": [
        "# data wrangling\n",
        "import pandas as pd\n",
        "import numpy as np\n",
        "from sklearn.model_selection import train_test_split\n",
        "\n",
        "# language model \n",
        "import spacy\n",
        "spacy_en = spacy.load('en')\n",
        "\n",
        "# pytorch\n",
        "import torch\n",
        "import torch.nn as nn\n",
        "import torch.nn.functional as F\n",
        "import torch.optim as optim\n",
        "from torch.utils import data\n",
        "\n",
        "from collections import Counter\n",
        "import copy\n",
        "import re\n",
        "import matplotlib.pyplot as plt\n",
        "import matplotlib "
      ],
      "execution_count": 0,
      "outputs": []
    },
    {
      "cell_type": "code",
      "metadata": {
        "id": "Q79QeYfz6TU-",
        "colab_type": "code",
        "colab": {}
      },
      "source": [
        "torch.backends.cudnn.deterministic = True"
      ],
      "execution_count": 0,
      "outputs": []
    },
    {
      "cell_type": "code",
      "metadata": {
        "colab_type": "code",
        "id": "CNTJbs7iRrsR",
        "outputId": "0a6d5d8d-489f-4f0d-8d13-2e26e2893ca9",
        "colab": {
          "base_uri": "https://localhost:8080/",
          "height": 33
        }
      },
      "source": [
        "device = torch.device(\"cuda\" if torch.cuda.is_available() else \"cpu\")\n",
        "device"
      ],
      "execution_count": 4,
      "outputs": [
        {
          "output_type": "execute_result",
          "data": {
            "text/plain": [
              "device(type='cuda')"
            ]
          },
          "metadata": {
            "tags": []
          },
          "execution_count": 4
        }
      ]
    },
    {
      "cell_type": "code",
      "metadata": {
        "id": "lITfFTkL6taS",
        "colab_type": "code",
        "outputId": "3590c94d-caaa-44d1-a72f-99c23c92387d",
        "colab": {
          "resources": {
            "http://localhost:8080/nbextensions/google.colab/files.js": {
              "data": "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",
              "ok": true,
              "headers": [
                [
                  "content-type",
                  "application/javascript"
                ]
              ],
              "status": 200,
              "status_text": ""
            }
          },
          "base_uri": "https://localhost:8080/",
          "height": 70
        }
      },
      "source": [
        "# upload kaggle.json file\n",
        "from google.colab import files\n",
        "uploaded = files.upload()"
      ],
      "execution_count": 5,
      "outputs": [
        {
          "output_type": "display_data",
          "data": {
            "text/html": [
              "\n",
              "     <input type=\"file\" id=\"files-11c8629d-a0e1-4950-bf5b-282f8d786014\" name=\"files[]\" multiple disabled />\n",
              "     <output id=\"result-11c8629d-a0e1-4950-bf5b-282f8d786014\">\n",
              "      Upload widget is only available when the cell has been executed in the\n",
              "      current browser session. Please rerun this cell to enable.\n",
              "      </output>\n",
              "      <script src=\"/nbextensions/google.colab/files.js\"></script> "
            ],
            "text/plain": [
              "<IPython.core.display.HTML object>"
            ]
          },
          "metadata": {
            "tags": []
          }
        },
        {
          "output_type": "stream",
          "text": [
            "Saving kaggle.json to kaggle.json\n"
          ],
          "name": "stdout"
        }
      ]
    },
    {
      "cell_type": "code",
      "metadata": {
        "id": "MPDGQL0L6xg0",
        "colab_type": "code",
        "colab": {}
      },
      "source": [
        "!mkdir -p ~/.kaggle\n",
        "!cp kaggle.json ~/.kaggle/\n",
        "!chmod 600 ~/.kaggle/kaggle.json"
      ],
      "execution_count": 0,
      "outputs": []
    },
    {
      "cell_type": "code",
      "metadata": {
        "id": "iwgL3sGE6zjS",
        "colab_type": "code",
        "outputId": "791e9fb4-4f35-404b-d156-efe5e8dcb9b6",
        "colab": {
          "base_uri": "https://localhost:8080/",
          "height": 212
        }
      },
      "source": [
        "# download the dataset and unzip\n",
        "!kaggle competitions download sentiment-analysis-on-movie-reviews\n",
        "!unzip train.tsv.zip"
      ],
      "execution_count": 7,
      "outputs": [
        {
          "output_type": "stream",
          "text": [
            "Warning: Looks like you're using an outdated API Version, please consider updating (server 1.5.6 / client 1.5.4)\n",
            "Downloading sampleSubmission.csv to /content\n",
            "  0% 0.00/583k [00:00<?, ?B/s]\n",
            "100% 583k/583k [00:00<00:00, 37.3MB/s]\n",
            "Downloading train.tsv.zip to /content\n",
            "  0% 0.00/1.28M [00:00<?, ?B/s]\n",
            "100% 1.28M/1.28M [00:00<00:00, 86.6MB/s]\n",
            "Downloading test.tsv.zip to /content\n",
            "  0% 0.00/494k [00:00<?, ?B/s]\n",
            "100% 494k/494k [00:00<00:00, 69.1MB/s]\n",
            "Archive:  train.tsv.zip\n",
            "  inflating: train.tsv               \n"
          ],
          "name": "stdout"
        }
      ]
    },
    {
      "cell_type": "markdown",
      "metadata": {
        "colab_type": "text",
        "id": "wlzIl7xMrY51"
      },
      "source": [
        "## Pre-processing \n",
        "\n",
        "The model cannot accept strings as input, thus in this section we convert each element of the dataset into an integer-encoded vector."
      ]
    },
    {
      "cell_type": "markdown",
      "metadata": {
        "id": "xZI8hXWE7e9U",
        "colab_type": "text"
      },
      "source": [
        "###  Text processing\n",
        "\n",
        "Descriptions:\n",
        "- `tokenizer`: function that takes as input a string of text and returns a list of tokens \n",
        "- `Vocabularly`: class that stores the vocab found in the dataset and creates a mapping from token to integer"
      ]
    },
    {
      "cell_type": "code",
      "metadata": {
        "colab_type": "code",
        "id": "pZuiHLj2WHBy",
        "colab": {}
      },
      "source": [
        "def tokenizer(text): \n",
        "    text = text.lower()\n",
        "    text = re.sub(\"-rrb-\",\"\", text)\n",
        "    text = re.sub(\"-lrb-\",\"\", text)\n",
        "    tokens = spacy_en.tokenizer(text)\n",
        "    #tokens = [tok for tok in tokens if tok.is_stop == False]\n",
        "    tokens = [tok.lemma_ for tok in tokens]\n",
        "    return tokens"
      ],
      "execution_count": 0,
      "outputs": []
    },
    {
      "cell_type": "code",
      "metadata": {
        "colab_type": "code",
        "id": "_l0ennpbrfrl",
        "colab": {}
      },
      "source": [
        "class Vocabulary:\n",
        "      \n",
        "    def __init__(self, vocabCount, min_freq):\n",
        "        \n",
        "        # N.B. normally 0 would always correspond to a padding token,\n",
        "        # however with our implementation we don't need padding,\n",
        "        # and as such it can be used as an UNK token\n",
        "\n",
        "        # UNK tokens (don't need pad token for bag-of-words)\n",
        "        self.UNK_token = 0\n",
        "        self.vocabCount = vocabCount\n",
        "        self.min_freq = min_freq\n",
        "        # initialize list of words and vocab dictionary\n",
        "        self.wordlist = [\"<unk>\"]\n",
        "        self.word2index = {}\n",
        "        # build vocab\n",
        "        self.build_vocab(vocabCount)\n",
        "\n",
        "    def __len__(self):\n",
        "        return len(self.word2index)\n",
        "\n",
        "    def __getitem__(self, word):\n",
        "        return self.word2index.get(word, 0)\n",
        "\n",
        "    def __iter__(self):\n",
        "        return iter(vocab.word2index)\n",
        "\n",
        "    def build_vocab(self, vocabCount):\n",
        "        # sort vocab s.t. words that occur most frequently added first\n",
        "        svocabCount = {k: v for k, v in reversed(sorted(vocabCount.items(), \n",
        "                                                      key=lambda item: item[1]))}\n",
        "        \n",
        "        for word in svocabCount:\n",
        "            if svocabCount[word] >= self.min_freq:\n",
        "                self.wordlist.append(word)\n",
        "        self.word2index.update({tok: i for i, tok in enumerate(self.wordlist)})"
      ],
      "execution_count": 0,
      "outputs": []
    },
    {
      "cell_type": "markdown",
      "metadata": {
        "colab_type": "text",
        "id": "X7x1zIbDX9Dy"
      },
      "source": [
        "### Loading and processing data"
      ]
    },
    {
      "cell_type": "code",
      "metadata": {
        "colab_type": "code",
        "id": "0vxFaGmkGHpF",
        "colab": {}
      },
      "source": [
        "train_data = pd.read_csv('/content/train.tsv', sep=\"\\t\", \n",
        "                         encoding=\"utf_8_sig\")\n",
        "\n",
        "phrases = np.array(train_data.iloc[:, 2])\n",
        "target = np.array(train_data.iloc[:, 3])\n",
        "\n",
        "# create train and validation sets\n",
        "X_train , X_val, y_train , y_val = train_test_split(phrases, target, \n",
        "                                                    test_size = 0.2, random_state=42)\n",
        "\n",
        "# create validation and test sets\n",
        "X_val , X_test, y_val , y_test = train_test_split(X_val, y_val, \n",
        "                                                    test_size = 0.4, random_state=42)"
      ],
      "execution_count": 0,
      "outputs": []
    },
    {
      "cell_type": "markdown",
      "metadata": {
        "colab_type": "text",
        "id": "dQMnv1F1ZoPh"
      },
      "source": [
        "Convert each string into a list of words, using `tokenizer` function."
      ]
    },
    {
      "cell_type": "code",
      "metadata": {
        "colab_type": "code",
        "id": "BU8Ue_D6MiA6",
        "colab": {}
      },
      "source": [
        "X_train = [tokenizer(phrase) for phrase in X_train]\n",
        "X_val = [tokenizer(phrase) for phrase in X_val]\n",
        "X_test = [tokenizer(phrase) for phrase in X_test]"
      ],
      "execution_count": 0,
      "outputs": []
    },
    {
      "cell_type": "code",
      "metadata": {
        "colab_type": "code",
        "id": "IU3QVOq-OdVU",
        "outputId": "304d52f2-b031-4653-efd5-57403cc99e5f",
        "colab": {
          "base_uri": "https://localhost:8080/",
          "height": 66
        }
      },
      "source": [
        "print(\"Length of train dataset: {} \\nLength of validation dataset: {} \\nLength of test dataset: {}\".format(len(X_train), len(X_val), len(X_test)))"
      ],
      "execution_count": 12,
      "outputs": [
        {
          "output_type": "stream",
          "text": [
            "Length of train dataset: 124848 \n",
            "Length of validation dataset: 18727 \n",
            "Length of test dataset: 12485\n"
          ],
          "name": "stdout"
        }
      ]
    },
    {
      "cell_type": "markdown",
      "metadata": {
        "colab_type": "text",
        "id": "P7kkx0UzfFre"
      },
      "source": [
        "### Creating vocabularly"
      ]
    },
    {
      "cell_type": "code",
      "metadata": {
        "colab_type": "code",
        "id": "hmPXl7aGNBh4",
        "colab": {}
      },
      "source": [
        "# go through each token in training set and add to dictionary\n",
        "vocabCount = Counter([item for sublist in X_train for item in sublist])"
      ],
      "execution_count": 0,
      "outputs": []
    },
    {
      "cell_type": "code",
      "metadata": {
        "colab_type": "code",
        "id": "-VSpYtzQlv-e",
        "colab": {}
      },
      "source": [
        "# use dictionary to build vocab\n",
        "vocab = Vocabulary(vocabCount, 1)"
      ],
      "execution_count": 0,
      "outputs": []
    },
    {
      "cell_type": "markdown",
      "metadata": {
        "colab_type": "text",
        "id": "_vsCWWRjZkpV"
      },
      "source": [
        "### Converting tokens to integers"
      ]
    },
    {
      "cell_type": "code",
      "metadata": {
        "colab_type": "code",
        "id": "S3qO5seuNUhu",
        "colab": {}
      },
      "source": [
        "X_trainNum = [torch.tensor([vocab[word] for word in phrase]) for phrase in X_train]\n",
        "X_valNum = [torch.tensor([vocab[word] for word in phrase]) for phrase in X_val]\n",
        "X_testNum = [torch.tensor([vocab[word] for word in phrase]) for phrase in X_test]"
      ],
      "execution_count": 0,
      "outputs": []
    },
    {
      "cell_type": "markdown",
      "metadata": {
        "id": "GrV5nB4PU3f2",
        "colab_type": "text"
      },
      "source": [
        "Our pre-processing might have resulted in some now empty lists. These can cause problems later so we just fil them with padding (another possibility would be to remove these examples as they contain no useful information)."
      ]
    },
    {
      "cell_type": "code",
      "metadata": {
        "colab_type": "code",
        "id": "H92tsfWHszGf",
        "outputId": "03bd0568-1395-421a-af48-02e8ca0d0654",
        "colab": {
          "base_uri": "https://localhost:8080/",
          "height": 50
        }
      },
      "source": [
        "# make sure each tensor actually has values\n",
        "for i, el in enumerate(X_trainNum):\n",
        "    if el.nelement() == 0:\n",
        "        print(i)\n",
        "        X_trainNum[i] = torch.tensor([0]).long()\n",
        "\n",
        "# make sure each tensor actually has values\n",
        "for i, el in enumerate(X_valNum):\n",
        "    if el.nelement() == 0:\n",
        "        print(i)\n",
        "        X_valNum[i] = torch.tensor([0]).long()\n",
        "\n",
        "# make sure each tensor actually has values\n",
        "for i, el in enumerate(X_testNum):\n",
        "    if el.nelement() == 0:\n",
        "        print(i)\n",
        "        X_testNum[i] = torch.tensor([0]).long()"
      ],
      "execution_count": 16,
      "outputs": [
        {
          "output_type": "stream",
          "text": [
            "43785\n",
            "7117\n"
          ],
          "name": "stdout"
        }
      ]
    },
    {
      "cell_type": "markdown",
      "metadata": {
        "colab_type": "text",
        "id": "ZPRCHd-bZ4Jp"
      },
      "source": [
        "##  Bag of vectors \n",
        "\n",
        "We convert each word in a sentence into an embedding, as each sentence may have a different number of words, we use a pooling operation to convert the variable number of word embeddings into a fixed representation. Options for the pooling operation are `mean`, `sum` and a variety of elementwise operations.\n",
        "\n",
        "Thus, in our model we simply have an embedding layer and a pooling operation, we then feed the resulting representation into an MLP. In PyTorch, there is a function `EmbeddingBag` that implements the embedding and pooling/reduction."
      ]
    },
    {
      "cell_type": "markdown",
      "metadata": {
        "colab_type": "text",
        "id": "EozVu_o0n_3n"
      },
      "source": [
        "### Custom dataset class and batching function"
      ]
    },
    {
      "cell_type": "code",
      "metadata": {
        "colab_type": "code",
        "id": "bcIU7hCQaRc0",
        "colab": {}
      },
      "source": [
        "class WordDataset(data.Dataset):\n",
        "    \n",
        "    def __init__(self, X, y):\n",
        "        self.X = X\n",
        "        self.y = y\n",
        "        \n",
        "    def __len__(self):\n",
        "        return len(self.y)\n",
        "    \n",
        "    def __getitem__(self, idx):  \n",
        "        X = self.X[idx]\n",
        "        Y = self.y[idx]\n",
        "        return X, Y"
      ],
      "execution_count": 0,
      "outputs": []
    },
    {
      "cell_type": "markdown",
      "metadata": {
        "id": "RwFJvtSlXiJN",
        "colab_type": "text"
      },
      "source": [
        "The `generate_batch` function processes each batch that is returned by the DataLoader."
      ]
    },
    {
      "cell_type": "code",
      "metadata": {
        "colab_type": "code",
        "id": "kqC2vHYjaRha",
        "colab": {}
      },
      "source": [
        "def generate_batch(batch):\n",
        "    \n",
        "    # get data and targets from batch\n",
        "    data = [item[0] for item in batch]\n",
        "    targets = [item[1] for item in batch]\n",
        "    lengths = [len(el) for el in data]\n",
        "    offsets = np.cumsum(lengths)\n",
        "    offsets = np.concatenate([[0], offsets[:-1]])\n",
        "  \n",
        "    return torch.LongTensor(torch.cat(data).long()), torch.Tensor(targets).long(), torch.LongTensor(offsets)"
      ],
      "execution_count": 0,
      "outputs": []
    },
    {
      "cell_type": "code",
      "metadata": {
        "colab_type": "code",
        "id": "dYnatxHhoYPX",
        "colab": {}
      },
      "source": [
        "trainingset = WordDataset(X_trainNum, y_train)\n",
        "valset = WordDataset(X_valNum, y_val)\n",
        "testset = WordDataset(X_testNum, y_test)"
      ],
      "execution_count": 0,
      "outputs": []
    },
    {
      "cell_type": "code",
      "metadata": {
        "colab_type": "code",
        "id": "kTEWQ12eobmj",
        "colab": {}
      },
      "source": [
        "training_generator = data.DataLoader(trainingset, batch_size=64, collate_fn=generate_batch)\n",
        "val_generator = data.DataLoader(valset, batch_size=len(y_val), collate_fn=generate_batch)\n",
        "test_generator = data.DataLoader(testset, batch_size=len(y_test), collate_fn=generate_batch)"
      ],
      "execution_count": 0,
      "outputs": []
    },
    {
      "cell_type": "code",
      "metadata": {
        "colab_type": "code",
        "id": "wkmdPpexrKcK",
        "colab": {}
      },
      "source": [
        "training_eval = data.DataLoader(trainingset, batch_size=1024, collate_fn = generate_batch)"
      ],
      "execution_count": 0,
      "outputs": []
    },
    {
      "cell_type": "markdown",
      "metadata": {
        "colab_type": "text",
        "id": "5zqHrSFkoFp5"
      },
      "source": [
        "### Training function"
      ]
    },
    {
      "cell_type": "code",
      "metadata": {
        "colab_type": "code",
        "id": "W3hSRCvPoWTo",
        "colab": {}
      },
      "source": [
        "def train(m, lossFun, optim, scheduler, epochs, train_loader, val_loader, train_eval,\n",
        "          saveModel = False, verbose=False):\n",
        "\n",
        "    print(\"Summary of model\\n\")\n",
        "    print(m)\n",
        "    print(\"\\n\")\n",
        "\n",
        "    # initialize lists to store loss and accuracy\n",
        "    trainLossVec , valLossVec, trainAccuracyVec, valAccuracyVec = [], [], [], []\n",
        "    bestLoss, bestEpoch = 100, 0\n",
        "\n",
        "    for epoch in range(epochs):\n",
        "\n",
        "        # Set model to training mode\n",
        "        m.train()\n",
        "    \n",
        "        # Loop over each batch from the training set\n",
        "        for batch_idx, (inputs, targets, offsets) in enumerate(train_loader):\n",
        "            \n",
        "            # Zero gradient buffers\n",
        "            optim.zero_grad()\n",
        "            # Foward pass and compute loss on batch\n",
        "            outputs = m(inputs.to(device), offsets.to(device))\n",
        "            batchloss = lossFun(outputs, targets.to(device))\n",
        "            # Backpropagate and update weights\n",
        "            batchloss.backward()\n",
        "            # gradient clipping\n",
        "            #torch.nn.utils.clip_grad_norm_(m.parameters(), 1., norm_type=2)\n",
        "            # optimizer step\n",
        "            optim.step()\n",
        "    \n",
        "        # set model to evaluation mode\n",
        "        m.eval()\n",
        "        with torch.no_grad():\n",
        "\n",
        "            # evaluate model on training and validation data\n",
        "            train_metrics = evaluate(m, train_eval, lossFun)\n",
        "            val_metrics = evaluate(m, val_loader, lossFun)\n",
        "            # update accuracy\n",
        "            trainAccuracyVec.append(train_metrics[\"acc\"])\n",
        "            valAccuracyVec.append(val_metrics[\"acc\"])\n",
        "            # update loss\n",
        "            trainLossVec.append(train_metrics[\"loss\"])\n",
        "            valLossVec.append(val_metrics[\"loss\"])\n",
        "\n",
        "            # opportunity to not include a scheduler\n",
        "            if scheduler != None:\n",
        "                scheduler.step()\n",
        "    \n",
        "            # check if new best for validation accuracy\n",
        "            if valLossVec[-1] < bestLoss:\n",
        "                bestLoss = valLossVec[-1]\n",
        "                bestEpoch = epoch\n",
        "                if saveModel == True:\n",
        "                    torch.save(m.state_dict(), \"bestModel.pt\")\n",
        "                    print(\"New best value for validation loss: Saved model to bestModel.pt\")\n",
        "            \n",
        "            # print information about training progress\n",
        "            if verbose == True:\n",
        "                print((\"Epoch: {} \\t Loss (train): {:.3f} (val): {:.3f} \\t\" +\n",
        "              \"Acc (train) {:.3f} (val): {:.3f}\").format(epoch + 1,\n",
        "                            trainLossVec[-1], valLossVec[-1], trainAccuracyVec[-1], valAccuracyVec[-1]))\n",
        "            # clean up\n",
        "            del inputs, targets, outputs\n",
        "\n",
        "    return trainLossVec, valLossVec, trainAccuracyVec, valAccuracyVec, bestEpoch"
      ],
      "execution_count": 0,
      "outputs": []
    },
    {
      "cell_type": "markdown",
      "metadata": {
        "id": "B42TNO0AVTZY",
        "colab_type": "text"
      },
      "source": [
        "### Evaluation functions"
      ]
    },
    {
      "cell_type": "code",
      "metadata": {
        "id": "qZG5UylwwU3G",
        "colab_type": "code",
        "colab": {}
      },
      "source": [
        "def eval_batch(model, batch, lossFun):\n",
        "\n",
        "  inputs, targets, offsets = batch\n",
        "  model.eval()\n",
        "  with torch.no_grad():\n",
        "    batchsize = len(targets)\n",
        "    logits = model(inputs.to(device), offsets.to(device))\n",
        "    # for loss\n",
        "    lossVal = lossFun(logits, targets.to(device)).item() * batchsize\n",
        "    # for accuracy\n",
        "    _, pred = torch.max(logits.data, 1)\n",
        "    correct = (pred == targets.to(device)).sum().item()\n",
        "\n",
        "  return correct, lossVal"
      ],
      "execution_count": 0,
      "outputs": []
    },
    {
      "cell_type": "code",
      "metadata": {
        "id": "EJ_I0QdPxGzb",
        "colab_type": "code",
        "colab": {}
      },
      "source": [
        "def evaluate(model, dataLoader, lossFun):\n",
        "\n",
        "  correct = 0\n",
        "  loss = 0\n",
        "  total = 0\n",
        "  for batch in dataLoader:\n",
        "    c, l = eval_batch(model, batch, lossFun)\n",
        "    correct += c\n",
        "    loss += l\n",
        "    total += batch[1].shape[0]\n",
        "\n",
        "  acc = correct/total\n",
        "  loss = loss/total\n",
        "  return {\"acc\": acc, \"loss\": loss}"
      ],
      "execution_count": 0,
      "outputs": []
    },
    {
      "cell_type": "markdown",
      "metadata": {
        "colab_type": "text",
        "id": "t1GjUttBspnL"
      },
      "source": [
        "### Model"
      ]
    },
    {
      "cell_type": "code",
      "metadata": {
        "colab_type": "code",
        "id": "g6IfM4wroJYp",
        "colab": {}
      },
      "source": [
        "class BagofVector(nn.Module):\n",
        "    \n",
        "    def __init__(self, embeddingDIM, hiddenDIM1, hiddenDIM2, \n",
        "               ouputDIM, vocab_size, pooling=\"sum\"):\n",
        "        \n",
        "        super(BagofVector, self).__init__()\n",
        "        self.embedding = nn.EmbeddingBag(vocab_size, embeddingDIM, mode=pooling)\n",
        "        self.linear1 = nn.Linear(embeddingDIM, hiddenDIM1)\n",
        "        self.linear2 = nn.Linear(hiddenDIM1, hiddenDIM2)\n",
        "        self.linear3 = nn.Linear(hiddenDIM2, ouputDIM)\n",
        "        self.dropout = nn.Dropout()\n",
        "        \n",
        "    def forward(self, inputs, offsets):\n",
        "\n",
        "        x = self.embedding(inputs, offsets)\n",
        "        x = self.dropout(F.relu(self.linear1(x)))\n",
        "        x = self.dropout(F.relu(self.linear2(x)))\n",
        "        x = self.linear3(x)\n",
        "        return x"
      ],
      "execution_count": 0,
      "outputs": []
    },
    {
      "cell_type": "code",
      "metadata": {
        "colab_type": "code",
        "id": "NZkxVZcQoWZS",
        "colab": {}
      },
      "source": [
        "torch.manual_seed(42)\n",
        "mlp = BagofVector(300, 128, 64, 5, len(vocab), \"sum\").to(device)\n",
        "optimizer = optim.Adam(mlp.parameters(), lr = 1e-4)\n",
        "scheduler = optim.lr_scheduler.StepLR(optimizer, step_size=5, gamma=0.8) \n",
        "loss = nn.CrossEntropyLoss()"
      ],
      "execution_count": 0,
      "outputs": []
    },
    {
      "cell_type": "code",
      "metadata": {
        "colab_type": "code",
        "id": "i0iL19ITozfr",
        "outputId": "a08011a1-77b7-44e8-afe0-4509c9812746",
        "colab": {
          "base_uri": "https://localhost:8080/",
          "height": 1000
        }
      },
      "source": [
        "trainLossVec, valLossVec, trainAccVec, valAccVec, bEpoch = train(mlp, loss, optimizer, scheduler, 50, \n",
        "                                      training_generator, val_generator, \n",
        "                                      training_eval, verbose=True, saveModel=True)"
      ],
      "execution_count": 33,
      "outputs": [
        {
          "output_type": "stream",
          "text": [
            "Summary of model\n",
            "\n",
            "BagofVector(\n",
            "  (embedding): EmbeddingBag(12133, 300, mode=sum)\n",
            "  (linear1): Linear(in_features=300, out_features=128, bias=True)\n",
            "  (linear2): Linear(in_features=128, out_features=64, bias=True)\n",
            "  (linear3): Linear(in_features=64, out_features=5, bias=True)\n",
            "  (dropout): Dropout(p=0.5, inplace=False)\n",
            ")\n",
            "\n",
            "\n",
            "New best value for validation loss: Saved model to bestModel.pt\n",
            "Epoch: 1 \t Loss (train): 1.238 (val): 1.250 \tAcc (train) 0.515 (val): 0.506\n",
            "New best value for validation loss: Saved model to bestModel.pt\n",
            "Epoch: 2 \t Loss (train): 1.186 (val): 1.204 \tAcc (train) 0.524 (val): 0.517\n",
            "New best value for validation loss: Saved model to bestModel.pt\n",
            "Epoch: 3 \t Loss (train): 1.136 (val): 1.160 \tAcc (train) 0.539 (val): 0.531\n",
            "New best value for validation loss: Saved model to bestModel.pt\n",
            "Epoch: 4 \t Loss (train): 1.085 (val): 1.118 \tAcc (train) 0.557 (val): 0.544\n",
            "New best value for validation loss: Saved model to bestModel.pt\n",
            "Epoch: 5 \t Loss (train): 1.040 (val): 1.081 \tAcc (train) 0.573 (val): 0.558\n",
            "New best value for validation loss: Saved model to bestModel.pt\n",
            "Epoch: 6 \t Loss (train): 1.005 (val): 1.054 \tAcc (train) 0.586 (val): 0.571\n",
            "New best value for validation loss: Saved model to bestModel.pt\n",
            "Epoch: 7 \t Loss (train): 0.975 (val): 1.030 \tAcc (train) 0.600 (val): 0.580\n",
            "New best value for validation loss: Saved model to bestModel.pt\n",
            "Epoch: 8 \t Loss (train): 0.948 (val): 1.009 \tAcc (train) 0.610 (val): 0.588\n",
            "New best value for validation loss: Saved model to bestModel.pt\n",
            "Epoch: 9 \t Loss (train): 0.925 (val): 0.991 \tAcc (train) 0.617 (val): 0.596\n",
            "New best value for validation loss: Saved model to bestModel.pt\n",
            "Epoch: 10 \t Loss (train): 0.902 (val): 0.975 \tAcc (train) 0.627 (val): 0.602\n",
            "New best value for validation loss: Saved model to bestModel.pt\n",
            "Epoch: 11 \t Loss (train): 0.886 (val): 0.964 \tAcc (train) 0.634 (val): 0.608\n",
            "New best value for validation loss: Saved model to bestModel.pt\n",
            "Epoch: 12 \t Loss (train): 0.870 (val): 0.952 \tAcc (train) 0.641 (val): 0.613\n",
            "New best value for validation loss: Saved model to bestModel.pt\n",
            "Epoch: 13 \t Loss (train): 0.857 (val): 0.944 \tAcc (train) 0.646 (val): 0.617\n",
            "New best value for validation loss: Saved model to bestModel.pt\n",
            "Epoch: 14 \t Loss (train): 0.844 (val): 0.935 \tAcc (train) 0.651 (val): 0.618\n",
            "New best value for validation loss: Saved model to bestModel.pt\n",
            "Epoch: 15 \t Loss (train): 0.832 (val): 0.927 \tAcc (train) 0.656 (val): 0.624\n",
            "New best value for validation loss: Saved model to bestModel.pt\n",
            "Epoch: 16 \t Loss (train): 0.821 (val): 0.921 \tAcc (train) 0.661 (val): 0.624\n",
            "New best value for validation loss: Saved model to bestModel.pt\n",
            "Epoch: 17 \t Loss (train): 0.812 (val): 0.916 \tAcc (train) 0.664 (val): 0.628\n",
            "New best value for validation loss: Saved model to bestModel.pt\n",
            "Epoch: 18 \t Loss (train): 0.805 (val): 0.911 \tAcc (train) 0.665 (val): 0.629\n",
            "New best value for validation loss: Saved model to bestModel.pt\n",
            "Epoch: 19 \t Loss (train): 0.796 (val): 0.907 \tAcc (train) 0.669 (val): 0.630\n",
            "New best value for validation loss: Saved model to bestModel.pt\n",
            "Epoch: 20 \t Loss (train): 0.788 (val): 0.902 \tAcc (train) 0.674 (val): 0.633\n",
            "New best value for validation loss: Saved model to bestModel.pt\n",
            "Epoch: 21 \t Loss (train): 0.782 (val): 0.899 \tAcc (train) 0.676 (val): 0.634\n",
            "New best value for validation loss: Saved model to bestModel.pt\n",
            "Epoch: 22 \t Loss (train): 0.776 (val): 0.896 \tAcc (train) 0.678 (val): 0.637\n",
            "New best value for validation loss: Saved model to bestModel.pt\n",
            "Epoch: 23 \t Loss (train): 0.771 (val): 0.892 \tAcc (train) 0.680 (val): 0.637\n",
            "New best value for validation loss: Saved model to bestModel.pt\n",
            "Epoch: 24 \t Loss (train): 0.764 (val): 0.889 \tAcc (train) 0.682 (val): 0.640\n",
            "New best value for validation loss: Saved model to bestModel.pt\n",
            "Epoch: 25 \t Loss (train): 0.759 (val): 0.887 \tAcc (train) 0.686 (val): 0.642\n",
            "New best value for validation loss: Saved model to bestModel.pt\n",
            "Epoch: 26 \t Loss (train): 0.754 (val): 0.885 \tAcc (train) 0.688 (val): 0.643\n",
            "New best value for validation loss: Saved model to bestModel.pt\n",
            "Epoch: 27 \t Loss (train): 0.750 (val): 0.883 \tAcc (train) 0.689 (val): 0.643\n",
            "New best value for validation loss: Saved model to bestModel.pt\n",
            "Epoch: 28 \t Loss (train): 0.746 (val): 0.882 \tAcc (train) 0.692 (val): 0.645\n",
            "New best value for validation loss: Saved model to bestModel.pt\n",
            "Epoch: 29 \t Loss (train): 0.742 (val): 0.880 \tAcc (train) 0.692 (val): 0.646\n",
            "New best value for validation loss: Saved model to bestModel.pt\n",
            "Epoch: 30 \t Loss (train): 0.739 (val): 0.879 \tAcc (train) 0.694 (val): 0.646\n",
            "New best value for validation loss: Saved model to bestModel.pt\n",
            "Epoch: 31 \t Loss (train): 0.735 (val): 0.878 \tAcc (train) 0.696 (val): 0.647\n",
            "New best value for validation loss: Saved model to bestModel.pt\n",
            "Epoch: 32 \t Loss (train): 0.732 (val): 0.877 \tAcc (train) 0.697 (val): 0.647\n",
            "New best value for validation loss: Saved model to bestModel.pt\n",
            "Epoch: 33 \t Loss (train): 0.729 (val): 0.874 \tAcc (train) 0.698 (val): 0.647\n",
            "New best value for validation loss: Saved model to bestModel.pt\n",
            "Epoch: 34 \t Loss (train): 0.726 (val): 0.874 \tAcc (train) 0.699 (val): 0.648\n",
            "New best value for validation loss: Saved model to bestModel.pt\n",
            "Epoch: 35 \t Loss (train): 0.724 (val): 0.872 \tAcc (train) 0.700 (val): 0.649\n",
            "Epoch: 36 \t Loss (train): 0.721 (val): 0.872 \tAcc (train) 0.701 (val): 0.649\n",
            "New best value for validation loss: Saved model to bestModel.pt\n",
            "Epoch: 37 \t Loss (train): 0.719 (val): 0.872 \tAcc (train) 0.702 (val): 0.650\n",
            "New best value for validation loss: Saved model to bestModel.pt\n",
            "Epoch: 38 \t Loss (train): 0.717 (val): 0.871 \tAcc (train) 0.703 (val): 0.651\n",
            "New best value for validation loss: Saved model to bestModel.pt\n",
            "Epoch: 39 \t Loss (train): 0.714 (val): 0.871 \tAcc (train) 0.704 (val): 0.650\n",
            "New best value for validation loss: Saved model to bestModel.pt\n",
            "Epoch: 40 \t Loss (train): 0.712 (val): 0.870 \tAcc (train) 0.704 (val): 0.651\n",
            "New best value for validation loss: Saved model to bestModel.pt\n",
            "Epoch: 41 \t Loss (train): 0.711 (val): 0.869 \tAcc (train) 0.705 (val): 0.652\n",
            "New best value for validation loss: Saved model to bestModel.pt\n",
            "Epoch: 42 \t Loss (train): 0.709 (val): 0.869 \tAcc (train) 0.706 (val): 0.652\n",
            "New best value for validation loss: Saved model to bestModel.pt\n",
            "Epoch: 43 \t Loss (train): 0.707 (val): 0.868 \tAcc (train) 0.707 (val): 0.652\n",
            "New best value for validation loss: Saved model to bestModel.pt\n",
            "Epoch: 44 \t Loss (train): 0.706 (val): 0.868 \tAcc (train) 0.707 (val): 0.653\n",
            "New best value for validation loss: Saved model to bestModel.pt\n",
            "Epoch: 45 \t Loss (train): 0.704 (val): 0.867 \tAcc (train) 0.707 (val): 0.652\n",
            "New best value for validation loss: Saved model to bestModel.pt\n",
            "Epoch: 46 \t Loss (train): 0.703 (val): 0.867 \tAcc (train) 0.708 (val): 0.653\n",
            "New best value for validation loss: Saved model to bestModel.pt\n",
            "Epoch: 47 \t Loss (train): 0.701 (val): 0.867 \tAcc (train) 0.709 (val): 0.653\n",
            "New best value for validation loss: Saved model to bestModel.pt\n",
            "Epoch: 48 \t Loss (train): 0.700 (val): 0.866 \tAcc (train) 0.710 (val): 0.653\n",
            "Epoch: 49 \t Loss (train): 0.699 (val): 0.866 \tAcc (train) 0.710 (val): 0.653\n",
            "New best value for validation loss: Saved model to bestModel.pt\n",
            "Epoch: 50 \t Loss (train): 0.698 (val): 0.866 \tAcc (train) 0.711 (val): 0.654\n"
          ],
          "name": "stdout"
        }
      ]
    },
    {
      "cell_type": "markdown",
      "metadata": {
        "id": "QvVqaswIW0lh",
        "colab_type": "text"
      },
      "source": [
        "### Results"
      ]
    },
    {
      "cell_type": "code",
      "metadata": {
        "colab_type": "code",
        "id": "-eKY7MNWxrJH",
        "colab": {}
      },
      "source": [
        "bestModel = copy.deepcopy(mlp)\n",
        "bestModel.load_state_dict(torch.load(\"bestModel.pt\"))\n",
        "bestModel = bestModel.to(device)"
      ],
      "execution_count": 0,
      "outputs": []
    },
    {
      "cell_type": "code",
      "metadata": {
        "colab_type": "code",
        "id": "teQre_3UwmnV",
        "colab": {}
      },
      "source": [
        "train_metrics = evaluate(bestModel, training_eval, loss)\n",
        "val_metrics = evaluate(bestModel, val_generator, loss)\n",
        "test_metrics = evaluate(bestModel, test_generator, loss)"
      ],
      "execution_count": 0,
      "outputs": []
    },
    {
      "cell_type": "code",
      "metadata": {
        "colab_type": "code",
        "id": "08nvxbcEyEDY",
        "outputId": "b3cb3013-337c-4f69-8604-4f64160a2008",
        "colab": {
          "base_uri": "https://localhost:8080/",
          "height": 115
        }
      },
      "source": [
        "print(\"Train metrics: \\n{}\".format(train_metrics))\n",
        "print(\"Val metrics: \\n{}\".format(val_metrics))\n",
        "print(\"Test metrics: \\n{}\".format(test_metrics))"
      ],
      "execution_count": 36,
      "outputs": [
        {
          "output_type": "stream",
          "text": [
            "Train metrics: \n",
            "{'acc': 0.7106721773676791, 'loss': 0.6975671537454413}\n",
            "Val metrics: \n",
            "{'acc': 0.653655150317723, 'loss': 0.8656288981437683}\n",
            "Test metrics: \n",
            "{'acc': 0.6526231477773328, 'loss': 0.8659286499023438}\n"
          ],
          "name": "stdout"
        }
      ]
    },
    {
      "cell_type": "code",
      "metadata": {
        "id": "-PW7pV3d4cQU",
        "colab_type": "code",
        "outputId": "8f7b4841-4874-4517-a715-7e1cb3b6da62",
        "colab": {
          "base_uri": "https://localhost:8080/",
          "height": 336
        }
      },
      "source": [
        "matplotlib.rcParams['axes.spines.top'] = False\n",
        "matplotlib.rcParams['axes.spines.right'] = False\n",
        "\n",
        "fig, (ax1, ax2) = plt.subplots(1, 2, figsize=(12,5))\n",
        "\n",
        "ax1.plot(range(len(valAccVec)), valAccVec, label = \"Validation\")\n",
        "ax1.plot(range(len(trainAccVec)), trainAccVec, label = \"Train\")\n",
        "ax1.grid(True, alpha=0.4)\n",
        "ax1.set_title(\"Accuracy\")\n",
        "ax1.legend()\n",
        "ax2.plot(range(len(valLossVec)), valLossVec, label = \"Validation\")\n",
        "ax2.plot(range(len(trainLossVec)), trainLossVec, label = \"Train\")\n",
        "ax2.grid(True, alpha=0.4)\n",
        "ax2.set_title(\"Loss\")\n",
        "ax2.legend()\n",
        "plt.show()"
      ],
      "execution_count": 37,
      "outputs": [
        {
          "output_type": "display_data",
          "data": {
            "image/png": "[encoded data removed]",
            "text/plain": [
              "<Figure size 864x360 with 2 Axes>"
            ]
          },
          "metadata": {
            "tags": [],
            "needs_background": "light"
          }
        }
      ]
    },
    {
      "cell_type": "markdown",
      "metadata": {
        "id": "urWAItgy0p7O",
        "colab_type": "text"
      },
      "source": [
        "## Using pre-trained embeddings"
      ]
    },
    {
      "cell_type": "code",
      "metadata": {
        "id": "N8AMuV0w0tvw",
        "colab_type": "code",
        "colab": {
          "base_uri": "https://localhost:8080/",
          "height": 456
        },
        "outputId": "939000df-2764-43d6-9350-72eca87b92da"
      },
      "source": [
        "# download glove embeddings\n",
        "!wget http://nlp.stanford.edu/data/glove.6B.zip\n",
        "!unzip glove*.zip\n",
        "print('Indexing word vectors.')\n",
        "embeddings_index = {}\n",
        "f = open('glove.6B.300d.txt', encoding='utf-8')\n",
        "for line in f:\n",
        "    values = line.split()\n",
        "    word = values[0]\n",
        "    coefs = np.asarray(values[1:], dtype='float32')\n",
        "    embeddings_index[word] = coefs\n",
        "f.close()\n",
        "print('Found {} word vectors.'.format(len(embeddings_index)))"
      ],
      "execution_count": 38,
      "outputs": [
        {
          "output_type": "stream",
          "text": [
            "--2020-04-22 17:42:42--  http://nlp.stanford.edu/data/glove.6B.zip\n",
            "Resolving nlp.stanford.edu (nlp.stanford.edu)... 171.64.67.140\n",
            "Connecting to nlp.stanford.edu (nlp.stanford.edu)|171.64.67.140|:80... connected.\n",
            "HTTP request sent, awaiting response... 302 Found\n",
            "Location: https://nlp.stanford.edu/data/glove.6B.zip [following]\n",
            "--2020-04-22 17:42:42--  https://nlp.stanford.edu/data/glove.6B.zip\n",
            "Connecting to nlp.stanford.edu (nlp.stanford.edu)|171.64.67.140|:443... connected.\n",
            "HTTP request sent, awaiting response... 301 Moved Permanently\n",
            "Location: http://downloads.cs.stanford.edu/nlp/data/glove.6B.zip [following]\n",
            "--2020-04-22 17:42:42--  http://downloads.cs.stanford.edu/nlp/data/glove.6B.zip\n",
            "Resolving downloads.cs.stanford.edu (downloads.cs.stanford.edu)... 171.64.64.22\n",
            "Connecting to downloads.cs.stanford.edu (downloads.cs.stanford.edu)|171.64.64.22|:80... connected.\n",
            "HTTP request sent, awaiting response... 200 OK\n",
            "Length: 862182613 (822M) [application/zip]\n",
            "Saving to: ‘glove.6B.zip’\n",
            "\n",
            "glove.6B.zip        100%[===================>] 822.24M  2.07MB/s    in 6m 27s  \n",
            "\n",
            "2020-04-22 17:49:09 (2.13 MB/s) - ‘glove.6B.zip’ saved [862182613/862182613]\n",
            "\n",
            "Archive:  glove.6B.zip\n",
            "  inflating: glove.6B.50d.txt        \n",
            "  inflating: glove.6B.100d.txt       \n",
            "  inflating: glove.6B.200d.txt       \n",
            "  inflating: glove.6B.300d.txt       \n",
            "Indexing word vectors.\n",
            "Found 400000 word vectors.\n"
          ],
          "name": "stdout"
        }
      ]
    },
    {
      "cell_type": "code",
      "metadata": {
        "id": "BRYjl9JM1EFn",
        "colab_type": "code",
        "colab": {
          "base_uri": "https://localhost:8080/",
          "height": 33
        },
        "outputId": "f344df10-d4e5-4918-cecf-00eabe5ee033"
      },
      "source": [
        "# iterate through each word in the vocabularly\n",
        "# if there exists a word embedding insert it,\n",
        "# else use a sample from a random normal\n",
        "matrix_len = len(vocab)\n",
        "weights_matrix = np.zeros((matrix_len, 300))\n",
        "words_notfound = 0\n",
        "\n",
        "for i, word in enumerate(vocab):\n",
        "    try: \n",
        "        weights_matrix[i] = embeddings_index[word]\n",
        "        \n",
        "    # if there is no embedding for the given word\n",
        "    # create vector sampled from random normal\n",
        "\n",
        "    # a advantage of updating the weights of the\n",
        "    # embedding layer as part of training, is that\n",
        "    # an embedding will be learnt for these words \n",
        "    except KeyError:\n",
        "\n",
        "        weights_matrix[i] = np.random.normal(scale=0.5, size=(300, ))\n",
        "        words_notfound += 1\n",
        "\n",
        "# clean up\n",
        "#del embeddings_index\n",
        "\n",
        "print(\"Words not found: {}\".format(words_notfound))"
      ],
      "execution_count": 39,
      "outputs": [
        {
          "output_type": "stream",
          "text": [
            "Words not found: 440\n"
          ],
          "name": "stdout"
        }
      ]
    },
    {
      "cell_type": "code",
      "metadata": {
        "id": "HOAYiDg41X30",
        "colab_type": "code",
        "colab": {}
      },
      "source": [
        "# slightly rewrite model class\n",
        "# enables to easily set different learning rates for parameter groups\n",
        "class BagofVector(nn.Module):\n",
        "    \n",
        "    def __init__(self, embeddingDIM, hiddenDIM1, hiddenDIM2, \n",
        "               ouputDIM, vocab_size, pooling=\"sum\"):\n",
        "        \n",
        "        super(BagofVector, self).__init__()\n",
        "\n",
        "        self.embedding = nn.EmbeddingBag(vocab_size, embeddingDIM, mode=pooling)\n",
        "        self.fc = nn.Sequential(\n",
        "            nn.Linear(embeddingDIM, hiddenDIM1),\n",
        "            nn.ReLU(),\n",
        "            nn.Dropout(),\n",
        "            nn.Linear(hiddenDIM1, hiddenDIM2),\n",
        "            nn.ReLU(),\n",
        "            nn.Dropout(),\n",
        "            nn.Linear(hiddenDIM2, ouputDIM)\n",
        "        )\n",
        "\n",
        "    def forward(self, inputs, offsets):\n",
        "\n",
        "        x = self.embedding(inputs, offsets)\n",
        "        x = self.fc(x)\n",
        "        return x"
      ],
      "execution_count": 0,
      "outputs": []
    },
    {
      "cell_type": "code",
      "metadata": {
        "id": "pT666aAa1Sbb",
        "colab_type": "code",
        "colab": {}
      },
      "source": [
        "torch.manual_seed(42)\n",
        "mlp = BagofVector(300, 128, 64, 5, len(vocab), \"sum\").to(device)\n",
        "mlp.embedding.weight.data.copy_(torch.from_numpy(weights_matrix))\n",
        "optimizer = optim.Adam([\n",
        "                {'params': mlp.fc.parameters(), 'lr': 2e-4},\n",
        "                {'params': mlp.embedding.weight, 'lr': 1e-5}\n",
        "            ])\n",
        "scheduler = optim.lr_scheduler.StepLR(optimizer, step_size=6, gamma=0.8) \n",
        "loss = nn.CrossEntropyLoss()"
      ],
      "execution_count": 0,
      "outputs": []
    },
    {
      "cell_type": "code",
      "metadata": {
        "id": "Y-M5z8WO3DN6",
        "colab_type": "code",
        "colab": {
          "base_uri": "https://localhost:8080/",
          "height": 1000
        },
        "outputId": "541728a6-319e-449f-e6f8-59dd23aa96f6"
      },
      "source": [
        "trainLossVec, valLossVec, trainAccVec, valAccVec, bEpoch = train(mlp, loss, optimizer, scheduler, 50, \n",
        "                                      training_generator, val_generator, \n",
        "                                      training_eval, verbose=True, saveModel=True)"
      ],
      "execution_count": 42,
      "outputs": [
        {
          "output_type": "stream",
          "text": [
            "Summary of model\n",
            "\n",
            "BagofVector(\n",
            "  (embedding): EmbeddingBag(12133, 300, mode=sum)\n",
            "  (fc): Sequential(\n",
            "    (0): Linear(in_features=300, out_features=128, bias=True)\n",
            "    (1): ReLU()\n",
            "    (2): Dropout(p=0.5, inplace=False)\n",
            "    (3): Linear(in_features=128, out_features=64, bias=True)\n",
            "    (4): ReLU()\n",
            "    (5): Dropout(p=0.5, inplace=False)\n",
            "    (6): Linear(in_features=64, out_features=5, bias=True)\n",
            "  )\n",
            ")\n",
            "\n",
            "\n",
            "New best value for validation loss: Saved model to bestModel.pt\n",
            "Epoch: 1 \t Loss (train): 1.002 (val): 1.010 \tAcc (train) 0.588 (val): 0.582\n",
            "New best value for validation loss: Saved model to bestModel.pt\n",
            "Epoch: 2 \t Loss (train): 0.954 (val): 0.965 \tAcc (train) 0.602 (val): 0.598\n",
            "New best value for validation loss: Saved model to bestModel.pt\n",
            "Epoch: 3 \t Loss (train): 0.931 (val): 0.946 \tAcc (train) 0.610 (val): 0.603\n",
            "New best value for validation loss: Saved model to bestModel.pt\n",
            "Epoch: 4 \t Loss (train): 0.912 (val): 0.933 \tAcc (train) 0.614 (val): 0.604\n",
            "New best value for validation loss: Saved model to bestModel.pt\n",
            "Epoch: 5 \t Loss (train): 0.898 (val): 0.922 \tAcc (train) 0.619 (val): 0.607\n",
            "New best value for validation loss: Saved model to bestModel.pt\n",
            "Epoch: 6 \t Loss (train): 0.884 (val): 0.912 \tAcc (train) 0.626 (val): 0.614\n",
            "New best value for validation loss: Saved model to bestModel.pt\n",
            "Epoch: 7 \t Loss (train): 0.873 (val): 0.904 \tAcc (train) 0.630 (val): 0.616\n",
            "New best value for validation loss: Saved model to bestModel.pt\n",
            "Epoch: 8 \t Loss (train): 0.862 (val): 0.897 \tAcc (train) 0.636 (val): 0.621\n",
            "New best value for validation loss: Saved model to bestModel.pt\n",
            "Epoch: 9 \t Loss (train): 0.853 (val): 0.892 \tAcc (train) 0.639 (val): 0.625\n",
            "New best value for validation loss: Saved model to bestModel.pt\n",
            "Epoch: 10 \t Loss (train): 0.846 (val): 0.886 \tAcc (train) 0.644 (val): 0.628\n",
            "New best value for validation loss: Saved model to bestModel.pt\n",
            "Epoch: 11 \t Loss (train): 0.835 (val): 0.880 \tAcc (train) 0.646 (val): 0.626\n",
            "New best value for validation loss: Saved model to bestModel.pt\n",
            "Epoch: 12 \t Loss (train): 0.829 (val): 0.876 \tAcc (train) 0.649 (val): 0.630\n",
            "New best value for validation loss: Saved model to bestModel.pt\n",
            "Epoch: 13 \t Loss (train): 0.821 (val): 0.872 \tAcc (train) 0.652 (val): 0.632\n",
            "New best value for validation loss: Saved model to bestModel.pt\n",
            "Epoch: 14 \t Loss (train): 0.813 (val): 0.866 \tAcc (train) 0.657 (val): 0.636\n",
            "New best value for validation loss: Saved model to bestModel.pt\n",
            "Epoch: 15 \t Loss (train): 0.808 (val): 0.865 \tAcc (train) 0.657 (val): 0.634\n",
            "New best value for validation loss: Saved model to bestModel.pt\n",
            "Epoch: 16 \t Loss (train): 0.802 (val): 0.861 \tAcc (train) 0.660 (val): 0.638\n",
            "New best value for validation loss: Saved model to bestModel.pt\n",
            "Epoch: 17 \t Loss (train): 0.797 (val): 0.859 \tAcc (train) 0.663 (val): 0.640\n",
            "New best value for validation loss: Saved model to bestModel.pt\n",
            "Epoch: 18 \t Loss (train): 0.792 (val): 0.857 \tAcc (train) 0.664 (val): 0.639\n",
            "New best value for validation loss: Saved model to bestModel.pt\n",
            "Epoch: 19 \t Loss (train): 0.785 (val): 0.852 \tAcc (train) 0.669 (val): 0.643\n",
            "New best value for validation loss: Saved model to bestModel.pt\n",
            "Epoch: 20 \t Loss (train): 0.781 (val): 0.852 \tAcc (train) 0.670 (val): 0.642\n",
            "New best value for validation loss: Saved model to bestModel.pt\n",
            "Epoch: 21 \t Loss (train): 0.777 (val): 0.850 \tAcc (train) 0.670 (val): 0.643\n",
            "New best value for validation loss: Saved model to bestModel.pt\n",
            "Epoch: 22 \t Loss (train): 0.773 (val): 0.849 \tAcc (train) 0.672 (val): 0.643\n",
            "Epoch: 23 \t Loss (train): 0.771 (val): 0.849 \tAcc (train) 0.672 (val): 0.645\n",
            "New best value for validation loss: Saved model to bestModel.pt\n",
            "Epoch: 24 \t Loss (train): 0.765 (val): 0.844 \tAcc (train) 0.675 (val): 0.646\n",
            "New best value for validation loss: Saved model to bestModel.pt\n",
            "Epoch: 25 \t Loss (train): 0.762 (val): 0.843 \tAcc (train) 0.677 (val): 0.649\n",
            "New best value for validation loss: Saved model to bestModel.pt\n",
            "Epoch: 26 \t Loss (train): 0.757 (val): 0.840 \tAcc (train) 0.680 (val): 0.650\n",
            "New best value for validation loss: Saved model to bestModel.pt\n",
            "Epoch: 27 \t Loss (train): 0.756 (val): 0.840 \tAcc (train) 0.680 (val): 0.650\n",
            "New best value for validation loss: Saved model to bestModel.pt\n",
            "Epoch: 28 \t Loss (train): 0.753 (val): 0.839 \tAcc (train) 0.681 (val): 0.648\n",
            "New best value for validation loss: Saved model to bestModel.pt\n",
            "Epoch: 29 \t Loss (train): 0.750 (val): 0.837 \tAcc (train) 0.683 (val): 0.651\n",
            "Epoch: 30 \t Loss (train): 0.747 (val): 0.839 \tAcc (train) 0.683 (val): 0.650\n",
            "New best value for validation loss: Saved model to bestModel.pt\n",
            "Epoch: 31 \t Loss (train): 0.744 (val): 0.836 \tAcc (train) 0.685 (val): 0.650\n",
            "New best value for validation loss: Saved model to bestModel.pt\n",
            "Epoch: 32 \t Loss (train): 0.740 (val): 0.835 \tAcc (train) 0.686 (val): 0.652\n",
            "New best value for validation loss: Saved model to bestModel.pt\n",
            "Epoch: 33 \t Loss (train): 0.738 (val): 0.835 \tAcc (train) 0.687 (val): 0.653\n",
            "New best value for validation loss: Saved model to bestModel.pt\n",
            "Epoch: 34 \t Loss (train): 0.736 (val): 0.833 \tAcc (train) 0.689 (val): 0.653\n",
            "Epoch: 35 \t Loss (train): 0.735 (val): 0.835 \tAcc (train) 0.689 (val): 0.653\n",
            "New best value for validation loss: Saved model to bestModel.pt\n",
            "Epoch: 36 \t Loss (train): 0.733 (val): 0.832 \tAcc (train) 0.689 (val): 0.654\n",
            "Epoch: 37 \t Loss (train): 0.729 (val): 0.832 \tAcc (train) 0.691 (val): 0.655\n",
            "New best value for validation loss: Saved model to bestModel.pt\n",
            "Epoch: 38 \t Loss (train): 0.727 (val): 0.831 \tAcc (train) 0.693 (val): 0.654\n",
            "New best value for validation loss: Saved model to bestModel.pt\n",
            "Epoch: 39 \t Loss (train): 0.726 (val): 0.830 \tAcc (train) 0.693 (val): 0.655\n",
            "Epoch: 40 \t Loss (train): 0.725 (val): 0.831 \tAcc (train) 0.694 (val): 0.655\n",
            "Epoch: 41 \t Loss (train): 0.724 (val): 0.831 \tAcc (train) 0.695 (val): 0.656\n",
            "New best value for validation loss: Saved model to bestModel.pt\n",
            "Epoch: 42 \t Loss (train): 0.721 (val): 0.829 \tAcc (train) 0.695 (val): 0.656\n",
            "New best value for validation loss: Saved model to bestModel.pt\n",
            "Epoch: 43 \t Loss (train): 0.719 (val): 0.828 \tAcc (train) 0.697 (val): 0.657\n",
            "Epoch: 44 \t Loss (train): 0.718 (val): 0.829 \tAcc (train) 0.697 (val): 0.657\n",
            "New best value for validation loss: Saved model to bestModel.pt\n",
            "Epoch: 45 \t Loss (train): 0.717 (val): 0.828 \tAcc (train) 0.697 (val): 0.656\n",
            "New best value for validation loss: Saved model to bestModel.pt\n",
            "Epoch: 46 \t Loss (train): 0.715 (val): 0.828 \tAcc (train) 0.698 (val): 0.657\n",
            "New best value for validation loss: Saved model to bestModel.pt\n",
            "Epoch: 47 \t Loss (train): 0.714 (val): 0.827 \tAcc (train) 0.698 (val): 0.658\n",
            "Epoch: 48 \t Loss (train): 0.713 (val): 0.828 \tAcc (train) 0.699 (val): 0.658\n",
            "Epoch: 49 \t Loss (train): 0.711 (val): 0.828 \tAcc (train) 0.700 (val): 0.658\n",
            "New best value for validation loss: Saved model to bestModel.pt\n",
            "Epoch: 50 \t Loss (train): 0.710 (val): 0.827 \tAcc (train) 0.700 (val): 0.660\n"
          ],
          "name": "stdout"
        }
      ]
    },
    {
      "cell_type": "code",
      "metadata": {
        "id": "BWdTWDv13DkQ",
        "colab_type": "code",
        "colab": {}
      },
      "source": [
        "bestModel = copy.deepcopy(mlp)\n",
        "bestModel.load_state_dict(torch.load(\"bestModel.pt\"))\n",
        "bestModel = bestModel.to(device)"
      ],
      "execution_count": 0,
      "outputs": []
    },
    {
      "cell_type": "code",
      "metadata": {
        "id": "YpMHvKeg5BnT",
        "colab_type": "code",
        "colab": {}
      },
      "source": [
        "train_metrics = evaluate(bestModel, training_eval, loss)\n",
        "val_metrics = evaluate(bestModel, val_generator, loss)\n",
        "test_metrics = evaluate(bestModel, test_generator, loss)"
      ],
      "execution_count": 0,
      "outputs": []
    },
    {
      "cell_type": "code",
      "metadata": {
        "id": "rkXFrdeo5CRS",
        "colab_type": "code",
        "colab": {
          "base_uri": "https://localhost:8080/",
          "height": 115
        },
        "outputId": "017265a3-7e74-4878-c459-094a7ab00a94"
      },
      "source": [
        "print(\"Train metrics: \\n{}\".format(train_metrics))\n",
        "print(\"Val metrics: \\n{}\".format(val_metrics))\n",
        "print(\"Test metrics: \\n{}\".format(test_metrics))"
      ],
      "execution_count": 45,
      "outputs": [
        {
          "output_type": "stream",
          "text": [
            "Train metrics: \n",
            "{'acc': 0.6997388824810971, 'loss': 0.7096437430833985}\n",
            "Val metrics: \n",
            "{'acc': 0.6600096117904629, 'loss': 0.8274296522140503}\n",
            "Test metrics: \n",
            "{'acc': 0.6551862234681618, 'loss': 0.8251258730888367}\n"
          ],
          "name": "stdout"
        }
      ]
    }
  ]
}