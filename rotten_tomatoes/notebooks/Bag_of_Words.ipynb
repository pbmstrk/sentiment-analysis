{
 "cells": [
  {
   "cell_type": "markdown",
   "metadata": {
    "colab_type": "text",
    "id": "mYbj7WHxZCWc"
   },
   "source": [
    "# Sentiment Analysis - Rotten Tomatoes: Bag-of-Words\n",
    "\n",
    "---\n",
    "\n"
   ]
  },
  {
   "cell_type": "code",
   "execution_count": 0,
   "metadata": {
    "colab": {},
    "colab_type": "code",
    "id": "UuOF6emZFysw"
   },
   "outputs": [],
   "source": [
    "# data wrangling\n",
    "import pandas as pd\n",
    "import numpy as np\n",
    "from sklearn.model_selection import train_test_split\n",
    "\n",
    "# language model \n",
    "import spacy\n",
    "spacy_en = spacy.load('en')\n",
    "\n",
    "# pytorch\n",
    "import torch\n",
    "import torch.nn as nn\n",
    "import torch.nn.functional as F\n",
    "import torch.optim as optim\n",
    "from torch.nn.utils.rnn import pad_sequence, pack_padded_sequence, pad_packed_sequence\n",
    "from torch.utils import data\n",
    "\n",
    "from collections import Counter\n",
    "import copy\n",
    "import re\n",
    "import matplotlib.pyplot as plt\n",
    "import matplotlib "
   ]
  },
  {
   "cell_type": "code",
   "execution_count": 0,
   "metadata": {
    "colab": {},
    "colab_type": "code",
    "id": "Q79QeYfz6TU-"
   },
   "outputs": [],
   "source": [
    "torch.backends.cudnn.deterministic = True"
   ]
  },
  {
   "cell_type": "code",
   "execution_count": 3,
   "metadata": {
    "colab": {
     "base_uri": "https://localhost:8080/",
     "height": 33
    },
    "colab_type": "code",
    "id": "CNTJbs7iRrsR",
    "outputId": "ec3ac4f6-8f66-4e36-fed8-0a96342389ee"
   },
   "outputs": [
    {
     "data": {
      "text/plain": [
       "device(type='cuda')"
      ]
     },
     "execution_count": 3,
     "metadata": {
      "tags": []
     },
     "output_type": "execute_result"
    }
   ],
   "source": [
    "device = torch.device(\"cuda\" if torch.cuda.is_available() else \"cpu\")\n",
    "device"
   ]
  },
  {
   "cell_type": "markdown",
   "metadata": {
    "colab_type": "text",
    "id": "wlzIl7xMrY51"
   },
   "source": [
    "## Text processing"
   ]
  },
  {
   "cell_type": "markdown",
   "metadata": {
    "colab_type": "text",
    "id": "qz7WxFborhWd"
   },
   "source": [
    "Function to convert strings into list of tokens: `tokenizer`, and custom vocabularly class to store vocabulary."
   ]
  },
  {
   "cell_type": "code",
   "execution_count": 0,
   "metadata": {
    "colab": {},
    "colab_type": "code",
    "id": "pZuiHLj2WHBy"
   },
   "outputs": [],
   "source": [
    "def tokenizer(text): \n",
    "    text = text.lower()\n",
    "    text = re.sub(\"-rrb-\",\"\", text)\n",
    "    text = re.sub(\"-lrb-\",\"\", text)\n",
    "    tokens = spacy_en.tokenizer(text)\n",
    "    #tokens = [tok for tok in tokens if tok.is_stop == False]\n",
    "    tokens = [tok.lemma_ for tok in tokens]\n",
    "    return tokens"
   ]
  },
  {
   "cell_type": "code",
   "execution_count": 0,
   "metadata": {
    "colab": {},
    "colab_type": "code",
    "id": "_l0ennpbrfrl"
   },
   "outputs": [],
   "source": [
    "class Vocabulary:\n",
    "      \n",
    "    def __init__(self, vocabCount, min_freq):\n",
    "        \n",
    "        # UNK tokens (don't need pad token for bag-of-words)\n",
    "        self.UNK_token = 0\n",
    "        self.vocabCount = vocabCount\n",
    "        self.min_freq = min_freq\n",
    "        # initialize list of words and vocab dictionary\n",
    "        self.wordlist = [\"<unk>\"]\n",
    "        self.word2index = {}\n",
    "        # build vocab\n",
    "        self.build_vocab(vocabCount)\n",
    "\n",
    "    def __len__(self):\n",
    "        return len(self.word2index)\n",
    "\n",
    "    def __getitem__(self, word):\n",
    "        return self.word2index.get(word, 0)\n",
    "\n",
    "    def __iter__(self):\n",
    "        return iter(vocab.word2index)\n",
    "\n",
    "    def build_vocab(self, vocabCount):\n",
    "        # sort vocab s.t. words that occur most frequently added first\n",
    "        svocabCount = {k: v for k, v in reversed(sorted(vocabCount.items(), \n",
    "                                                      key=lambda item: item[1]))}\n",
    "        \n",
    "        for word in svocabCount:\n",
    "            if svocabCount[word] >= self.min_freq:\n",
    "                self.wordlist.append(word)\n",
    "        self.word2index.update({tok: i for i, tok in enumerate(self.wordlist)})"
   ]
  },
  {
   "cell_type": "markdown",
   "metadata": {
    "colab_type": "text",
    "id": "X7x1zIbDX9Dy"
   },
   "source": [
    "## Load and process data"
   ]
  },
  {
   "cell_type": "code",
   "execution_count": 0,
   "metadata": {
    "colab": {},
    "colab_type": "code",
    "id": "0vxFaGmkGHpF"
   },
   "outputs": [],
   "source": [
    "train_data = pd.read_csv('../data/train.tsv', sep=\"\\t\", encoding=\"utf_8_sig\")\n",
    "phrases = np.array(train_data.iloc[:, 2])\n",
    "target = np.array(train_data.iloc[:, 3])\n",
    "\n",
    "# create train and validation sets\n",
    "X_train , X_val, y_train , y_val = train_test_split(phrases, target, \n",
    "                                                    test_size = 0.2, random_state=42)\n",
    "\n",
    "# create validation and test sets\n",
    "X_val , X_test, y_val , y_test = train_test_split(X_val, y_val, \n",
    "                                                    test_size = 0.4, random_state=42)"
   ]
  },
  {
   "cell_type": "markdown",
   "metadata": {
    "colab_type": "text",
    "id": "dQMnv1F1ZoPh"
   },
   "source": [
    "Convert each string into a list of words, using `tokenizer` function."
   ]
  },
  {
   "cell_type": "code",
   "execution_count": 0,
   "metadata": {
    "colab": {},
    "colab_type": "code",
    "id": "BU8Ue_D6MiA6"
   },
   "outputs": [],
   "source": [
    "X_train = [tokenizer(phrase) for phrase in X_train]\n",
    "X_val = [tokenizer(phrase) for phrase in X_val]\n",
    "X_test = [tokenizer(phrase) for phrase in X_test]"
   ]
  },
  {
   "cell_type": "code",
   "execution_count": 9,
   "metadata": {
    "colab": {
     "base_uri": "https://localhost:8080/",
     "height": 66
    },
    "colab_type": "code",
    "id": "IU3QVOq-OdVU",
    "outputId": "e0d7d10b-6a2a-436b-a2a0-55f1d09186db"
   },
   "outputs": [
    {
     "name": "stdout",
     "output_type": "stream",
     "text": [
      "Length of train dataset: 124848 \n",
      "Length of validation dataset: 18727 \n",
      "Length of test dataset: 12485\n"
     ]
    }
   ],
   "source": [
    "print(\"Length of train dataset: {} \\nLength of validation dataset: {} \\nLength of test dataset: {}\".format(len(X_train), len(X_val), len(X_test)))"
   ]
  },
  {
   "cell_type": "markdown",
   "metadata": {
    "colab_type": "text",
    "id": "P7kkx0UzfFre"
   },
   "source": [
    "## Create vocabularly"
   ]
  },
  {
   "cell_type": "code",
   "execution_count": 0,
   "metadata": {
    "colab": {},
    "colab_type": "code",
    "id": "hmPXl7aGNBh4"
   },
   "outputs": [],
   "source": [
    "vocabCount = Counter([item for sublist in X_train for item in sublist])"
   ]
  },
  {
   "cell_type": "code",
   "execution_count": 0,
   "metadata": {
    "colab": {},
    "colab_type": "code",
    "id": "-VSpYtzQlv-e"
   },
   "outputs": [],
   "source": [
    "vocab = Vocabulary(vocabCount, 1)"
   ]
  },
  {
   "cell_type": "markdown",
   "metadata": {
    "colab_type": "text",
    "id": "_vsCWWRjZkpV"
   },
   "source": [
    "### Convert tokens to integers"
   ]
  },
  {
   "cell_type": "code",
   "execution_count": 0,
   "metadata": {
    "colab": {},
    "colab_type": "code",
    "id": "S3qO5seuNUhu"
   },
   "outputs": [],
   "source": [
    "X_trainNum = [torch.tensor([vocab[word] for word in phrase]) for phrase in X_train]\n",
    "X_valNum = [torch.tensor([vocab[word] for word in phrase]) for phrase in X_val]\n",
    "X_testNum = [torch.tensor([vocab[word] for word in phrase]) for phrase in X_test]"
   ]
  },
  {
   "cell_type": "code",
   "execution_count": 13,
   "metadata": {
    "colab": {
     "base_uri": "https://localhost:8080/",
     "height": 33
    },
    "colab_type": "code",
    "id": "H92tsfWHszGf",
    "outputId": "8b1969dd-06fe-476d-cbd9-9c71f4fca8e4"
   },
   "outputs": [
    {
     "name": "stdout",
     "output_type": "stream",
     "text": [
      "43785\n"
     ]
    }
   ],
   "source": [
    "# make sure each tensor actually has values\n",
    "for i, el in enumerate(X_trainNum):\n",
    "    if el.nelement() == 0:\n",
    "        print(i)\n",
    "        X_trainNum[i] = torch.tensor([0]).long()"
   ]
  },
  {
   "cell_type": "code",
   "execution_count": 0,
   "metadata": {
    "colab": {},
    "colab_type": "code",
    "id": "Ac2rf9jquZMB"
   },
   "outputs": [],
   "source": [
    "# make sure each tensor actually has values\n",
    "for i, el in enumerate(X_valNum):\n",
    "    if el.nelement() == 0:\n",
    "        print(i)\n",
    "        X_valNum[i] = torch.tensor([0]).long()"
   ]
  },
  {
   "cell_type": "code",
   "execution_count": 15,
   "metadata": {
    "colab": {
     "base_uri": "https://localhost:8080/",
     "height": 33
    },
    "colab_type": "code",
    "id": "7XVbRTT7uiSZ",
    "outputId": "86a4385c-dacd-4a8b-e005-18088af3cd25"
   },
   "outputs": [
    {
     "name": "stdout",
     "output_type": "stream",
     "text": [
      "7117\n"
     ]
    }
   ],
   "source": [
    "# make sure each tensor actually has values\n",
    "for i, el in enumerate(X_testNum):\n",
    "    if el.nelement() == 0:\n",
    "        print(i)\n",
    "        X_testNum[i] = torch.tensor([0]).long()"
   ]
  },
  {
   "cell_type": "markdown",
   "metadata": {
    "colab_type": "text",
    "id": "ZPRCHd-bZ4Jp"
   },
   "source": [
    "## 2. \"Bag of vectors\" approach\n",
    "\n",
    "We convert each word in a sentence into an embedding, as each sentence may have a different number of words, we need a \"pooling\" operation that converts the variable number of word embeddings into a fixed representation. Options for this \"pooling\" operation are `mean`, `sum` and a variety of elementwise operations.\n",
    "\n",
    "\n",
    "Thus, in our model we simply have an embedding layer and a pooling operation, we then feed the resulting representation into an MLP. In PyTorch, there is a function `EmbeddingBag` that implements the embedding and \"pooling\"/reduction."
   ]
  },
  {
   "cell_type": "markdown",
   "metadata": {
    "colab_type": "text",
    "id": "EozVu_o0n_3n"
   },
   "source": [
    "### Custom dataset class and batching function"
   ]
  },
  {
   "cell_type": "code",
   "execution_count": 0,
   "metadata": {
    "colab": {},
    "colab_type": "code",
    "id": "bcIU7hCQaRc0"
   },
   "outputs": [],
   "source": [
    "class WordDataset(data.Dataset):\n",
    "    \n",
    "    def __init__(self, X, y):\n",
    "        self.X = X\n",
    "        self.y = y\n",
    "        \n",
    "    def __len__(self):\n",
    "        return len(self.y)\n",
    "    \n",
    "    def __getitem__(self, idx):  \n",
    "        X = self.X[idx]\n",
    "        Y = self.y[idx]\n",
    "        return X, Y"
   ]
  },
  {
   "cell_type": "code",
   "execution_count": 0,
   "metadata": {
    "colab": {},
    "colab_type": "code",
    "id": "kqC2vHYjaRha"
   },
   "outputs": [],
   "source": [
    "def generate_batch(batch):\n",
    "    \n",
    "    # get data and targets from batch\n",
    "    data = [item[0] for item in batch]\n",
    "    targets = [item[1] for item in batch]\n",
    "    lengths = [len(el) for el in data]\n",
    "    offsets = np.cumsum(lengths)\n",
    "    offsets = np.concatenate([[0], offsets[:-1]])\n",
    "  \n",
    "    return torch.LongTensor(torch.cat(data).long()), torch.Tensor(targets), torch.LongTensor(offsets)"
   ]
  },
  {
   "cell_type": "code",
   "execution_count": 0,
   "metadata": {
    "colab": {},
    "colab_type": "code",
    "id": "dYnatxHhoYPX"
   },
   "outputs": [],
   "source": [
    "trainingset = WordDataset(X_trainNum, y_train)\n",
    "valset = WordDataset(X_valNum, y_val)\n",
    "testset = WordDataset(X_testNum, y_test)"
   ]
  },
  {
   "cell_type": "code",
   "execution_count": 0,
   "metadata": {
    "colab": {},
    "colab_type": "code",
    "id": "kTEWQ12eobmj"
   },
   "outputs": [],
   "source": [
    "training_generator = data.DataLoader(trainingset, batch_size=64, collate_fn=generate_batch)\n",
    "val_generator = data.DataLoader(valset, batch_size=len(y_val), collate_fn=generate_batch)\n",
    "test_generator = data.DataLoader(testset, batch_size=len(y_test), collate_fn=generate_batch)"
   ]
  },
  {
   "cell_type": "code",
   "execution_count": 0,
   "metadata": {
    "colab": {},
    "colab_type": "code",
    "id": "wkmdPpexrKcK"
   },
   "outputs": [],
   "source": [
    "training_eval = data.DataLoader(trainingset, batch_size=len(y_train), collate_fn = generate_batch)"
   ]
  },
  {
   "cell_type": "markdown",
   "metadata": {
    "colab_type": "text",
    "id": "5zqHrSFkoFp5"
   },
   "source": [
    "### Training function"
   ]
  },
  {
   "cell_type": "code",
   "execution_count": 0,
   "metadata": {
    "colab": {},
    "colab_type": "code",
    "id": "W3hSRCvPoWTo"
   },
   "outputs": [],
   "source": [
    "def train(m, lossFun, optim, scheduler, epochs, train_loader, val_loader, train_eval,\n",
    "          saveModel = False, verbose=False):\n",
    "\n",
    "    print(\"Summary of model\\n\")\n",
    "    print(m)\n",
    "    print(\"\\n\")\n",
    "\n",
    "    # initialize lists to store loss and accuracy\n",
    "    trainLossVec , valLossVec, trainAccuracyVec, valAccuracyVec = [], [], [], []\n",
    "    bestLoss, bestEpoch = 100, 0\n",
    "\n",
    "    # get number of batches\n",
    "    numberBatches = len(train_loader)\n",
    "\n",
    "    for epoch in range(epochs):\n",
    "\n",
    "        # Set model to training mode\n",
    "        m.train()\n",
    "    \n",
    "        # Loop over each batch from the training set\n",
    "        for batch_idx, (inputs, targets, offsets) in enumerate(train_loader):\n",
    "            \n",
    "            # Zero gradient buffers\n",
    "            optim.zero_grad()\n",
    "            # Foward pass and compute loss on batch\n",
    "            outputs = m(inputs.to(device), offsets.to(device))\n",
    "            batchloss = lossFun(outputs, targets.long().to(device))\n",
    "            # Backpropagate and update weights\n",
    "            batchloss.backward()\n",
    "            # gradient clipping\n",
    "            torch.nn.utils.clip_grad_norm_(m.parameters(), 1., norm_type=2)\n",
    "            # optimizer step\n",
    "            optim.step()\n",
    "    \n",
    "        # set model to evaluation mode\n",
    "        m.eval()\n",
    "        with torch.no_grad():\n",
    "            \n",
    "            # evaluate model on training and validation data\n",
    "            acc, loss = evalModel(m, {\"train\": train_eval, \"val\": val_loader}, lossFun)\n",
    "            # update accuracy\n",
    "            trainAccuracyVec.append(acc[\"train\"])\n",
    "            valAccuracyVec.append(acc[\"val\"])\n",
    "            # update loss\n",
    "            trainLossVec.append(loss[\"train\"])\n",
    "            valLossVec.append(loss[\"val\"])\n",
    "            \n",
    "            scheduler.step()\n",
    "    \n",
    "            # check if new best for validation accuracy\n",
    "            if valLossVec[-1] < bestLoss:\n",
    "                bestLoss = valLossVec[-1]\n",
    "                bestEpoch = epoch\n",
    "                if saveModel == True:\n",
    "                    torch.save(m.state_dict(), \"bestModel.pt\")\n",
    "                    print(\"New best value for validation loss: Saved model to bestModel.pt\")\n",
    "            \n",
    "            # print information about training progress\n",
    "            if verbose == True:\n",
    "                print((\"Epoch: {} \\t Loss (train): {:.3f} (val): {:.3f} \\t\" +\n",
    "              \"Acc (train) {:.3f} (val): {:.3f}\").format(epoch + 1,\n",
    "                            trainLossVec[-1], valLossVec[-1], trainAccuracyVec[-1], valAccuracyVec[-1]))\n",
    "            # clean up\n",
    "            del inputs, targets, outputs, acc, loss\n",
    "\n",
    "    return trainLossVec, valLossVec, trainAccuracyVec, valAccuracyVec, bestEpoch"
   ]
  },
  {
   "cell_type": "code",
   "execution_count": 0,
   "metadata": {
    "colab": {},
    "colab_type": "code",
    "id": "bms1S-ECoWVk"
   },
   "outputs": [],
   "source": [
    "def evalModel(model, dataDict, lossFun):\n",
    "    \n",
    "    keys = list(dataDict.keys())\n",
    "    values = [0] * len(keys)\n",
    "\n",
    "    acc = dict(zip(keys, values))\n",
    "    lossDict = dict(zip(keys, values))\n",
    "\n",
    "    model.eval()\n",
    "    with torch.no_grad():\n",
    "        \n",
    "        for data in dataDict.keys():\n",
    "\n",
    "            lossVal = 0\n",
    "            correct = 0\n",
    "\n",
    "            for (inputs, targets, offsets) in dataDict[data]:\n",
    "                \n",
    "                batchsize = len(targets)\n",
    "                outputs = model(inputs.to(device), offsets.to(device))\n",
    "                lossVal = lossFun(outputs, targets.long().to(device)).item() * batchsize\n",
    "\n",
    "                _, pred = torch.max(outputs.data, 1)\n",
    "                correct += (pred == targets.long().to(device)).sum().item()\n",
    "                \n",
    "            lossVal = lossVal/len(dataDict[data].dataset)\n",
    "            accuracy = correct/len(dataDict[data].dataset)\n",
    "\n",
    "            acc[data] = accuracy * 100\n",
    "            lossDict[data] = lossVal\n",
    "\n",
    "            del inputs, targets, outputs\n",
    "\n",
    "    return acc, lossDict"
   ]
  },
  {
   "cell_type": "markdown",
   "metadata": {
    "colab_type": "text",
    "id": "t1GjUttBspnL"
   },
   "source": [
    "### Sum pooling"
   ]
  },
  {
   "cell_type": "code",
   "execution_count": 0,
   "metadata": {
    "colab": {},
    "colab_type": "code",
    "id": "g6IfM4wroJYp"
   },
   "outputs": [],
   "source": [
    "class BagofVector(nn.Module):\n",
    "    \n",
    "    def __init__(self, embeddingDIM, hiddenDIM1, hiddenDIM2, \n",
    "               ouputDIM, vocab_size, pooling=\"sum\"):\n",
    "        \n",
    "        super(BagofVector, self).__init__()\n",
    "        self.embedding = nn.EmbeddingBag(vocab_size, embeddingDIM, mode=pooling)\n",
    "        self.linear1 = nn.Linear(embeddingDIM, hiddenDIM1)\n",
    "        self.linear2 = nn.Linear(hiddenDIM1, hiddenDIM2)\n",
    "        self.linear3 = nn.Linear(hiddenDIM2, ouputDIM)\n",
    "        self.dropout = nn.Dropout()\n",
    "        \n",
    "    def forward(self, inputs, offsets):\n",
    "\n",
    "        x = self.embedding(inputs, offsets)\n",
    "        x = self.dropout(F.relu(self.linear1(x)))\n",
    "        x = self.dropout(F.relu(self.linear2(x)))\n",
    "        x = self.linear3(x)\n",
    "        return x"
   ]
  },
  {
   "cell_type": "code",
   "execution_count": 0,
   "metadata": {
    "colab": {},
    "colab_type": "code",
    "id": "NZkxVZcQoWZS"
   },
   "outputs": [],
   "source": [
    "torch.manual_seed(42)\n",
    "mlp = BagofVector(300, 128, 64, 5, len(vocab), \"sum\").to(device)\n",
    "optimizer = optim.Adam(mlp.parameters(), lr = 1e-4)\n",
    "scheduler = optim.lr_scheduler.StepLR(optimizer, step_size=5, gamma=0.8) \n",
    "loss = nn.CrossEntropyLoss()"
   ]
  },
  {
   "cell_type": "code",
   "execution_count": 62,
   "metadata": {
    "colab": {
     "base_uri": "https://localhost:8080/",
     "height": 1000
    },
    "colab_type": "code",
    "id": "i0iL19ITozfr",
    "outputId": "c87b88d8-044f-4a2f-d722-05d1728a7fc4"
   },
   "outputs": [
    {
     "name": "stdout",
     "output_type": "stream",
     "text": [
      "Summary of model\n",
      "\n",
      "BagofVector(\n",
      "  (embedding): EmbeddingBag(12134, 300, mode=sum)\n",
      "  (linear1): Linear(in_features=300, out_features=128, bias=True)\n",
      "  (linear2): Linear(in_features=128, out_features=64, bias=True)\n",
      "  (linear3): Linear(in_features=64, out_features=5, bias=True)\n",
      "  (dropout): Dropout(p=0.5, inplace=False)\n",
      ")\n",
      "\n",
      "\n",
      "New best value for validation loss: Saved model to bestModel.pt\n",
      "Epoch: 1 \t Loss (train): 1.233 (val): 1.245 \tAcc (train) 51.644 (val): 50.889\n",
      "New best value for validation loss: Saved model to bestModel.pt\n",
      "Epoch: 2 \t Loss (train): 1.183 (val): 1.202 \tAcc (train) 52.630 (val): 51.925\n",
      "New best value for validation loss: Saved model to bestModel.pt\n",
      "Epoch: 3 \t Loss (train): 1.137 (val): 1.161 \tAcc (train) 53.954 (val): 52.892\n",
      "New best value for validation loss: Saved model to bestModel.pt\n",
      "Epoch: 4 \t Loss (train): 1.088 (val): 1.119 \tAcc (train) 55.707 (val): 54.622\n",
      "New best value for validation loss: Saved model to bestModel.pt\n",
      "Epoch: 5 \t Loss (train): 1.045 (val): 1.085 \tAcc (train) 57.329 (val): 55.855\n",
      "New best value for validation loss: Saved model to bestModel.pt\n",
      "Epoch: 6 \t Loss (train): 1.011 (val): 1.057 \tAcc (train) 58.624 (val): 57.030\n",
      "New best value for validation loss: Saved model to bestModel.pt\n",
      "Epoch: 7 \t Loss (train): 0.982 (val): 1.034 \tAcc (train) 59.741 (val): 57.959\n",
      "New best value for validation loss: Saved model to bestModel.pt\n",
      "Epoch: 8 \t Loss (train): 0.956 (val): 1.014 \tAcc (train) 60.673 (val): 58.669\n",
      "New best value for validation loss: Saved model to bestModel.pt\n",
      "Epoch: 9 \t Loss (train): 0.931 (val): 0.995 \tAcc (train) 61.663 (val): 59.593\n",
      "New best value for validation loss: Saved model to bestModel.pt\n",
      "Epoch: 10 \t Loss (train): 0.909 (val): 0.979 \tAcc (train) 62.537 (val): 60.036\n",
      "New best value for validation loss: Saved model to bestModel.pt\n",
      "Epoch: 11 \t Loss (train): 0.891 (val): 0.966 \tAcc (train) 63.230 (val): 60.554\n",
      "New best value for validation loss: Saved model to bestModel.pt\n",
      "Epoch: 12 \t Loss (train): 0.876 (val): 0.956 \tAcc (train) 63.800 (val): 61.174\n",
      "New best value for validation loss: Saved model to bestModel.pt\n",
      "Epoch: 13 \t Loss (train): 0.862 (val): 0.948 \tAcc (train) 64.220 (val): 61.211\n",
      "New best value for validation loss: Saved model to bestModel.pt\n",
      "Epoch: 14 \t Loss (train): 0.849 (val): 0.938 \tAcc (train) 64.784 (val): 61.531\n",
      "New best value for validation loss: Saved model to bestModel.pt\n",
      "Epoch: 15 \t Loss (train): 0.837 (val): 0.930 \tAcc (train) 65.294 (val): 62.012\n",
      "New best value for validation loss: Saved model to bestModel.pt\n",
      "Epoch: 16 \t Loss (train): 0.826 (val): 0.924 \tAcc (train) 65.759 (val): 62.268\n",
      "New best value for validation loss: Saved model to bestModel.pt\n",
      "Epoch: 17 \t Loss (train): 0.816 (val): 0.919 \tAcc (train) 66.151 (val): 62.461\n",
      "New best value for validation loss: Saved model to bestModel.pt\n",
      "Epoch: 18 \t Loss (train): 0.807 (val): 0.914 \tAcc (train) 66.609 (val): 62.829\n",
      "New best value for validation loss: Saved model to bestModel.pt\n",
      "Epoch: 19 \t Loss (train): 0.800 (val): 0.910 \tAcc (train) 66.760 (val): 63.021\n",
      "New best value for validation loss: Saved model to bestModel.pt\n",
      "Epoch: 20 \t Loss (train): 0.792 (val): 0.905 \tAcc (train) 67.116 (val): 63.219\n",
      "New best value for validation loss: Saved model to bestModel.pt\n",
      "Epoch: 21 \t Loss (train): 0.784 (val): 0.902 \tAcc (train) 67.436 (val): 63.657\n",
      "New best value for validation loss: Saved model to bestModel.pt\n",
      "Epoch: 22 \t Loss (train): 0.778 (val): 0.899 \tAcc (train) 67.734 (val): 63.641\n",
      "New best value for validation loss: Saved model to bestModel.pt\n",
      "Epoch: 23 \t Loss (train): 0.773 (val): 0.896 \tAcc (train) 67.927 (val): 63.881\n",
      "New best value for validation loss: Saved model to bestModel.pt\n",
      "Epoch: 24 \t Loss (train): 0.767 (val): 0.894 \tAcc (train) 68.132 (val): 64.111\n",
      "New best value for validation loss: Saved model to bestModel.pt\n",
      "Epoch: 25 \t Loss (train): 0.761 (val): 0.892 \tAcc (train) 68.426 (val): 64.180\n",
      "New best value for validation loss: Saved model to bestModel.pt\n",
      "Epoch: 26 \t Loss (train): 0.757 (val): 0.889 \tAcc (train) 68.564 (val): 64.233\n",
      "New best value for validation loss: Saved model to bestModel.pt\n",
      "Epoch: 27 \t Loss (train): 0.752 (val): 0.887 \tAcc (train) 68.837 (val): 64.314\n",
      "New best value for validation loss: Saved model to bestModel.pt\n",
      "Epoch: 28 \t Loss (train): 0.748 (val): 0.885 \tAcc (train) 69.054 (val): 64.362\n",
      "New best value for validation loss: Saved model to bestModel.pt\n",
      "Epoch: 29 \t Loss (train): 0.744 (val): 0.884 \tAcc (train) 69.240 (val): 64.447\n",
      "New best value for validation loss: Saved model to bestModel.pt\n",
      "Epoch: 30 \t Loss (train): 0.740 (val): 0.882 \tAcc (train) 69.399 (val): 64.575\n",
      "New best value for validation loss: Saved model to bestModel.pt\n",
      "Epoch: 31 \t Loss (train): 0.737 (val): 0.881 \tAcc (train) 69.513 (val): 64.693\n",
      "New best value for validation loss: Saved model to bestModel.pt\n",
      "Epoch: 32 \t Loss (train): 0.734 (val): 0.880 \tAcc (train) 69.599 (val): 64.623\n",
      "New best value for validation loss: Saved model to bestModel.pt\n",
      "Epoch: 33 \t Loss (train): 0.731 (val): 0.879 \tAcc (train) 69.813 (val): 64.725\n",
      "New best value for validation loss: Saved model to bestModel.pt\n",
      "Epoch: 34 \t Loss (train): 0.728 (val): 0.878 \tAcc (train) 69.886 (val): 64.773\n",
      "New best value for validation loss: Saved model to bestModel.pt\n",
      "Epoch: 35 \t Loss (train): 0.726 (val): 0.877 \tAcc (train) 69.963 (val): 64.874\n",
      "New best value for validation loss: Saved model to bestModel.pt\n",
      "Epoch: 36 \t Loss (train): 0.722 (val): 0.877 \tAcc (train) 70.160 (val): 64.783\n",
      "New best value for validation loss: Saved model to bestModel.pt\n",
      "Epoch: 37 \t Loss (train): 0.720 (val): 0.876 \tAcc (train) 70.233 (val): 64.933\n",
      "New best value for validation loss: Saved model to bestModel.pt\n",
      "Epoch: 38 \t Loss (train): 0.718 (val): 0.876 \tAcc (train) 70.344 (val): 64.986\n",
      "New best value for validation loss: Saved model to bestModel.pt\n",
      "Epoch: 39 \t Loss (train): 0.716 (val): 0.875 \tAcc (train) 70.451 (val): 64.986\n",
      "New best value for validation loss: Saved model to bestModel.pt\n",
      "Epoch: 40 \t Loss (train): 0.713 (val): 0.874 \tAcc (train) 70.560 (val): 65.141\n",
      "New best value for validation loss: Saved model to bestModel.pt\n",
      "Epoch: 41 \t Loss (train): 0.712 (val): 0.874 \tAcc (train) 70.668 (val): 65.168\n",
      "Epoch: 42 \t Loss (train): 0.709 (val): 0.874 \tAcc (train) 70.705 (val): 65.173\n",
      "New best value for validation loss: Saved model to bestModel.pt\n",
      "Epoch: 43 \t Loss (train): 0.708 (val): 0.873 \tAcc (train) 70.781 (val): 65.227\n",
      "New best value for validation loss: Saved model to bestModel.pt\n",
      "Epoch: 44 \t Loss (train): 0.706 (val): 0.873 \tAcc (train) 70.838 (val): 65.275\n",
      "New best value for validation loss: Saved model to bestModel.pt\n",
      "Epoch: 45 \t Loss (train): 0.704 (val): 0.872 \tAcc (train) 70.913 (val): 65.339\n",
      "Epoch: 46 \t Loss (train): 0.703 (val): 0.872 \tAcc (train) 70.951 (val): 65.189\n",
      "Epoch: 47 \t Loss (train): 0.702 (val): 0.872 \tAcc (train) 71.002 (val): 65.168\n",
      "New best value for validation loss: Saved model to bestModel.pt\n",
      "Epoch: 48 \t Loss (train): 0.701 (val): 0.871 \tAcc (train) 71.038 (val): 65.323\n",
      "New best value for validation loss: Saved model to bestModel.pt\n",
      "Epoch: 49 \t Loss (train): 0.699 (val): 0.871 \tAcc (train) 71.078 (val): 65.323\n",
      "New best value for validation loss: Saved model to bestModel.pt\n",
      "Epoch: 50 \t Loss (train): 0.698 (val): 0.871 \tAcc (train) 71.140 (val): 65.435\n"
     ]
    }
   ],
   "source": [
    "trainLossVec, valLossVec, trainAccVec, valAccVec, bEpoch = train(mlp, loss, optimizer, scheduler, 50, \n",
    "                                      training_generator, val_generator, \n",
    "                                      training_eval, verbose=True, saveModel=True)"
   ]
  },
  {
   "cell_type": "code",
   "execution_count": 0,
   "metadata": {
    "colab": {},
    "colab_type": "code",
    "id": "-eKY7MNWxrJH"
   },
   "outputs": [],
   "source": [
    "bestModel = copy.deepcopy(mlp)\n",
    "bestModel.load_state_dict(torch.load(\"bestModel.pt\"))\n",
    "bestModel = bestModel.to(device)"
   ]
  },
  {
   "cell_type": "code",
   "execution_count": 0,
   "metadata": {
    "colab": {},
    "colab_type": "code",
    "id": "teQre_3UwmnV"
   },
   "outputs": [],
   "source": [
    "accDict, lossDict = evalModel(bestModel, {\"test\": test_generator, \"train\": training_eval, \"val\": val_generator}, loss)"
   ]
  },
  {
   "cell_type": "code",
   "execution_count": 65,
   "metadata": {
    "colab": {
     "base_uri": "https://localhost:8080/",
     "height": 82
    },
    "colab_type": "code",
    "id": "08nvxbcEyEDY",
    "outputId": "16f90ba4-4e56-4384-a8fd-bd21d81116b9"
   },
   "outputs": [
    {
     "name": "stdout",
     "output_type": "stream",
     "text": [
      "Accuracy: \n",
      "{'test': 65.2062474969964, 'train': 71.14010636934512, 'val': 65.4349335184493} \n",
      "Loss: \n",
      "{'test': 0.8677037954330444, 'train': 0.6981224417686462, 'val': 0.8710798025131226}\n"
     ]
    }
   ],
   "source": [
    "print(\"Accuracy: \\n{} \\nLoss: \\n{}\".format(accDict, lossDict))"
   ]
  },
  {
   "cell_type": "code",
   "execution_count": 71,
   "metadata": {
    "colab": {
     "base_uri": "https://localhost:8080/",
     "height": 336
    },
    "colab_type": "code",
    "id": "-PW7pV3d4cQU",
    "outputId": "d0c31f09-6c57-45dc-b8d8-8de955cd1fa2"
   },
   "outputs": [
    {
     "data": {
      "image/png": "[encoded data removed]",
      "text/plain": [
       "<Figure size 864x360 with 2 Axes>"
      ]
     },
     "metadata": {
      "tags": []
     },
     "output_type": "display_data"
    }
   ],
   "source": [
    "matplotlib.rcParams['axes.spines.top'] = False\n",
    "matplotlib.rcParams['axes.spines.right'] = False\n",
    "\n",
    "fig, (ax1, ax2) = plt.subplots(1, 2, figsize=(12,5))\n",
    "\n",
    "ax1.plot(range(len(valAccVec)), valAccVec, label = \"Validation\")\n",
    "ax1.plot(range(len(trainAccVec)), trainAccVec, label = \"Train\")\n",
    "ax1.grid(True, alpha=0.4)\n",
    "ax1.set_title(\"Accuracy\")\n",
    "ax1.legend()\n",
    "ax2.plot(range(len(valLossVec)), valLossVec, label = \"Validation\")\n",
    "ax2.plot(range(len(trainLossVec)), trainLossVec, label = \"Train\")\n",
    "ax2.grid(True, alpha=0.4)\n",
    "ax2.set_title(\"Loss\")\n",
    "ax2.legend()\n",
    "plt.show()"
   ]
  }
 ],
 "metadata": {
  "accelerator": "GPU",
  "colab": {
   "collapsed_sections": [],
   "name": "Bag_of_Words.ipynb",
   "provenance": [],
   "toc_visible": true
  },
  "kernelspec": {
   "display_name": "Python 3",
   "language": "python",
   "name": "python3"
  },
  "language_info": {
   "codemirror_mode": {
    "name": "ipython",
    "version": 3
   },
   "file_extension": ".py",
   "mimetype": "text/x-python",
   "name": "python",
   "nbconvert_exporter": "python",
   "pygments_lexer": "ipython3",
   "version": "3.7.3"
  }
 },
 "nbformat": 4,
 "nbformat_minor": 1
}
