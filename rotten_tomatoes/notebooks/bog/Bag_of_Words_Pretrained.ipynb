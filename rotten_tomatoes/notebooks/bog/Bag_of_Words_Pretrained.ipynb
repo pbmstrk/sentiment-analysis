{
 "cells": [
  {
   "cell_type": "markdown",
   "metadata": {
    "colab_type": "text",
    "id": "U1ktcQe0Rb5_"
   },
   "source": [
    "# Bag of Words Model using pre-trained word embeddings"
   ]
  },
  {
   "cell_type": "code",
   "execution_count": 0,
   "metadata": {
    "colab": {},
    "colab_type": "code",
    "id": "2Paj9zVacCkT"
   },
   "outputs": [],
   "source": [
    "# data wrangling\n",
    "import pandas as pd\n",
    "import numpy as np\n",
    "from sklearn.model_selection import train_test_split\n",
    "\n",
    "# language model \n",
    "import spacy\n",
    "spacy_en = spacy.load('en')\n",
    "\n",
    "# pytorch\n",
    "import torch\n",
    "import torch.nn as nn\n",
    "import torch.nn.functional as F\n",
    "import torch.optim as optim\n",
    "from torch.nn.utils.rnn import pad_sequence, pack_padded_sequence, pad_packed_sequence\n",
    "from torch.utils import data\n",
    "\n",
    "from collections import Counter\n",
    "import copy\n",
    "import re\n",
    "import matplotlib.pyplot as plt\n",
    "import matplotlib "
   ]
  },
  {
   "cell_type": "code",
   "execution_count": 0,
   "metadata": {
    "colab": {},
    "colab_type": "code",
    "id": "OVMpObCdcFDi"
   },
   "outputs": [],
   "source": [
    "torch.backends.cudnn.deterministic = True"
   ]
  },
  {
   "cell_type": "code",
   "execution_count": 4,
   "metadata": {
    "colab": {
     "base_uri": "https://localhost:8080/",
     "height": 33
    },
    "colab_type": "code",
    "id": "5QgyixJocGwa",
    "outputId": "5c4626d3-4465-4628-891f-1f2b80a04031"
   },
   "outputs": [
    {
     "data": {
      "text/plain": [
       "device(type='cuda')"
      ]
     },
     "execution_count": 4,
     "metadata": {
      "tags": []
     },
     "output_type": "execute_result"
    }
   ],
   "source": [
    "device = torch.device(\"cuda\" if torch.cuda.is_available() else \"cpu\")\n",
    "device"
   ]
  },
  {
   "cell_type": "markdown",
   "metadata": {
    "colab_type": "text",
    "id": "BLV93l9pRhuB"
   },
   "source": [
    "## Tokenizer and custom vocabularly class"
   ]
  },
  {
   "cell_type": "code",
   "execution_count": 0,
   "metadata": {
    "colab": {},
    "colab_type": "code",
    "id": "pwKaPqUvcGy0"
   },
   "outputs": [],
   "source": [
    "def tokenizer(text): \n",
    "    text = text.lower()\n",
    "    text = re.sub(\"-rrb-\",\"\", text)\n",
    "    text = re.sub(\"-lrb-\",\"\", text)\n",
    "    tokens = spacy_en.tokenizer(text)\n",
    "    #tokens = [tok for tok in tokens if tok.is_stop == False]\n",
    "    tokens = [tok.lemma_ for tok in tokens]\n",
    "    return tokens"
   ]
  },
  {
   "cell_type": "code",
   "execution_count": 0,
   "metadata": {
    "colab": {},
    "colab_type": "code",
    "id": "EyMBgFPycG6Y"
   },
   "outputs": [],
   "source": [
    "class Vocabulary:\n",
    "      \n",
    "    def __init__(self, vocabCount, min_freq):\n",
    "        \n",
    "        # UNK tokens (don't need pad token for bag-of-words)\n",
    "        self.UNK_token = 0\n",
    "        self.vocabCount = vocabCount\n",
    "        self.min_freq = min_freq\n",
    "        # initialize list of words and vocab dictionary\n",
    "        self.wordlist = [\"<unk>\"]\n",
    "        self.word2index = {}\n",
    "        # build vocab\n",
    "        self.build_vocab(vocabCount)\n",
    "\n",
    "    def __len__(self):\n",
    "        return len(self.word2index)\n",
    "\n",
    "    def __getitem__(self, word):\n",
    "        return self.word2index.get(word, 0)\n",
    "\n",
    "    def __iter__(self):\n",
    "        return iter(vocab.word2index)\n",
    "\n",
    "    def build_vocab(self, vocabCount):\n",
    "        # sort vocab s.t. words that occur most frequently added first\n",
    "        svocabCount = {k: v for k, v in reversed(sorted(vocabCount.items(), \n",
    "                                                      key=lambda item: item[1]))}\n",
    "        \n",
    "        for word in svocabCount:\n",
    "            if svocabCount[word] >= self.min_freq:\n",
    "                self.wordlist.append(word)\n",
    "        self.word2index.update({tok: i for i, tok in enumerate(self.wordlist)})"
   ]
  },
  {
   "cell_type": "markdown",
   "metadata": {
    "colab_type": "text",
    "id": "ESphhpg4Rmj8"
   },
   "source": [
    "## Load data and tokenize"
   ]
  },
  {
   "cell_type": "code",
   "execution_count": 0,
   "metadata": {
    "colab": {},
    "colab_type": "code",
    "id": "R6WC74oacG3w"
   },
   "outputs": [],
   "source": [
    "train_data = pd.read_csv('../../data/train.tsv', sep=\"\\t\", encoding=\"utf_8_sig\")\n",
    "phrases = np.array(train_data.iloc[:, 2])\n",
    "target = np.array(train_data.iloc[:, 3])\n",
    "\n",
    "# create train and validation sets\n",
    "X_train , X_val, y_train , y_val = train_test_split(phrases, target, \n",
    "                                                    test_size = 0.2, random_state=42)\n",
    "\n",
    "# create validation and test sets\n",
    "X_val , X_test, y_val , y_test = train_test_split(X_val, y_val, \n",
    "                                                    test_size = 0.4, random_state=42)"
   ]
  },
  {
   "cell_type": "code",
   "execution_count": 9,
   "metadata": {
    "colab": {
     "base_uri": "https://localhost:8080/",
     "height": 66
    },
    "colab_type": "code",
    "id": "NpFFGpPJcdx5",
    "outputId": "850cc8b5-e78e-4e03-f433-af92fff4660e"
   },
   "outputs": [
    {
     "name": "stdout",
     "output_type": "stream",
     "text": [
      "Length of train dataset: 124848 \n",
      "Length of validation dataset: 18727 \n",
      "Length of test dataset: 12485\n"
     ]
    }
   ],
   "source": [
    "X_train = [tokenizer(phrase) for phrase in X_train]\n",
    "X_val = [tokenizer(phrase) for phrase in X_val]\n",
    "X_test = [tokenizer(phrase) for phrase in X_test]\n",
    "\n",
    "print(\"Length of train dataset: {} \\nLength of validation dataset: {} \\nLength of test dataset: {}\".format(len(X_train), len(X_val), len(X_test)))"
   ]
  },
  {
   "cell_type": "markdown",
   "metadata": {
    "colab_type": "text",
    "id": "93I3zOLGRo5Y"
   },
   "source": [
    "## Create vocabularly"
   ]
  },
  {
   "cell_type": "code",
   "execution_count": 0,
   "metadata": {
    "colab": {},
    "colab_type": "code",
    "id": "2noS2E-9cd2r"
   },
   "outputs": [],
   "source": [
    "vocabCount = Counter([item for sublist in X_train for item in sublist])\n",
    "vocab = Vocabulary(vocabCount, 1)"
   ]
  },
  {
   "cell_type": "code",
   "execution_count": 0,
   "metadata": {
    "colab": {},
    "colab_type": "code",
    "id": "KBqsJFBmcd0z"
   },
   "outputs": [],
   "source": [
    "X_trainNum = [torch.tensor([vocab[word] for word in phrase]) for phrase in X_train]\n",
    "X_valNum = [torch.tensor([vocab[word] for word in phrase]) for phrase in X_val]\n",
    "X_testNum = [torch.tensor([vocab[word] for word in phrase]) for phrase in X_test]"
   ]
  },
  {
   "cell_type": "code",
   "execution_count": 12,
   "metadata": {
    "colab": {
     "base_uri": "https://localhost:8080/",
     "height": 33
    },
    "colab_type": "code",
    "id": "qVnB7wh9cG13",
    "outputId": "c215a6d7-c0de-4068-d511-ca4401fe1253"
   },
   "outputs": [
    {
     "name": "stdout",
     "output_type": "stream",
     "text": [
      "43785\n"
     ]
    }
   ],
   "source": [
    "# make sure each tensor actually has values\n",
    "for i, el in enumerate(X_trainNum):\n",
    "    if el.nelement() == 0:\n",
    "        print(i)\n",
    "        X_trainNum[i] = torch.tensor([0]).long()"
   ]
  },
  {
   "cell_type": "code",
   "execution_count": 0,
   "metadata": {
    "colab": {},
    "colab_type": "code",
    "id": "s3ICfhe1cmVX"
   },
   "outputs": [],
   "source": [
    "# make sure each tensor actually has values\n",
    "for i, el in enumerate(X_valNum):\n",
    "    if el.nelement() == 0:\n",
    "        print(i)\n",
    "        X_valNum[i] = torch.tensor([0]).long()"
   ]
  },
  {
   "cell_type": "code",
   "execution_count": 15,
   "metadata": {
    "colab": {
     "base_uri": "https://localhost:8080/",
     "height": 33
    },
    "colab_type": "code",
    "id": "oRxvYjvNcmcE",
    "outputId": "ceb25f55-c71d-4574-dd19-e90ee24c7b57"
   },
   "outputs": [
    {
     "name": "stdout",
     "output_type": "stream",
     "text": [
      "7117\n"
     ]
    }
   ],
   "source": [
    "# make sure each tensor actually has values\n",
    "for i, el in enumerate(X_testNum):\n",
    "    if el.nelement() == 0:\n",
    "        print(i)\n",
    "        X_testNum[i] = torch.tensor([0]).long()"
   ]
  },
  {
   "cell_type": "markdown",
   "metadata": {
    "colab_type": "text",
    "id": "bZeEO3i5RxA-"
   },
   "source": [
    "## Dataset class and batching function"
   ]
  },
  {
   "cell_type": "code",
   "execution_count": 0,
   "metadata": {
    "colab": {},
    "colab_type": "code",
    "id": "AkgWPf5IctN3"
   },
   "outputs": [],
   "source": [
    "class WordDataset(data.Dataset):\n",
    "    \n",
    "    def __init__(self, X, y):\n",
    "        self.X = X\n",
    "        self.y = y\n",
    "        \n",
    "    def __len__(self):\n",
    "        return len(self.y)\n",
    "    \n",
    "    def __getitem__(self, idx):  \n",
    "        X = self.X[idx]\n",
    "        Y = self.y[idx]\n",
    "        return X, Y"
   ]
  },
  {
   "cell_type": "code",
   "execution_count": 0,
   "metadata": {
    "colab": {},
    "colab_type": "code",
    "id": "7MdXxHZjctSp"
   },
   "outputs": [],
   "source": [
    "def generate_batch(batch):\n",
    "    \n",
    "    # get data and targets from batch\n",
    "    data = [item[0] for item in batch]\n",
    "    targets = [item[1] for item in batch]\n",
    "    lengths = [len(el) for el in data]\n",
    "    offsets = np.cumsum(lengths)\n",
    "    offsets = np.concatenate([[0], offsets[:-1]])\n",
    "  \n",
    "    return torch.LongTensor(torch.cat(data).long()), torch.Tensor(targets).long(), torch.LongTensor(offsets)"
   ]
  },
  {
   "cell_type": "code",
   "execution_count": 0,
   "metadata": {
    "colab": {},
    "colab_type": "code",
    "id": "0Ha36nkTctVh"
   },
   "outputs": [],
   "source": [
    "trainingset = WordDataset(X_trainNum, y_train)\n",
    "valset = WordDataset(X_valNum, y_val)\n",
    "testset = WordDataset(X_testNum, y_test)"
   ]
  },
  {
   "cell_type": "code",
   "execution_count": 0,
   "metadata": {
    "colab": {},
    "colab_type": "code",
    "id": "bwPPMJ4KctQe"
   },
   "outputs": [],
   "source": [
    "training_generator = data.DataLoader(trainingset, batch_size=64, collate_fn=generate_batch)\n",
    "val_generator = data.DataLoader(valset, batch_size=len(y_val), collate_fn=generate_batch)\n",
    "test_generator = data.DataLoader(testset, batch_size=len(y_test), collate_fn=generate_batch)"
   ]
  },
  {
   "cell_type": "code",
   "execution_count": 0,
   "metadata": {
    "colab": {},
    "colab_type": "code",
    "id": "Dtr4OmVrcmTf"
   },
   "outputs": [],
   "source": [
    "training_eval = data.DataLoader(trainingset, batch_size=len(y_train), collate_fn = generate_batch)"
   ]
  },
  {
   "cell_type": "markdown",
   "metadata": {
    "colab_type": "text",
    "id": "Oa2xWpRkR5iZ"
   },
   "source": [
    "## Training and evaluation functions"
   ]
  },
  {
   "cell_type": "code",
   "execution_count": 0,
   "metadata": {
    "colab": {},
    "colab_type": "code",
    "id": "PXJgtCVZdHA1"
   },
   "outputs": [],
   "source": [
    "def train(m, lossFun, optim, scheduler, epochs, train_loader, val_loader, train_eval,\n",
    "          saveModel = False, verbose=False):\n",
    "\n",
    "    print(\"Summary of model\\n\")\n",
    "    print(m)\n",
    "    print(\"\\n\")\n",
    "\n",
    "    # initialize lists to store loss and accuracy\n",
    "    trainLossVec , valLossVec, trainAccuracyVec, valAccuracyVec = [], [], [], []\n",
    "    bestLoss, bestEpoch = 100, 0\n",
    "\n",
    "    # get number of batches\n",
    "    numberBatches = len(train_loader)\n",
    "\n",
    "    for epoch in range(epochs):\n",
    "\n",
    "        # Set model to training mode\n",
    "        m.train()\n",
    "    \n",
    "        # Loop over each batch from the training set\n",
    "        for batch_idx, (inputs, targets, offsets) in enumerate(train_loader):\n",
    "            \n",
    "            # Zero gradient buffers\n",
    "            optim.zero_grad()\n",
    "            # Foward pass and compute loss on batch\n",
    "            outputs = m(inputs.to(device), offsets.to(device))\n",
    "            batchloss = lossFun(outputs, targets.long().to(device))\n",
    "            # Backpropagate and update weights\n",
    "            batchloss.backward()\n",
    "            # gradient clipping\n",
    "            torch.nn.utils.clip_grad_norm_(m.parameters(), 1., norm_type=2)\n",
    "            # optimizer step\n",
    "            optim.step()\n",
    "    \n",
    "        # set model to evaluation mode\n",
    "        m.eval()\n",
    "        with torch.no_grad():\n",
    "            \n",
    "            # evaluate model on training and validation data\n",
    "            acc, loss = evalModel(m, {\"train\": train_eval, \"val\": val_loader}, lossFun)\n",
    "            # update accuracy\n",
    "            trainAccuracyVec.append(acc[\"train\"])\n",
    "            valAccuracyVec.append(acc[\"val\"])\n",
    "            # update loss\n",
    "            trainLossVec.append(loss[\"train\"])\n",
    "            valLossVec.append(loss[\"val\"])\n",
    "            \n",
    "            # opportunity to not include a scheduler\n",
    "            if scheduler != None:\n",
    "                scheduler.step()\n",
    "    \n",
    "            # check if new best for validation accuracy\n",
    "            if valLossVec[-1] < bestLoss:\n",
    "                bestLoss = valLossVec[-1]\n",
    "                bestEpoch = epoch\n",
    "                if saveModel == True:\n",
    "                    torch.save(m.state_dict(), \"bestModel.pt\")\n",
    "                    print(\"New best value for validation loss: Saved model to bestModel.pt\")\n",
    "            \n",
    "            # print information about training progress\n",
    "            if verbose == True:\n",
    "                print((\"Epoch: {} \\t Loss (train): {:.3f} (val): {:.3f} \\t\" +\n",
    "              \"Acc (train) {:.3f} (val): {:.3f}\").format(epoch + 1,\n",
    "                            trainLossVec[-1], valLossVec[-1], trainAccuracyVec[-1], valAccuracyVec[-1]))\n",
    "            # clean up\n",
    "            del inputs, targets, outputs, acc, loss\n",
    "\n",
    "    return trainLossVec, valLossVec, trainAccuracyVec, valAccuracyVec, bestEpoch"
   ]
  },
  {
   "cell_type": "code",
   "execution_count": 0,
   "metadata": {
    "colab": {},
    "colab_type": "code",
    "id": "1dheFynldG9M"
   },
   "outputs": [],
   "source": [
    "def evalModel(model, dataDict, lossFun):\n",
    "    \n",
    "    keys = list(dataDict.keys())\n",
    "    values = [0] * len(keys)\n",
    "\n",
    "    acc = dict(zip(keys, values))\n",
    "    lossDict = dict(zip(keys, values))\n",
    "\n",
    "    model.eval()\n",
    "    with torch.no_grad():\n",
    "        \n",
    "        for data in dataDict.keys():\n",
    "\n",
    "            lossVal = 0\n",
    "            correct = 0\n",
    "\n",
    "            out = []\n",
    "            tar = []\n",
    "\n",
    "            for (inputs, targets, offsets) in dataDict[data]:\n",
    "\n",
    "                tar.append(targets)\n",
    "                \n",
    "                outputs = model(inputs.to(device), offsets.to(device))\n",
    "                out.append(outputs)\n",
    "\n",
    "            out = torch.cat(out, dim=1)\n",
    "            tar = torch.cat(tar)\n",
    "\n",
    "            accVal, lossVal = compute_metrics(out, tar, lossFun)\n",
    "      \n",
    "            acc[data] = accVal * 100\n",
    "            lossDict[data] = lossVal\n",
    "\n",
    "            del inputs, targets, outputs\n",
    "\n",
    "    return acc, lossDict"
   ]
  },
  {
   "cell_type": "code",
   "execution_count": 0,
   "metadata": {
    "colab": {},
    "colab_type": "code",
    "id": "QEjLJx_ASGOp"
   },
   "outputs": [],
   "source": [
    "def compute_metrics(outputs, targets, loss):\n",
    "    \n",
    "    lossVal = loss(outputs.to(device), targets.to(device)).item()\n",
    "\n",
    "    _, pred = torch.max(outputs.data, 1)\n",
    "    correct = (pred == targets.to(device)).sum().item()\n",
    "\n",
    "    accVal = correct/len(targets)\n",
    "\n",
    "    return accVal, lossVal"
   ]
  },
  {
   "cell_type": "markdown",
   "metadata": {
    "colab_type": "text",
    "id": "Go7pmDl9SMuT"
   },
   "source": [
    "## Download word embedding (GloVe)"
   ]
  },
  {
   "cell_type": "code",
   "execution_count": 24,
   "metadata": {
    "colab": {
     "base_uri": "https://localhost:8080/",
     "height": 456
    },
    "colab_type": "code",
    "id": "4HH-uEctMMw0",
    "outputId": "381e5c36-58fb-43da-c819-959baa70f331"
   },
   "outputs": [
    {
     "name": "stdout",
     "output_type": "stream",
     "text": [
      "--2020-02-07 15:33:43--  http://nlp.stanford.edu/data/glove.6B.zip\n",
      "Resolving nlp.stanford.edu (nlp.stanford.edu)... 171.64.67.140\n",
      "Connecting to nlp.stanford.edu (nlp.stanford.edu)|171.64.67.140|:80... connected.\n",
      "HTTP request sent, awaiting response... 302 Found\n",
      "Location: https://nlp.stanford.edu/data/glove.6B.zip [following]\n",
      "--2020-02-07 15:33:43--  https://nlp.stanford.edu/data/glove.6B.zip\n",
      "Connecting to nlp.stanford.edu (nlp.stanford.edu)|171.64.67.140|:443... connected.\n",
      "HTTP request sent, awaiting response... 301 Moved Permanently\n",
      "Location: http://downloads.cs.stanford.edu/nlp/data/glove.6B.zip [following]\n",
      "--2020-02-07 15:33:43--  http://downloads.cs.stanford.edu/nlp/data/glove.6B.zip\n",
      "Resolving downloads.cs.stanford.edu (downloads.cs.stanford.edu)... 171.64.64.22\n",
      "Connecting to downloads.cs.stanford.edu (downloads.cs.stanford.edu)|171.64.64.22|:80... connected.\n",
      "HTTP request sent, awaiting response... 200 OK\n",
      "Length: 862182613 (822M) [application/zip]\n",
      "Saving to: ‘glove.6B.zip’\n",
      "\n",
      "glove.6B.zip        100%[===================>] 822.24M  2.08MB/s    in 6m 27s  \n",
      "\n",
      "2020-02-07 15:40:10 (2.13 MB/s) - ‘glove.6B.zip’ saved [862182613/862182613]\n",
      "\n",
      "Archive:  glove.6B.zip\n",
      "  inflating: glove.6B.50d.txt        \n",
      "  inflating: glove.6B.100d.txt       \n",
      "  inflating: glove.6B.200d.txt       \n",
      "  inflating: glove.6B.300d.txt       \n",
      "Indexing word vectors.\n",
      "Found 400000 word vectors.\n"
     ]
    }
   ],
   "source": [
    "!wget http://nlp.stanford.edu/data/glove.6B.zip\n",
    "!unzip glove*.zip\n",
    "print('Indexing word vectors.')\n",
    "embeddings_index = {}\n",
    "f = open('glove.6B.300d.txt', encoding='utf-8')\n",
    "for line in f:\n",
    "    values = line.split()\n",
    "    word = values[0]\n",
    "    coefs = np.asarray(values[1:], dtype='float32')\n",
    "    embeddings_index[word] = coefs\n",
    "f.close()\n",
    "print('Found {} word vectors.'.format(len(embeddings_index)))"
   ]
  },
  {
   "cell_type": "code",
   "execution_count": 26,
   "metadata": {
    "colab": {
     "base_uri": "https://localhost:8080/",
     "height": 33
    },
    "colab_type": "code",
    "id": "c1ukiixcdLCZ",
    "outputId": "e8cdaaa2-6f23-48d9-9c9b-b379dbe286c2"
   },
   "outputs": [
    {
     "name": "stdout",
     "output_type": "stream",
     "text": [
      "Words not found: 441\n"
     ]
    }
   ],
   "source": [
    "# iterate through each word in the vocabularly\n",
    "# if there exists a word embedding insert it,\n",
    "# else use a sample from a random normal\n",
    "matrix_len = len(vocab)\n",
    "weights_matrix = np.zeros((matrix_len, 300))\n",
    "words_notfound = 0\n",
    "\n",
    "for i, word in enumerate(vocab):\n",
    "    try: \n",
    "        weights_matrix[i] = embeddings_index[word]\n",
    "        # if there is no embedding for the given word\n",
    "        # create vector sampled from random normal\n",
    "\n",
    "        # a advantage of updating the weights of the\n",
    "        # embedding layer as part of training, is that\n",
    "        # an embedding will be learnt for these words \n",
    "    except KeyError:\n",
    "\n",
    "        weights_matrix[i] = np.random.normal(scale=0.5, size=(300, ))\n",
    "        words_notfound += 1\n",
    "\n",
    "# clean up\n",
    "#del embeddings_index\n",
    "\n",
    "print(\"Words not found: {}\".format(words_notfound))"
   ]
  },
  {
   "cell_type": "markdown",
   "metadata": {
    "colab_type": "text",
    "id": "TADzcXkySVOy"
   },
   "source": [
    "## Model"
   ]
  },
  {
   "cell_type": "code",
   "execution_count": 0,
   "metadata": {
    "colab": {},
    "colab_type": "code",
    "id": "i9UAhYlidLFV"
   },
   "outputs": [],
   "source": [
    "class BagofVector(nn.Module):\n",
    "    \n",
    "    def __init__(self, embeddingDIM, hiddenDIM1, hiddenDIM2, \n",
    "               ouputDIM, vocab_size, pooling=\"sum\"):\n",
    "        \n",
    "        super(BagofVector, self).__init__()\n",
    "\n",
    "        self.embedding = nn.EmbeddingBag(vocab_size, embeddingDIM, mode=pooling)\n",
    "        self.fc = nn.Sequential(\n",
    "            nn.Linear(embeddingDIM, hiddenDIM1),\n",
    "            nn.ReLU(),\n",
    "            nn.Dropout(),\n",
    "            nn.Linear(hiddenDIM1, hiddenDIM2),\n",
    "            nn.ReLU(),\n",
    "            nn.Dropout(),\n",
    "            nn.Linear(hiddenDIM2, ouputDIM)\n",
    "        )\n",
    "\n",
    "        \n",
    "    def forward(self, inputs, offsets):\n",
    "\n",
    "        x = self.embedding(inputs, offsets)\n",
    "        x = self.fc(x)\n",
    "        return x"
   ]
  },
  {
   "cell_type": "code",
   "execution_count": 0,
   "metadata": {
    "colab": {},
    "colab_type": "code",
    "id": "PKvsV4wLdG3y"
   },
   "outputs": [],
   "source": [
    "torch.manual_seed(42)\n",
    "mlp = BagofVector(300, 128, 64, 5, len(vocab), \"sum\").to(device)\n",
    "mlp.embedding.weight.data.copy_(torch.from_numpy(weights_matrix))\n",
    "optimizer = optim.Adam([\n",
    "                {'params': mlp.fc.parameters(), 'lr': 2e-4},\n",
    "                {'params': mlp.embedding.weight, 'lr': 1e-5}\n",
    "            ])\n",
    "scheduler = optim.lr_scheduler.StepLR(optimizer, step_size=6, gamma=0.8) \n",
    "loss = nn.CrossEntropyLoss()"
   ]
  },
  {
   "cell_type": "code",
   "execution_count": 29,
   "metadata": {
    "colab": {
     "base_uri": "https://localhost:8080/",
     "height": 1000
    },
    "colab_type": "code",
    "id": "wdFrRVdNbw_f",
    "outputId": "6fe0aff3-94a6-49b1-f249-4c859fda7bb3"
   },
   "outputs": [
    {
     "name": "stdout",
     "output_type": "stream",
     "text": [
      "Summary of model\n",
      "\n",
      "BagofVector(\n",
      "  (embedding): EmbeddingBag(12134, 300, mode=sum)\n",
      "  (fc): Sequential(\n",
      "    (0): Linear(in_features=300, out_features=128, bias=True)\n",
      "    (1): ReLU()\n",
      "    (2): Dropout(p=0.5, inplace=False)\n",
      "    (3): Linear(in_features=128, out_features=64, bias=True)\n",
      "    (4): ReLU()\n",
      "    (5): Dropout(p=0.5, inplace=False)\n",
      "    (6): Linear(in_features=64, out_features=5, bias=True)\n",
      "  )\n",
      ")\n",
      "\n",
      "\n",
      "New best value for validation loss: Saved model to bestModel.pt\n",
      "Epoch: 1 \t Loss (train): 1.008 (val): 1.016 \tAcc (train) 58.665 (val): 58.221\n",
      "New best value for validation loss: Saved model to bestModel.pt\n",
      "Epoch: 2 \t Loss (train): 0.957 (val): 0.967 \tAcc (train) 60.111 (val): 59.700\n",
      "New best value for validation loss: Saved model to bestModel.pt\n",
      "Epoch: 3 \t Loss (train): 0.935 (val): 0.950 \tAcc (train) 60.679 (val): 60.127\n",
      "New best value for validation loss: Saved model to bestModel.pt\n",
      "Epoch: 4 \t Loss (train): 0.918 (val): 0.937 \tAcc (train) 61.352 (val): 60.351\n",
      "New best value for validation loss: Saved model to bestModel.pt\n",
      "Epoch: 5 \t Loss (train): 0.903 (val): 0.926 \tAcc (train) 61.766 (val): 60.891\n",
      "New best value for validation loss: Saved model to bestModel.pt\n",
      "Epoch: 6 \t Loss (train): 0.890 (val): 0.917 \tAcc (train) 62.314 (val): 61.291\n",
      "New best value for validation loss: Saved model to bestModel.pt\n",
      "Epoch: 7 \t Loss (train): 0.876 (val): 0.908 \tAcc (train) 62.905 (val): 61.547\n",
      "New best value for validation loss: Saved model to bestModel.pt\n",
      "Epoch: 8 \t Loss (train): 0.865 (val): 0.899 \tAcc (train) 63.594 (val): 62.076\n",
      "New best value for validation loss: Saved model to bestModel.pt\n",
      "Epoch: 9 \t Loss (train): 0.857 (val): 0.895 \tAcc (train) 63.728 (val): 62.017\n",
      "New best value for validation loss: Saved model to bestModel.pt\n",
      "Epoch: 10 \t Loss (train): 0.849 (val): 0.890 \tAcc (train) 64.012 (val): 62.445\n",
      "New best value for validation loss: Saved model to bestModel.pt\n",
      "Epoch: 11 \t Loss (train): 0.840 (val): 0.883 \tAcc (train) 64.496 (val): 62.776\n",
      "New best value for validation loss: Saved model to bestModel.pt\n",
      "Epoch: 12 \t Loss (train): 0.833 (val): 0.880 \tAcc (train) 64.793 (val): 62.952\n",
      "New best value for validation loss: Saved model to bestModel.pt\n",
      "Epoch: 13 \t Loss (train): 0.823 (val): 0.874 \tAcc (train) 65.241 (val): 63.336\n",
      "New best value for validation loss: Saved model to bestModel.pt\n",
      "Epoch: 14 \t Loss (train): 0.818 (val): 0.871 \tAcc (train) 65.447 (val): 63.251\n",
      "New best value for validation loss: Saved model to bestModel.pt\n",
      "Epoch: 15 \t Loss (train): 0.813 (val): 0.868 \tAcc (train) 65.708 (val): 63.497\n",
      "New best value for validation loss: Saved model to bestModel.pt\n",
      "Epoch: 16 \t Loss (train): 0.805 (val): 0.864 \tAcc (train) 65.948 (val): 63.646\n",
      "New best value for validation loss: Saved model to bestModel.pt\n",
      "Epoch: 17 \t Loss (train): 0.800 (val): 0.861 \tAcc (train) 66.213 (val): 63.860\n",
      "New best value for validation loss: Saved model to bestModel.pt\n",
      "Epoch: 18 \t Loss (train): 0.796 (val): 0.860 \tAcc (train) 66.309 (val): 63.817\n",
      "New best value for validation loss: Saved model to bestModel.pt\n",
      "Epoch: 19 \t Loss (train): 0.789 (val): 0.856 \tAcc (train) 66.696 (val): 63.999\n",
      "New best value for validation loss: Saved model to bestModel.pt\n",
      "Epoch: 20 \t Loss (train): 0.785 (val): 0.855 \tAcc (train) 66.886 (val): 64.319\n",
      "New best value for validation loss: Saved model to bestModel.pt\n",
      "Epoch: 21 \t Loss (train): 0.781 (val): 0.854 \tAcc (train) 66.938 (val): 64.063\n",
      "New best value for validation loss: Saved model to bestModel.pt\n",
      "Epoch: 22 \t Loss (train): 0.777 (val): 0.851 \tAcc (train) 67.222 (val): 64.495\n",
      "New best value for validation loss: Saved model to bestModel.pt\n",
      "Epoch: 23 \t Loss (train): 0.773 (val): 0.850 \tAcc (train) 67.368 (val): 64.415\n",
      "New best value for validation loss: Saved model to bestModel.pt\n",
      "Epoch: 24 \t Loss (train): 0.769 (val): 0.846 \tAcc (train) 67.573 (val): 64.730\n",
      "New best value for validation loss: Saved model to bestModel.pt\n",
      "Epoch: 25 \t Loss (train): 0.764 (val): 0.845 \tAcc (train) 67.795 (val): 64.746\n",
      "New best value for validation loss: Saved model to bestModel.pt\n",
      "Epoch: 26 \t Loss (train): 0.761 (val): 0.843 \tAcc (train) 67.898 (val): 64.906\n",
      "Epoch: 27 \t Loss (train): 0.758 (val): 0.843 \tAcc (train) 68.096 (val): 64.901\n",
      "Epoch: 28 \t Loss (train): 0.756 (val): 0.843 \tAcc (train) 68.091 (val): 64.864\n",
      "New best value for validation loss: Saved model to bestModel.pt\n",
      "Epoch: 29 \t Loss (train): 0.753 (val): 0.840 \tAcc (train) 68.317 (val): 65.157\n",
      "New best value for validation loss: Saved model to bestModel.pt\n",
      "Epoch: 30 \t Loss (train): 0.751 (val): 0.840 \tAcc (train) 68.322 (val): 65.125\n",
      "Epoch: 31 \t Loss (train): 0.748 (val): 0.840 \tAcc (train) 68.454 (val): 65.323\n",
      "New best value for validation loss: Saved model to bestModel.pt\n",
      "Epoch: 32 \t Loss (train): 0.745 (val): 0.838 \tAcc (train) 68.596 (val): 65.211\n",
      "New best value for validation loss: Saved model to bestModel.pt\n",
      "Epoch: 33 \t Loss (train): 0.742 (val): 0.837 \tAcc (train) 68.754 (val): 65.285\n",
      "Epoch: 34 \t Loss (train): 0.741 (val): 0.837 \tAcc (train) 68.863 (val): 65.366\n",
      "Epoch: 35 \t Loss (train): 0.739 (val): 0.837 \tAcc (train) 68.804 (val): 65.344\n",
      "New best value for validation loss: Saved model to bestModel.pt\n",
      "Epoch: 36 \t Loss (train): 0.736 (val): 0.835 \tAcc (train) 69.016 (val): 65.414\n",
      "Epoch: 37 \t Loss (train): 0.734 (val): 0.835 \tAcc (train) 69.009 (val): 65.264\n",
      "New best value for validation loss: Saved model to bestModel.pt\n",
      "Epoch: 38 \t Loss (train): 0.732 (val): 0.834 \tAcc (train) 69.137 (val): 65.472\n",
      "New best value for validation loss: Saved model to bestModel.pt\n",
      "Epoch: 39 \t Loss (train): 0.731 (val): 0.834 \tAcc (train) 69.187 (val): 65.552\n",
      "New best value for validation loss: Saved model to bestModel.pt\n",
      "Epoch: 40 \t Loss (train): 0.729 (val): 0.834 \tAcc (train) 69.220 (val): 65.643\n",
      "New best value for validation loss: Saved model to bestModel.pt\n",
      "Epoch: 41 \t Loss (train): 0.726 (val): 0.832 \tAcc (train) 69.403 (val): 65.883\n",
      "New best value for validation loss: Saved model to bestModel.pt\n",
      "Epoch: 42 \t Loss (train): 0.725 (val): 0.832 \tAcc (train) 69.482 (val): 65.643\n",
      "New best value for validation loss: Saved model to bestModel.pt\n",
      "Epoch: 43 \t Loss (train): 0.723 (val): 0.831 \tAcc (train) 69.577 (val): 65.654\n",
      "New best value for validation loss: Saved model to bestModel.pt\n",
      "Epoch: 44 \t Loss (train): 0.721 (val): 0.831 \tAcc (train) 69.625 (val): 65.697\n",
      "New best value for validation loss: Saved model to bestModel.pt\n",
      "Epoch: 45 \t Loss (train): 0.720 (val): 0.830 \tAcc (train) 69.687 (val): 65.835\n",
      "Epoch: 46 \t Loss (train): 0.719 (val): 0.831 \tAcc (train) 69.641 (val): 65.718\n",
      "New best value for validation loss: Saved model to bestModel.pt\n",
      "Epoch: 47 \t Loss (train): 0.717 (val): 0.830 \tAcc (train) 69.834 (val): 65.841\n",
      "New best value for validation loss: Saved model to bestModel.pt\n",
      "Epoch: 48 \t Loss (train): 0.716 (val): 0.829 \tAcc (train) 69.897 (val): 65.825\n",
      "New best value for validation loss: Saved model to bestModel.pt\n",
      "Epoch: 49 \t Loss (train): 0.714 (val): 0.828 \tAcc (train) 69.907 (val): 65.793\n",
      "New best value for validation loss: Saved model to bestModel.pt\n",
      "Epoch: 50 \t Loss (train): 0.713 (val): 0.828 \tAcc (train) 69.984 (val): 65.980\n"
     ]
    }
   ],
   "source": [
    "trainLossVec, valLossVec, trainAccVec, valAccVec, bEpoch = train(mlp, loss, optimizer, scheduler, 50, \n",
    "                                      training_generator, val_generator, \n",
    "                                      training_eval, verbose=True, saveModel=True)"
   ]
  },
  {
   "cell_type": "code",
   "execution_count": 0,
   "metadata": {
    "colab": {},
    "colab_type": "code",
    "id": "C4f_urOcixCS"
   },
   "outputs": [],
   "source": [
    "bestModel = copy.deepcopy(mlp)\n",
    "bestModel.load_state_dict(torch.load(\"bestModel.pt\"))\n",
    "bestModel = bestModel.to(device)"
   ]
  },
  {
   "cell_type": "code",
   "execution_count": 31,
   "metadata": {
    "colab": {
     "base_uri": "https://localhost:8080/",
     "height": 82
    },
    "colab_type": "code",
    "id": "V4GzYpWXnkbi",
    "outputId": "6636ee88-7090-47cd-a0f4-4061bd2b15b6"
   },
   "outputs": [
    {
     "name": "stdout",
     "output_type": "stream",
     "text": [
      "Accuracy: \n",
      "{'test': 65.37444933920705, 'train': 69.98430090990645, 'val': 65.97960164468415} \n",
      "Loss: \n",
      "{'test': 0.827946662902832, 'train': 0.7127672433853149, 'val': 0.828318178653717}\n"
     ]
    }
   ],
   "source": [
    "accDict, lossDict = evalModel(bestModel, {\"test\": test_generator, \"train\": training_eval, \"val\": val_generator}, loss)\n",
    "print(\"Accuracy: \\n{} \\nLoss: \\n{}\".format(accDict, lossDict))"
   ]
  },
  {
   "cell_type": "code",
   "execution_count": 32,
   "metadata": {
    "colab": {
     "base_uri": "https://localhost:8080/",
     "height": 336
    },
    "colab_type": "code",
    "id": "yGJuzHdonnfp",
    "outputId": "593f4ebf-a67d-408e-f0b6-877ad9d39ee1"
   },
   "outputs": [
    {
     "data": {
      "image/png": "[encoded data removed]",
      "text/plain": [
       "<Figure size 864x360 with 2 Axes>"
      ]
     },
     "metadata": {
      "tags": []
     },
     "output_type": "display_data"
    }
   ],
   "source": [
    "matplotlib.rcParams['axes.spines.top'] = False\n",
    "matplotlib.rcParams['axes.spines.right'] = False\n",
    "\n",
    "fig, (ax1, ax2) = plt.subplots(1, 2, figsize=(12,5))\n",
    "\n",
    "ax1.plot(range(len(valAccVec)), valAccVec, label = \"Validation\")\n",
    "ax1.plot(range(len(trainAccVec)), trainAccVec, label = \"Train\")\n",
    "ax1.grid(True, alpha=0.4)\n",
    "ax1.set_title(\"Accuracy\")\n",
    "ax1.legend()\n",
    "ax2.plot(range(len(valLossVec)), valLossVec, label = \"Validation\")\n",
    "ax2.plot(range(len(trainLossVec)), trainLossVec, label = \"Train\")\n",
    "ax2.grid(True, alpha=0.4)\n",
    "ax2.set_title(\"Loss\")\n",
    "ax2.legend()\n",
    "plt.show()"
   ]
  }
 ],
 "metadata": {
  "accelerator": "GPU",
  "colab": {
   "name": "Bag-of-Words-Pretrained.ipynb",
   "provenance": []
  },
  "kernelspec": {
   "display_name": "Python 3",
   "language": "python",
   "name": "python3"
  },
  "language_info": {
   "codemirror_mode": {
    "name": "ipython",
    "version": 3
   },
   "file_extension": ".py",
   "mimetype": "text/x-python",
   "name": "python",
   "nbconvert_exporter": "python",
   "pygments_lexer": "ipython3",
   "version": "3.7.3"
  }
 },
 "nbformat": 4,
 "nbformat_minor": 1
}
