{
 "cells": [
  {
   "cell_type": "markdown",
   "metadata": {
    "colab_type": "text",
    "id": "U1ktcQe0Rb5_"
   },
   "source": [
    "# Bag of Words Model using pre-trained word embeddings"
   ]
  },
  {
   "cell_type": "code",
   "execution_count": 0,
   "metadata": {
    "colab": {},
    "colab_type": "code",
    "id": "2Paj9zVacCkT"
   },
   "outputs": [],
   "source": [
    "# data wrangling\n",
    "import pandas as pd\n",
    "import numpy as np\n",
    "from sklearn.model_selection import train_test_split\n",
    "\n",
    "# language model \n",
    "import spacy\n",
    "spacy_en = spacy.load('en')\n",
    "\n",
    "# pytorch\n",
    "import torch\n",
    "import torch.nn as nn\n",
    "import torch.nn.functional as F\n",
    "import torch.optim as optim\n",
    "from torch.nn.utils.rnn import pad_sequence, pack_padded_sequence, pad_packed_sequence\n",
    "from torch.utils import data\n",
    "\n",
    "from collections import Counter\n",
    "import copy\n",
    "import re\n",
    "import matplotlib.pyplot as plt\n",
    "import matplotlib "
   ]
  },
  {
   "cell_type": "code",
   "execution_count": 0,
   "metadata": {
    "colab": {},
    "colab_type": "code",
    "id": "OVMpObCdcFDi"
   },
   "outputs": [],
   "source": [
    "torch.backends.cudnn.deterministic = True"
   ]
  },
  {
   "cell_type": "code",
   "execution_count": 4,
   "metadata": {
    "colab": {
     "base_uri": "https://localhost:8080/",
     "height": 33
    },
    "colab_type": "code",
    "id": "5QgyixJocGwa",
    "outputId": "7b601dad-696e-4210-e683-da9915231df3"
   },
   "outputs": [
    {
     "data": {
      "text/plain": [
       "device(type='cuda')"
      ]
     },
     "execution_count": 4,
     "metadata": {
      "tags": []
     },
     "output_type": "execute_result"
    }
   ],
   "source": [
    "device = torch.device(\"cuda\" if torch.cuda.is_available() else \"cpu\")\n",
    "device"
   ]
  },
  {
   "cell_type": "markdown",
   "metadata": {
    "colab_type": "text",
    "id": "BLV93l9pRhuB"
   },
   "source": [
    "## Tokenizer and custom vocabularly class"
   ]
  },
  {
   "cell_type": "code",
   "execution_count": 0,
   "metadata": {
    "colab": {},
    "colab_type": "code",
    "id": "pwKaPqUvcGy0"
   },
   "outputs": [],
   "source": [
    "def tokenizer(text): \n",
    "    text = text.lower()\n",
    "    text = re.sub(\"-rrb-\",\"\", text)\n",
    "    text = re.sub(\"-lrb-\",\"\", text)\n",
    "    tokens = spacy_en.tokenizer(text)\n",
    "    #tokens = [tok for tok in tokens if tok.is_stop == False]\n",
    "    tokens = [tok.lemma_ for tok in tokens]\n",
    "    return tokens"
   ]
  },
  {
   "cell_type": "code",
   "execution_count": 0,
   "metadata": {
    "colab": {},
    "colab_type": "code",
    "id": "EyMBgFPycG6Y"
   },
   "outputs": [],
   "source": [
    "class Vocabulary:\n",
    "      \n",
    "    def __init__(self, vocabCount, min_freq):\n",
    "        \n",
    "        # UNK tokens (don't need pad token for bag-of-words)\n",
    "        self.UNK_token = 0\n",
    "        self.vocabCount = vocabCount\n",
    "        self.min_freq = min_freq\n",
    "        # initialize list of words and vocab dictionary\n",
    "        self.wordlist = [\"<unk>\"]\n",
    "        self.word2index = {}\n",
    "        # build vocab\n",
    "        self.build_vocab(vocabCount)\n",
    "\n",
    "    def __len__(self):\n",
    "        return len(self.word2index)\n",
    "\n",
    "    def __getitem__(self, word):\n",
    "        return self.word2index.get(word, 0)\n",
    "\n",
    "    def __iter__(self):\n",
    "        return iter(vocab.word2index)\n",
    "\n",
    "    def build_vocab(self, vocabCount):\n",
    "        # sort vocab s.t. words that occur most frequently added first\n",
    "        svocabCount = {k: v for k, v in reversed(sorted(vocabCount.items(), \n",
    "                                                      key=lambda item: item[1]))}\n",
    "        \n",
    "        for word in svocabCount:\n",
    "            if svocabCount[word] >= self.min_freq:\n",
    "                self.wordlist.append(word)\n",
    "        self.word2index.update({tok: i for i, tok in enumerate(self.wordlist)})"
   ]
  },
  {
   "cell_type": "markdown",
   "metadata": {
    "colab_type": "text",
    "id": "ESphhpg4Rmj8"
   },
   "source": [
    "## Load data and tokenize"
   ]
  },
  {
   "cell_type": "code",
   "execution_count": 0,
   "metadata": {
    "colab": {},
    "colab_type": "code",
    "id": "R6WC74oacG3w"
   },
   "outputs": [],
   "source": [
    "train_data = pd.read_csv('../../data/train.tsv', sep=\"\\t\", encoding=\"utf_8_sig\")\n",
    "phrases = np.array(train_data.iloc[:, 2])\n",
    "target = np.array(train_data.iloc[:, 3])\n",
    "\n",
    "# create train and validation sets\n",
    "X_train , X_val, y_train , y_val = train_test_split(phrases, target, \n",
    "                                                    test_size = 0.2, random_state=42)\n",
    "\n",
    "# create validation and test sets\n",
    "X_val , X_test, y_val , y_test = train_test_split(X_val, y_val, \n",
    "                                                    test_size = 0.4, random_state=42)"
   ]
  },
  {
   "cell_type": "code",
   "execution_count": 8,
   "metadata": {
    "colab": {
     "base_uri": "https://localhost:8080/",
     "height": 66
    },
    "colab_type": "code",
    "id": "NpFFGpPJcdx5",
    "outputId": "ed57a7e8-a04b-44bc-c4ec-b57e85b4698b"
   },
   "outputs": [
    {
     "name": "stdout",
     "output_type": "stream",
     "text": [
      "Length of train dataset: 124848 \n",
      "Length of validation dataset: 18727 \n",
      "Length of test dataset: 12485\n"
     ]
    }
   ],
   "source": [
    "X_train = [tokenizer(phrase) for phrase in X_train]\n",
    "X_val = [tokenizer(phrase) for phrase in X_val]\n",
    "X_test = [tokenizer(phrase) for phrase in X_test]\n",
    "\n",
    "print(\"Length of train dataset: {} \\nLength of validation dataset: {} \\nLength of test dataset: {}\".format(len(X_train), len(X_val), len(X_test)))"
   ]
  },
  {
   "cell_type": "markdown",
   "metadata": {
    "colab_type": "text",
    "id": "93I3zOLGRo5Y"
   },
   "source": [
    "## Create vocabularly"
   ]
  },
  {
   "cell_type": "code",
   "execution_count": 0,
   "metadata": {
    "colab": {},
    "colab_type": "code",
    "id": "2noS2E-9cd2r"
   },
   "outputs": [],
   "source": [
    "vocabCount = Counter([item for sublist in X_train for item in sublist])\n",
    "vocab = Vocabulary(vocabCount, 1)"
   ]
  },
  {
   "cell_type": "code",
   "execution_count": 0,
   "metadata": {
    "colab": {},
    "colab_type": "code",
    "id": "KBqsJFBmcd0z"
   },
   "outputs": [],
   "source": [
    "X_trainNum = [torch.tensor([vocab[word] for word in phrase]) for phrase in X_train]\n",
    "X_valNum = [torch.tensor([vocab[word] for word in phrase]) for phrase in X_val]\n",
    "X_testNum = [torch.tensor([vocab[word] for word in phrase]) for phrase in X_test]"
   ]
  },
  {
   "cell_type": "code",
   "execution_count": 11,
   "metadata": {
    "colab": {
     "base_uri": "https://localhost:8080/",
     "height": 33
    },
    "colab_type": "code",
    "id": "qVnB7wh9cG13",
    "outputId": "6cdbe2fc-cd22-4110-e394-e18849745292"
   },
   "outputs": [
    {
     "name": "stdout",
     "output_type": "stream",
     "text": [
      "43785\n"
     ]
    }
   ],
   "source": [
    "# make sure each tensor actually has values\n",
    "for i, el in enumerate(X_trainNum):\n",
    "    if el.nelement() == 0:\n",
    "        print(i)\n",
    "        X_trainNum[i] = torch.tensor([0]).long()"
   ]
  },
  {
   "cell_type": "code",
   "execution_count": 0,
   "metadata": {
    "colab": {},
    "colab_type": "code",
    "id": "s3ICfhe1cmVX"
   },
   "outputs": [],
   "source": [
    "# make sure each tensor actually has values\n",
    "for i, el in enumerate(X_valNum):\n",
    "    if el.nelement() == 0:\n",
    "        print(i)\n",
    "        X_valNum[i] = torch.tensor([0]).long()"
   ]
  },
  {
   "cell_type": "code",
   "execution_count": 13,
   "metadata": {
    "colab": {
     "base_uri": "https://localhost:8080/",
     "height": 33
    },
    "colab_type": "code",
    "id": "oRxvYjvNcmcE",
    "outputId": "f2eb1e33-c70f-4242-b6ec-e6fdf67a9d72"
   },
   "outputs": [
    {
     "name": "stdout",
     "output_type": "stream",
     "text": [
      "7117\n"
     ]
    }
   ],
   "source": [
    "# make sure each tensor actually has values\n",
    "for i, el in enumerate(X_testNum):\n",
    "    if el.nelement() == 0:\n",
    "        print(i)\n",
    "        X_testNum[i] = torch.tensor([0]).long()"
   ]
  },
  {
   "cell_type": "markdown",
   "metadata": {
    "colab_type": "text",
    "id": "bZeEO3i5RxA-"
   },
   "source": [
    "## Dataset class and batching function"
   ]
  },
  {
   "cell_type": "code",
   "execution_count": 0,
   "metadata": {
    "colab": {},
    "colab_type": "code",
    "id": "AkgWPf5IctN3"
   },
   "outputs": [],
   "source": [
    "class WordDataset(data.Dataset):\n",
    "    \n",
    "    def __init__(self, X, y):\n",
    "        self.X = X\n",
    "        self.y = y\n",
    "        \n",
    "    def __len__(self):\n",
    "        return len(self.y)\n",
    "    \n",
    "    def __getitem__(self, idx):  \n",
    "        X = self.X[idx]\n",
    "        Y = self.y[idx]\n",
    "        return X, Y"
   ]
  },
  {
   "cell_type": "code",
   "execution_count": 0,
   "metadata": {
    "colab": {},
    "colab_type": "code",
    "id": "7MdXxHZjctSp"
   },
   "outputs": [],
   "source": [
    "def generate_batch(batch):\n",
    "    \n",
    "    # get data and targets from batch\n",
    "    data = [item[0] for item in batch]\n",
    "    targets = [item[1] for item in batch]\n",
    "    lengths = [len(el) for el in data]\n",
    "    offsets = np.cumsum(lengths)\n",
    "    offsets = np.concatenate([[0], offsets[:-1]])\n",
    "  \n",
    "    return torch.LongTensor(torch.cat(data).long()), torch.Tensor(targets).long(), torch.LongTensor(offsets)"
   ]
  },
  {
   "cell_type": "code",
   "execution_count": 0,
   "metadata": {
    "colab": {},
    "colab_type": "code",
    "id": "0Ha36nkTctVh"
   },
   "outputs": [],
   "source": [
    "trainingset = WordDataset(X_trainNum, y_train)\n",
    "valset = WordDataset(X_valNum, y_val)\n",
    "testset = WordDataset(X_testNum, y_test)"
   ]
  },
  {
   "cell_type": "code",
   "execution_count": 0,
   "metadata": {
    "colab": {},
    "colab_type": "code",
    "id": "bwPPMJ4KctQe"
   },
   "outputs": [],
   "source": [
    "training_generator = data.DataLoader(trainingset, batch_size=64, collate_fn=generate_batch)\n",
    "val_generator = data.DataLoader(valset, batch_size=len(y_val), collate_fn=generate_batch)\n",
    "test_generator = data.DataLoader(testset, batch_size=len(y_test), collate_fn=generate_batch)"
   ]
  },
  {
   "cell_type": "code",
   "execution_count": 0,
   "metadata": {
    "colab": {},
    "colab_type": "code",
    "id": "Dtr4OmVrcmTf"
   },
   "outputs": [],
   "source": [
    "training_eval = data.DataLoader(trainingset, batch_size=len(y_train), collate_fn = generate_batch)"
   ]
  },
  {
   "cell_type": "markdown",
   "metadata": {
    "colab_type": "text",
    "id": "Oa2xWpRkR5iZ"
   },
   "source": [
    "## Training and evaluation functions"
   ]
  },
  {
   "cell_type": "code",
   "execution_count": 0,
   "metadata": {
    "colab": {},
    "colab_type": "code",
    "id": "PXJgtCVZdHA1"
   },
   "outputs": [],
   "source": [
    "def train(m, lossFun, optim, scheduler, epochs, train_loader, val_loader, train_eval,\n",
    "          saveModel = False, verbose=False):\n",
    "\n",
    "    print(\"Summary of model\\n\")\n",
    "    print(m)\n",
    "    print(\"\\n\")\n",
    "\n",
    "    # initialize lists to store loss and accuracy\n",
    "    trainLossVec , valLossVec, trainAccuracyVec, valAccuracyVec = [], [], [], []\n",
    "    bestLoss, bestEpoch = 100, 0\n",
    "\n",
    "    # get number of batches\n",
    "    numberBatches = len(train_loader)\n",
    "\n",
    "    for epoch in range(epochs):\n",
    "\n",
    "        # Set model to training mode\n",
    "        m.train()\n",
    "    \n",
    "        # Loop over each batch from the training set\n",
    "        for batch_idx, (inputs, targets, offsets) in enumerate(train_loader):\n",
    "            \n",
    "            # Zero gradient buffers\n",
    "            optim.zero_grad()\n",
    "            # Foward pass and compute loss on batch\n",
    "            outputs = m(inputs.to(device), offsets.to(device))\n",
    "            batchloss = lossFun(outputs, targets.long().to(device))\n",
    "            # Backpropagate and update weights\n",
    "            batchloss.backward()\n",
    "            # gradient clipping\n",
    "            torch.nn.utils.clip_grad_norm_(m.parameters(), 1., norm_type=2)\n",
    "            # optimizer step\n",
    "            optim.step()\n",
    "    \n",
    "        # set model to evaluation mode\n",
    "        m.eval()\n",
    "        with torch.no_grad():\n",
    "            \n",
    "            # evaluate model on training and validation data\n",
    "            acc, loss = evalModel(m, {\"train\": train_eval, \"val\": val_loader}, lossFun)\n",
    "            # update accuracy\n",
    "            trainAccuracyVec.append(acc[\"train\"])\n",
    "            valAccuracyVec.append(acc[\"val\"])\n",
    "            # update loss\n",
    "            trainLossVec.append(loss[\"train\"])\n",
    "            valLossVec.append(loss[\"val\"])\n",
    "            \n",
    "            # opportunity to not include a scheduler\n",
    "            if scheduler != None:\n",
    "                scheduler.step()\n",
    "    \n",
    "            # check if new best for validation accuracy\n",
    "            if valLossVec[-1] < bestLoss:\n",
    "                bestLoss = valLossVec[-1]\n",
    "                bestEpoch = epoch\n",
    "                if saveModel == True:\n",
    "                    torch.save(m.state_dict(), \"bestModel.pt\")\n",
    "                    print(\"New best value for validation loss: Saved model to bestModel.pt\")\n",
    "            \n",
    "            # print information about training progress\n",
    "            if verbose == True:\n",
    "                print((\"Epoch: {} \\t Loss (train): {:.3f} (val): {:.3f} \\t\" +\n",
    "              \"Acc (train) {:.3f} (val): {:.3f}\").format(epoch + 1,\n",
    "                            trainLossVec[-1], valLossVec[-1], trainAccuracyVec[-1], valAccuracyVec[-1]))\n",
    "            # clean up\n",
    "            del inputs, targets, outputs, acc, loss\n",
    "\n",
    "    return trainLossVec, valLossVec, trainAccuracyVec, valAccuracyVec, bestEpoch"
   ]
  },
  {
   "cell_type": "code",
   "execution_count": 0,
   "metadata": {
    "colab": {},
    "colab_type": "code",
    "id": "1dheFynldG9M"
   },
   "outputs": [],
   "source": [
    "def evalModel(model, dataDict, lossFun):\n",
    "    \n",
    "    keys = list(dataDict.keys())\n",
    "    values = [0] * len(keys)\n",
    "\n",
    "    acc = dict(zip(keys, values))\n",
    "    lossDict = dict(zip(keys, values))\n",
    "\n",
    "    model.eval()\n",
    "    with torch.no_grad(): \n",
    "        for data in dataDict.keys():\n",
    "\n",
    "            out = []\n",
    "            tar = []\n",
    "\n",
    "            for (inputs, targets, offsets) in dataDict[data]:\n",
    "              \n",
    "                tar.append(targets)\n",
    "                outputs = model(inputs.to(device), offsets.to(device))\n",
    "                out.append(outputs)\n",
    "\n",
    "            out = torch.cat(out, dim=0)\n",
    "            tar = torch.cat(tar)\n",
    "\n",
    "            accVal, lossVal = compute_metrics(out, tar, lossFun)\n",
    "            acc[data] = accVal * 100\n",
    "            lossDict[data] = lossVal\n",
    "\n",
    "            del inputs, targets, outputs\n",
    "\n",
    "    return acc, lossDict"
   ]
  },
  {
   "cell_type": "code",
   "execution_count": 0,
   "metadata": {
    "colab": {},
    "colab_type": "code",
    "id": "QEjLJx_ASGOp"
   },
   "outputs": [],
   "source": [
    "def compute_metrics(outputs, targets, loss):\n",
    "    \n",
    "      lossVal = loss(outputs.to(device), targets.to(device)).item()\n",
    "      _, pred = torch.max(outputs.data, 1)\n",
    "      correct = (pred == targets.to(device)).sum().item()\n",
    "      accVal = correct/len(targets)\n",
    "\n",
    "      return accVal, lossVal"
   ]
  },
  {
   "cell_type": "markdown",
   "metadata": {
    "colab_type": "text",
    "id": "Go7pmDl9SMuT"
   },
   "source": [
    "## Download word embedding (GloVe)"
   ]
  },
  {
   "cell_type": "code",
   "execution_count": 22,
   "metadata": {
    "colab": {
     "base_uri": "https://localhost:8080/",
     "height": 456
    },
    "colab_type": "code",
    "id": "4HH-uEctMMw0",
    "outputId": "01e7f726-1e1f-46a9-a6ca-1bb8866fec2f"
   },
   "outputs": [
    {
     "name": "stdout",
     "output_type": "stream",
     "text": [
      "--2020-02-10 20:40:06--  http://nlp.stanford.edu/data/glove.6B.zip\n",
      "Resolving nlp.stanford.edu (nlp.stanford.edu)... 171.64.67.140\n",
      "Connecting to nlp.stanford.edu (nlp.stanford.edu)|171.64.67.140|:80... connected.\n",
      "HTTP request sent, awaiting response... 302 Found\n",
      "Location: https://nlp.stanford.edu/data/glove.6B.zip [following]\n",
      "--2020-02-10 20:40:06--  https://nlp.stanford.edu/data/glove.6B.zip\n",
      "Connecting to nlp.stanford.edu (nlp.stanford.edu)|171.64.67.140|:443... connected.\n",
      "HTTP request sent, awaiting response... 301 Moved Permanently\n",
      "Location: http://downloads.cs.stanford.edu/nlp/data/glove.6B.zip [following]\n",
      "--2020-02-10 20:40:06--  http://downloads.cs.stanford.edu/nlp/data/glove.6B.zip\n",
      "Resolving downloads.cs.stanford.edu (downloads.cs.stanford.edu)... 171.64.64.22\n",
      "Connecting to downloads.cs.stanford.edu (downloads.cs.stanford.edu)|171.64.64.22|:80... connected.\n",
      "HTTP request sent, awaiting response... 200 OK\n",
      "Length: 862182613 (822M) [application/zip]\n",
      "Saving to: ‘glove.6B.zip’\n",
      "\n",
      "glove.6B.zip        100%[===================>] 822.24M  1.99MB/s    in 6m 27s  \n",
      "\n",
      "2020-02-10 20:46:33 (2.13 MB/s) - ‘glove.6B.zip’ saved [862182613/862182613]\n",
      "\n",
      "Archive:  glove.6B.zip\n",
      "  inflating: glove.6B.50d.txt        \n",
      "  inflating: glove.6B.100d.txt       \n",
      "  inflating: glove.6B.200d.txt       \n",
      "  inflating: glove.6B.300d.txt       \n",
      "Indexing word vectors.\n",
      "Found 400000 word vectors.\n"
     ]
    }
   ],
   "source": [
    "!wget http://nlp.stanford.edu/data/glove.6B.zip\n",
    "!unzip glove*.zip\n",
    "print('Indexing word vectors.')\n",
    "embeddings_index = {}\n",
    "f = open('glove.6B.300d.txt', encoding='utf-8')\n",
    "for line in f:\n",
    "    values = line.split()\n",
    "    word = values[0]\n",
    "    coefs = np.asarray(values[1:], dtype='float32')\n",
    "    embeddings_index[word] = coefs\n",
    "f.close()\n",
    "print('Found {} word vectors.'.format(len(embeddings_index)))"
   ]
  },
  {
   "cell_type": "code",
   "execution_count": 23,
   "metadata": {
    "colab": {
     "base_uri": "https://localhost:8080/",
     "height": 33
    },
    "colab_type": "code",
    "id": "c1ukiixcdLCZ",
    "outputId": "d4d1dec6-93eb-4b89-cb9b-4ab0e4a5cd6b"
   },
   "outputs": [
    {
     "name": "stdout",
     "output_type": "stream",
     "text": [
      "Words not found: 441\n"
     ]
    }
   ],
   "source": [
    "# iterate through each word in the vocabularly\n",
    "# if there exists a word embedding insert it,\n",
    "# else use a sample from a random normal\n",
    "matrix_len = len(vocab)\n",
    "weights_matrix = np.zeros((matrix_len, 300))\n",
    "words_notfound = 0\n",
    "\n",
    "for i, word in enumerate(vocab):\n",
    "    try: \n",
    "        weights_matrix[i] = embeddings_index[word]\n",
    "        # if there is no embedding for the given word\n",
    "        # create vector sampled from random normal\n",
    "\n",
    "        # a advantage of updating the weights of the\n",
    "        # embedding layer as part of training, is that\n",
    "        # an embedding will be learnt for these words \n",
    "    except KeyError:\n",
    "\n",
    "        weights_matrix[i] = np.random.normal(scale=0.5, size=(300, ))\n",
    "        words_notfound += 1\n",
    "\n",
    "# clean up\n",
    "#del embeddings_index\n",
    "\n",
    "print(\"Words not found: {}\".format(words_notfound))"
   ]
  },
  {
   "cell_type": "markdown",
   "metadata": {
    "colab_type": "text",
    "id": "TADzcXkySVOy"
   },
   "source": [
    "## Model"
   ]
  },
  {
   "cell_type": "code",
   "execution_count": 0,
   "metadata": {
    "colab": {},
    "colab_type": "code",
    "id": "i9UAhYlidLFV"
   },
   "outputs": [],
   "source": [
    "class BagofVector(nn.Module):\n",
    "    \n",
    "    def __init__(self, embeddingDIM, hiddenDIM1, hiddenDIM2, \n",
    "               ouputDIM, vocab_size, pooling=\"sum\"):\n",
    "        \n",
    "        super(BagofVector, self).__init__()\n",
    "\n",
    "        self.embedding = nn.EmbeddingBag(vocab_size, embeddingDIM, mode=pooling)\n",
    "        self.fc = nn.Sequential(\n",
    "            nn.Linear(embeddingDIM, hiddenDIM1),\n",
    "            nn.ReLU(),\n",
    "            nn.Dropout(),\n",
    "            nn.Linear(hiddenDIM1, hiddenDIM2),\n",
    "            nn.ReLU(),\n",
    "            nn.Dropout(),\n",
    "            nn.Linear(hiddenDIM2, ouputDIM)\n",
    "        )\n",
    "\n",
    "    def forward(self, inputs, offsets):\n",
    "\n",
    "        x = self.embedding(inputs, offsets)\n",
    "        x = self.fc(x)\n",
    "        return x"
   ]
  },
  {
   "cell_type": "code",
   "execution_count": 0,
   "metadata": {
    "colab": {},
    "colab_type": "code",
    "id": "PKvsV4wLdG3y"
   },
   "outputs": [],
   "source": [
    "torch.manual_seed(42)\n",
    "mlp = BagofVector(300, 128, 64, 5, len(vocab), \"sum\").to(device)\n",
    "mlp.embedding.weight.data.copy_(torch.from_numpy(weights_matrix))\n",
    "optimizer = optim.Adam([\n",
    "                {'params': mlp.fc.parameters(), 'lr': 2e-4},\n",
    "                {'params': mlp.embedding.weight, 'lr': 1e-5}\n",
    "            ])\n",
    "scheduler = optim.lr_scheduler.StepLR(optimizer, step_size=6, gamma=0.8) \n",
    "loss = nn.CrossEntropyLoss()"
   ]
  },
  {
   "cell_type": "code",
   "execution_count": 26,
   "metadata": {
    "colab": {
     "base_uri": "https://localhost:8080/",
     "height": 1000
    },
    "colab_type": "code",
    "id": "wdFrRVdNbw_f",
    "outputId": "de8f5ecd-70b1-4da6-c26b-17894451f120"
   },
   "outputs": [
    {
     "name": "stdout",
     "output_type": "stream",
     "text": [
      "Summary of model\n",
      "\n",
      "BagofVector(\n",
      "  (embedding): EmbeddingBag(12134, 300, mode=sum)\n",
      "  (fc): Sequential(\n",
      "    (0): Linear(in_features=300, out_features=128, bias=True)\n",
      "    (1): ReLU()\n",
      "    (2): Dropout(p=0.5, inplace=False)\n",
      "    (3): Linear(in_features=128, out_features=64, bias=True)\n",
      "    (4): ReLU()\n",
      "    (5): Dropout(p=0.5, inplace=False)\n",
      "    (6): Linear(in_features=64, out_features=5, bias=True)\n",
      "  )\n",
      ")\n",
      "\n",
      "\n",
      "New best value for validation loss: Saved model to bestModel.pt\n",
      "Epoch: 1 \t Loss (train): 1.012 (val): 1.020 \tAcc (train) 58.525 (val): 58.141\n",
      "New best value for validation loss: Saved model to bestModel.pt\n",
      "Epoch: 2 \t Loss (train): 0.958 (val): 0.970 \tAcc (train) 60.003 (val): 59.508\n",
      "New best value for validation loss: Saved model to bestModel.pt\n",
      "Epoch: 3 \t Loss (train): 0.933 (val): 0.949 \tAcc (train) 60.824 (val): 60.245\n",
      "New best value for validation loss: Saved model to bestModel.pt\n",
      "Epoch: 4 \t Loss (train): 0.921 (val): 0.941 \tAcc (train) 61.061 (val): 60.250\n",
      "New best value for validation loss: Saved model to bestModel.pt\n",
      "Epoch: 5 \t Loss (train): 0.902 (val): 0.926 \tAcc (train) 61.913 (val): 60.981\n",
      "New best value for validation loss: Saved model to bestModel.pt\n",
      "Epoch: 6 \t Loss (train): 0.890 (val): 0.919 \tAcc (train) 62.327 (val): 61.259\n",
      "New best value for validation loss: Saved model to bestModel.pt\n",
      "Epoch: 7 \t Loss (train): 0.878 (val): 0.910 \tAcc (train) 62.888 (val): 61.515\n",
      "New best value for validation loss: Saved model to bestModel.pt\n",
      "Epoch: 8 \t Loss (train): 0.864 (val): 0.899 \tAcc (train) 63.649 (val): 62.028\n",
      "New best value for validation loss: Saved model to bestModel.pt\n",
      "Epoch: 9 \t Loss (train): 0.857 (val): 0.895 \tAcc (train) 63.751 (val): 62.098\n",
      "New best value for validation loss: Saved model to bestModel.pt\n",
      "Epoch: 10 \t Loss (train): 0.847 (val): 0.889 \tAcc (train) 64.257 (val): 62.546\n",
      "New best value for validation loss: Saved model to bestModel.pt\n",
      "Epoch: 11 \t Loss (train): 0.841 (val): 0.885 \tAcc (train) 64.356 (val): 62.562\n",
      "New best value for validation loss: Saved model to bestModel.pt\n",
      "Epoch: 12 \t Loss (train): 0.833 (val): 0.882 \tAcc (train) 64.776 (val): 62.877\n",
      "New best value for validation loss: Saved model to bestModel.pt\n",
      "Epoch: 13 \t Loss (train): 0.824 (val): 0.875 \tAcc (train) 65.231 (val): 63.171\n",
      "New best value for validation loss: Saved model to bestModel.pt\n",
      "Epoch: 14 \t Loss (train): 0.819 (val): 0.872 \tAcc (train) 65.452 (val): 63.384\n",
      "New best value for validation loss: Saved model to bestModel.pt\n",
      "Epoch: 15 \t Loss (train): 0.812 (val): 0.867 \tAcc (train) 65.741 (val): 63.598\n",
      "New best value for validation loss: Saved model to bestModel.pt\n",
      "Epoch: 16 \t Loss (train): 0.807 (val): 0.866 \tAcc (train) 65.959 (val): 63.705\n",
      "New best value for validation loss: Saved model to bestModel.pt\n",
      "Epoch: 17 \t Loss (train): 0.800 (val): 0.862 \tAcc (train) 66.244 (val): 63.881\n",
      "New best value for validation loss: Saved model to bestModel.pt\n",
      "Epoch: 18 \t Loss (train): 0.795 (val): 0.861 \tAcc (train) 66.305 (val): 63.854\n",
      "New best value for validation loss: Saved model to bestModel.pt\n",
      "Epoch: 19 \t Loss (train): 0.788 (val): 0.855 \tAcc (train) 66.760 (val): 64.175\n",
      "Epoch: 20 \t Loss (train): 0.785 (val): 0.855 \tAcc (train) 66.859 (val): 64.265\n",
      "New best value for validation loss: Saved model to bestModel.pt\n",
      "Epoch: 21 \t Loss (train): 0.780 (val): 0.852 \tAcc (train) 67.025 (val): 64.255\n",
      "New best value for validation loss: Saved model to bestModel.pt\n",
      "Epoch: 22 \t Loss (train): 0.776 (val): 0.850 \tAcc (train) 67.295 (val): 64.554\n",
      "Epoch: 23 \t Loss (train): 0.774 (val): 0.851 \tAcc (train) 67.336 (val): 64.607\n",
      "New best value for validation loss: Saved model to bestModel.pt\n",
      "Epoch: 24 \t Loss (train): 0.769 (val): 0.847 \tAcc (train) 67.567 (val): 64.960\n",
      "New best value for validation loss: Saved model to bestModel.pt\n",
      "Epoch: 25 \t Loss (train): 0.764 (val): 0.846 \tAcc (train) 67.770 (val): 64.746\n",
      "New best value for validation loss: Saved model to bestModel.pt\n",
      "Epoch: 26 \t Loss (train): 0.761 (val): 0.844 \tAcc (train) 67.992 (val): 64.816\n",
      "New best value for validation loss: Saved model to bestModel.pt\n",
      "Epoch: 27 \t Loss (train): 0.758 (val): 0.843 \tAcc (train) 68.093 (val): 65.083\n",
      "New best value for validation loss: Saved model to bestModel.pt\n",
      "Epoch: 28 \t Loss (train): 0.755 (val): 0.843 \tAcc (train) 68.211 (val): 64.901\n",
      "New best value for validation loss: Saved model to bestModel.pt\n",
      "Epoch: 29 \t Loss (train): 0.751 (val): 0.840 \tAcc (train) 68.336 (val): 65.200\n",
      "New best value for validation loss: Saved model to bestModel.pt\n",
      "Epoch: 30 \t Loss (train): 0.749 (val): 0.839 \tAcc (train) 68.481 (val): 65.189\n",
      "Epoch: 31 \t Loss (train): 0.746 (val): 0.840 \tAcc (train) 68.567 (val): 65.259\n",
      "New best value for validation loss: Saved model to bestModel.pt\n",
      "Epoch: 32 \t Loss (train): 0.743 (val): 0.837 \tAcc (train) 68.741 (val): 65.435\n",
      "New best value for validation loss: Saved model to bestModel.pt\n",
      "Epoch: 33 \t Loss (train): 0.740 (val): 0.836 \tAcc (train) 68.895 (val): 65.403\n",
      "Epoch: 34 \t Loss (train): 0.739 (val): 0.838 \tAcc (train) 68.787 (val): 65.323\n",
      "Epoch: 35 \t Loss (train): 0.737 (val): 0.838 \tAcc (train) 68.889 (val): 65.285\n",
      "New best value for validation loss: Saved model to bestModel.pt\n",
      "Epoch: 36 \t Loss (train): 0.735 (val): 0.836 \tAcc (train) 69.048 (val): 65.499\n",
      "Epoch: 37 \t Loss (train): 0.733 (val): 0.837 \tAcc (train) 69.166 (val): 65.451\n",
      "New best value for validation loss: Saved model to bestModel.pt\n",
      "Epoch: 38 \t Loss (train): 0.730 (val): 0.835 \tAcc (train) 69.267 (val): 65.552\n",
      "New best value for validation loss: Saved model to bestModel.pt\n",
      "Epoch: 39 \t Loss (train): 0.729 (val): 0.834 \tAcc (train) 69.336 (val): 65.488\n",
      "New best value for validation loss: Saved model to bestModel.pt\n",
      "Epoch: 40 \t Loss (train): 0.727 (val): 0.834 \tAcc (train) 69.370 (val): 65.526\n",
      "New best value for validation loss: Saved model to bestModel.pt\n",
      "Epoch: 41 \t Loss (train): 0.726 (val): 0.834 \tAcc (train) 69.441 (val): 65.691\n",
      "Epoch: 42 \t Loss (train): 0.724 (val): 0.834 \tAcc (train) 69.496 (val): 65.691\n",
      "New best value for validation loss: Saved model to bestModel.pt\n",
      "Epoch: 43 \t Loss (train): 0.721 (val): 0.831 \tAcc (train) 69.725 (val): 65.654\n",
      "Epoch: 44 \t Loss (train): 0.720 (val): 0.832 \tAcc (train) 69.738 (val): 65.681\n",
      "Epoch: 45 \t Loss (train): 0.718 (val): 0.832 \tAcc (train) 69.808 (val): 65.766\n",
      "Epoch: 46 \t Loss (train): 0.718 (val): 0.833 \tAcc (train) 69.717 (val): 65.670\n",
      "New best value for validation loss: Saved model to bestModel.pt\n",
      "Epoch: 47 \t Loss (train): 0.715 (val): 0.831 \tAcc (train) 69.925 (val): 65.766\n",
      "Epoch: 48 \t Loss (train): 0.715 (val): 0.831 \tAcc (train) 69.947 (val): 65.814\n",
      "New best value for validation loss: Saved model to bestModel.pt\n",
      "Epoch: 49 \t Loss (train): 0.713 (val): 0.830 \tAcc (train) 70.028 (val): 65.926\n",
      "Epoch: 50 \t Loss (train): 0.712 (val): 0.831 \tAcc (train) 69.992 (val): 65.819\n"
     ]
    }
   ],
   "source": [
    "trainLossVec, valLossVec, trainAccVec, valAccVec, bEpoch = train(mlp, loss, optimizer, scheduler, 50, \n",
    "                                      training_generator, val_generator, \n",
    "                                      training_eval, verbose=True, saveModel=True)"
   ]
  },
  {
   "cell_type": "code",
   "execution_count": 0,
   "metadata": {
    "colab": {},
    "colab_type": "code",
    "id": "C4f_urOcixCS"
   },
   "outputs": [],
   "source": [
    "bestModel = copy.deepcopy(mlp)\n",
    "bestModel.load_state_dict(torch.load(\"bestModel.pt\"))\n",
    "bestModel = bestModel.to(device)"
   ]
  },
  {
   "cell_type": "code",
   "execution_count": 28,
   "metadata": {
    "colab": {
     "base_uri": "https://localhost:8080/",
     "height": 82
    },
    "colab_type": "code",
    "id": "V4GzYpWXnkbi",
    "outputId": "8913571c-416b-40b3-fba3-2267ff48c385"
   },
   "outputs": [
    {
     "name": "stdout",
     "output_type": "stream",
     "text": [
      "Accuracy: \n",
      "{'test': 65.88706447737285, 'train': 70.02755350506216, 'val': 65.92620280877877} \n",
      "Loss: \n",
      "{'test': 0.8264778852462769, 'train': 0.7130462527275085, 'val': 0.8299724459648132}\n"
     ]
    }
   ],
   "source": [
    "accDict, lossDict = evalModel(bestModel, {\"test\": test_generator, \"train\": training_eval, \"val\": val_generator}, loss)\n",
    "print(\"Accuracy: \\n{} \\nLoss: \\n{}\".format(accDict, lossDict))"
   ]
  },
  {
   "cell_type": "code",
   "execution_count": 29,
   "metadata": {
    "colab": {
     "base_uri": "https://localhost:8080/",
     "height": 336
    },
    "colab_type": "code",
    "id": "yGJuzHdonnfp",
    "outputId": "401afb21-0f12-4312-dad5-bf9ef12c0289"
   },
   "outputs": [
    {
     "data": {
      "image/png": "[encoded data removed]",
      "text/plain": [
       "<Figure size 864x360 with 2 Axes>"
      ]
     },
     "metadata": {
      "tags": []
     },
     "output_type": "display_data"
    }
   ],
   "source": [
    "matplotlib.rcParams['axes.spines.top'] = False\n",
    "matplotlib.rcParams['axes.spines.right'] = False\n",
    "\n",
    "fig, (ax1, ax2) = plt.subplots(1, 2, figsize=(12,5))\n",
    "\n",
    "ax1.plot(range(len(valAccVec)), valAccVec, label = \"Validation\")\n",
    "ax1.plot(range(len(trainAccVec)), trainAccVec, label = \"Train\")\n",
    "ax1.grid(True, alpha=0.4)\n",
    "ax1.set_title(\"Accuracy\")\n",
    "ax1.legend()\n",
    "ax2.plot(range(len(valLossVec)), valLossVec, label = \"Validation\")\n",
    "ax2.plot(range(len(trainLossVec)), trainLossVec, label = \"Train\")\n",
    "ax2.grid(True, alpha=0.4)\n",
    "ax2.set_title(\"Loss\")\n",
    "ax2.legend()\n",
    "plt.show()"
   ]
  }
 ],
 "metadata": {
  "accelerator": "GPU",
  "colab": {
   "collapsed_sections": [],
   "name": "Bag-of-Words-Pretrained.ipynb",
   "provenance": []
  },
  "kernelspec": {
   "display_name": "Python 3",
   "language": "python",
   "name": "python3"
  },
  "language_info": {
   "codemirror_mode": {
    "name": "ipython",
    "version": 3
   },
   "file_extension": ".py",
   "mimetype": "text/x-python",
   "name": "python",
   "nbconvert_exporter": "python",
   "pygments_lexer": "ipython3",
   "version": "3.7.3"
  }
 },
 "nbformat": 4,
 "nbformat_minor": 1
}
