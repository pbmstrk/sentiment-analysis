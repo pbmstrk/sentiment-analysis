{
  "nbformat": 4,
  "nbformat_minor": 0,
  "metadata": {
    "colab": {
      "name": "Bag-of-Words-Pretrained.ipynb",
      "provenance": [],
      "collapsed_sections": [],
      "toc_visible": true
    },
    "kernelspec": {
      "name": "python3",
      "display_name": "Python 3"
    },
    "accelerator": "GPU"
  },
  "cells": [
    {
      "cell_type": "markdown",
      "metadata": {
        "id": "U1ktcQe0Rb5_",
        "colab_type": "text"
      },
      "source": [
        "# Sentiment Analysis: Bag-of-Words with pre-trained embeddings\n",
        "\n",
        "---"
      ]
    },
    {
      "cell_type": "markdown",
      "metadata": {
        "id": "tVuSmu80BxyC",
        "colab_type": "text"
      },
      "source": [
        "## Setup and downloading data\n"
      ]
    },
    {
      "cell_type": "code",
      "metadata": {
        "id": "TmawPrQXBz-N",
        "colab_type": "code",
        "colab": {}
      },
      "source": [
        "# install the kaggle API\n",
        "pip install kaggle -q"
      ],
      "execution_count": 0,
      "outputs": []
    },
    {
      "cell_type": "code",
      "metadata": {
        "id": "MWtP91e8B0C2",
        "colab_type": "code",
        "colab": {}
      },
      "source": [
        "# data wrangling\n",
        "import pandas as pd\n",
        "import numpy as np\n",
        "from sklearn.model_selection import train_test_split\n",
        "\n",
        "# language model \n",
        "import spacy\n",
        "spacy_en = spacy.load('en')\n",
        "\n",
        "# pytorch\n",
        "import torch\n",
        "import torch.nn as nn\n",
        "import torch.nn.functional as F\n",
        "import torch.optim as optim\n",
        "from torch.nn.utils.rnn import pad_sequence, pack_padded_sequence, pad_packed_sequence\n",
        "from torch.utils import data\n",
        "\n",
        "from collections import Counter\n",
        "import copy\n",
        "import re\n",
        "import matplotlib.pyplot as plt\n",
        "import matplotlib"
      ],
      "execution_count": 0,
      "outputs": []
    },
    {
      "cell_type": "code",
      "metadata": {
        "id": "NiopOefdB0Fo",
        "colab_type": "code",
        "colab": {}
      },
      "source": [
        "torch.backends.cudnn.deterministic = True"
      ],
      "execution_count": 0,
      "outputs": []
    },
    {
      "cell_type": "code",
      "metadata": {
        "id": "GAL0YIZNB0PX",
        "colab_type": "code",
        "colab": {
          "base_uri": "https://localhost:8080/",
          "height": 33
        },
        "outputId": "89ae6a19-efc1-48bc-eff7-6de1e573a2d2"
      },
      "source": [
        "device = torch.device(\"cuda\" if torch.cuda.is_available() else \"cpu\")\n",
        "device"
      ],
      "execution_count": 4,
      "outputs": [
        {
          "output_type": "execute_result",
          "data": {
            "text/plain": [
              "device(type='cuda')"
            ]
          },
          "metadata": {
            "tags": []
          },
          "execution_count": 4
        }
      ]
    },
    {
      "cell_type": "code",
      "metadata": {
        "id": "-jhsqi1hB0UX",
        "colab_type": "code",
        "colab": {
          "resources": {
            "http://localhost:8080/nbextensions/google.colab/files.js": {
              "data": "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",
              "ok": true,
              "headers": [
                [
                  "content-type",
                  "application/javascript"
                ]
              ],
              "status": 200,
              "status_text": ""
            }
          },
          "base_uri": "https://localhost:8080/",
          "height": 70
        },
        "outputId": "de8bd2c0-7fac-463e-c468-ab64a0bec84b"
      },
      "source": [
        "# upload kaggle.json file\n",
        "from google.colab import files\n",
        "uploaded = files.upload()"
      ],
      "execution_count": 5,
      "outputs": [
        {
          "output_type": "display_data",
          "data": {
            "text/html": [
              "\n",
              "     <input type=\"file\" id=\"files-a31fcddc-461b-49dd-b15f-22f2f10f07b6\" name=\"files[]\" multiple disabled />\n",
              "     <output id=\"result-a31fcddc-461b-49dd-b15f-22f2f10f07b6\">\n",
              "      Upload widget is only available when the cell has been executed in the\n",
              "      current browser session. Please rerun this cell to enable.\n",
              "      </output>\n",
              "      <script src=\"/nbextensions/google.colab/files.js\"></script> "
            ],
            "text/plain": [
              "<IPython.core.display.HTML object>"
            ]
          },
          "metadata": {
            "tags": []
          }
        },
        {
          "output_type": "stream",
          "text": [
            "Saving kaggle.json to kaggle.json\n"
          ],
          "name": "stdout"
        }
      ]
    },
    {
      "cell_type": "code",
      "metadata": {
        "id": "Q-O1jf3bB0Sr",
        "colab_type": "code",
        "colab": {}
      },
      "source": [
        "!mkdir -p ~/.kaggle\n",
        "!cp kaggle.json ~/.kaggle/\n",
        "!chmod 600 ~/.kaggle/kaggle.json"
      ],
      "execution_count": 0,
      "outputs": []
    },
    {
      "cell_type": "code",
      "metadata": {
        "id": "COEvwPBvB0NO",
        "colab_type": "code",
        "colab": {
          "base_uri": "https://localhost:8080/",
          "height": 245
        },
        "outputId": "476ea4cb-637d-4b9c-afe8-78800781f17a"
      },
      "source": [
        "# download the dataset and unzip\n",
        "!kaggle competitions download sentiment-analysis-on-movie-reviews\n",
        "!unzip train.tsv.zip\n",
        "!unzip test.tsv.zip"
      ],
      "execution_count": 7,
      "outputs": [
        {
          "output_type": "stream",
          "text": [
            "Warning: Looks like you're using an outdated API Version, please consider updating (server 1.5.6 / client 1.5.4)\n",
            "Downloading sampleSubmission.csv to /content\n",
            "  0% 0.00/583k [00:00<?, ?B/s]\n",
            "100% 583k/583k [00:00<00:00, 81.5MB/s]\n",
            "Downloading test.tsv.zip to /content\n",
            "  0% 0.00/494k [00:00<?, ?B/s]\n",
            "100% 494k/494k [00:00<00:00, 69.4MB/s]\n",
            "Downloading train.tsv.zip to /content\n",
            "  0% 0.00/1.28M [00:00<?, ?B/s]\n",
            "100% 1.28M/1.28M [00:00<00:00, 86.1MB/s]\n",
            "Archive:  train.tsv.zip\n",
            "  inflating: train.tsv               \n",
            "Archive:  test.tsv.zip\n",
            "  inflating: test.tsv                \n"
          ],
          "name": "stdout"
        }
      ]
    },
    {
      "cell_type": "markdown",
      "metadata": {
        "id": "DiY9xbaTCFyQ",
        "colab_type": "text"
      },
      "source": [
        "## Processing "
      ]
    },
    {
      "cell_type": "markdown",
      "metadata": {
        "id": "22KbN25sCHBA",
        "colab_type": "text"
      },
      "source": [
        "###  Text processing"
      ]
    },
    {
      "cell_type": "code",
      "metadata": {
        "id": "_YqvfX44B0K3",
        "colab_type": "code",
        "colab": {}
      },
      "source": [
        "def tokenizer(text): \n",
        "    text = text.lower()\n",
        "    text = re.sub(\"-rrb-\",\"\", text)\n",
        "    text = re.sub(\"-lrb-\",\"\", text)\n",
        "    tokens = spacy_en.tokenizer(text)\n",
        "    #tokens = [tok for tok in tokens if tok.is_stop == False]\n",
        "    tokens = [tok.lemma_ for tok in tokens]\n",
        "    return tokens"
      ],
      "execution_count": 0,
      "outputs": []
    },
    {
      "cell_type": "code",
      "metadata": {
        "id": "E_13zqxLB0JU",
        "colab_type": "code",
        "colab": {}
      },
      "source": [
        "class Vocabulary:\n",
        "      \n",
        "    def __init__(self, vocabCount, min_freq):\n",
        "        \n",
        "        # UNK tokens (don't need pad token for bag-of-words)\n",
        "        self.UNK_token = 0\n",
        "        self.vocabCount = vocabCount\n",
        "        self.min_freq = min_freq\n",
        "        # initialize list of words and vocab dictionary\n",
        "        self.wordlist = [\"<unk>\"]\n",
        "        self.word2index = {}\n",
        "        # build vocab\n",
        "        self.build_vocab(vocabCount)\n",
        "\n",
        "    def __len__(self):\n",
        "        return len(self.word2index)\n",
        "\n",
        "    def __getitem__(self, word):\n",
        "        return self.word2index.get(word, 0)\n",
        "\n",
        "    def __iter__(self):\n",
        "        return iter(vocab.word2index)\n",
        "\n",
        "    def build_vocab(self, vocabCount):\n",
        "        # sort vocab s.t. words that occur most frequently added first\n",
        "        svocabCount = {k: v for k, v in reversed(sorted(vocabCount.items(), \n",
        "                                                      key=lambda item: item[1]))}\n",
        "        \n",
        "        for word in svocabCount:\n",
        "            if svocabCount[word] >= self.min_freq:\n",
        "                self.wordlist.append(word)\n",
        "        self.word2index.update({tok: i for i, tok in enumerate(self.wordlist)})"
      ],
      "execution_count": 0,
      "outputs": []
    },
    {
      "cell_type": "markdown",
      "metadata": {
        "id": "ESphhpg4Rmj8",
        "colab_type": "text"
      },
      "source": [
        "### Loading and processing data"
      ]
    },
    {
      "cell_type": "code",
      "metadata": {
        "id": "R6WC74oacG3w",
        "colab_type": "code",
        "colab": {}
      },
      "source": [
        "train_data = pd.read_csv('/content/train.tsv', sep=\"\\t\", \n",
        "                         encoding=\"utf_8_sig\")\n",
        "\n",
        "#train_data = pd.read_csv('../../data/train.tsv', sep=\"\\t\", encoding=\"utf_8_sig\")\n",
        "phrases = np.array(train_data.iloc[:, 2])\n",
        "target = np.array(train_data.iloc[:, 3])\n",
        "\n",
        "# create train and validation sets\n",
        "X_train , X_val, y_train , y_val = train_test_split(phrases, target, \n",
        "                                                    test_size = 0.2, random_state=42)\n",
        "\n",
        "# create validation and test sets\n",
        "X_val , X_test, y_val , y_test = train_test_split(X_val, y_val, \n",
        "                                                    test_size = 0.4, random_state=42)"
      ],
      "execution_count": 0,
      "outputs": []
    },
    {
      "cell_type": "code",
      "metadata": {
        "id": "NpFFGpPJcdx5",
        "colab_type": "code",
        "outputId": "d61e50bd-0ce7-4d46-b505-3dca4fce3a2a",
        "colab": {
          "base_uri": "https://localhost:8080/",
          "height": 66
        }
      },
      "source": [
        "X_train = [tokenizer(phrase) for phrase in X_train]\n",
        "X_val = [tokenizer(phrase) for phrase in X_val]\n",
        "X_test = [tokenizer(phrase) for phrase in X_test]\n",
        "\n",
        "print(\"Length of train dataset: {} \\nLength of validation dataset: {} \\nLength of test dataset: {}\".format(len(X_train), len(X_val), len(X_test)))"
      ],
      "execution_count": 11,
      "outputs": [
        {
          "output_type": "stream",
          "text": [
            "Length of train dataset: 124848 \n",
            "Length of validation dataset: 18727 \n",
            "Length of test dataset: 12485\n"
          ],
          "name": "stdout"
        }
      ]
    },
    {
      "cell_type": "markdown",
      "metadata": {
        "id": "93I3zOLGRo5Y",
        "colab_type": "text"
      },
      "source": [
        "### Creating vocabularly"
      ]
    },
    {
      "cell_type": "code",
      "metadata": {
        "id": "2noS2E-9cd2r",
        "colab_type": "code",
        "colab": {}
      },
      "source": [
        "vocabCount = Counter([item for sublist in X_train for item in sublist])\n",
        "vocab = Vocabulary(vocabCount, 1)"
      ],
      "execution_count": 0,
      "outputs": []
    },
    {
      "cell_type": "code",
      "metadata": {
        "id": "KBqsJFBmcd0z",
        "colab_type": "code",
        "colab": {}
      },
      "source": [
        "X_trainNum = [torch.tensor([vocab[word] for word in phrase]) for phrase in X_train]\n",
        "X_valNum = [torch.tensor([vocab[word] for word in phrase]) for phrase in X_val]\n",
        "X_testNum = [torch.tensor([vocab[word] for word in phrase]) for phrase in X_test]"
      ],
      "execution_count": 0,
      "outputs": []
    },
    {
      "cell_type": "code",
      "metadata": {
        "id": "qVnB7wh9cG13",
        "colab_type": "code",
        "outputId": "f1bb73d3-f4c3-4504-dc41-cd4d27555c15",
        "colab": {
          "base_uri": "https://localhost:8080/",
          "height": 33
        }
      },
      "source": [
        "# make sure each tensor actually has values\n",
        "for i, el in enumerate(X_trainNum):\n",
        "    if el.nelement() == 0:\n",
        "        print(i)\n",
        "        X_trainNum[i] = torch.tensor([0]).long()"
      ],
      "execution_count": 14,
      "outputs": [
        {
          "output_type": "stream",
          "text": [
            "43785\n"
          ],
          "name": "stdout"
        }
      ]
    },
    {
      "cell_type": "code",
      "metadata": {
        "id": "s3ICfhe1cmVX",
        "colab_type": "code",
        "colab": {}
      },
      "source": [
        "# make sure each tensor actually has values\n",
        "for i, el in enumerate(X_valNum):\n",
        "    if el.nelement() == 0:\n",
        "        print(i)\n",
        "        X_valNum[i] = torch.tensor([0]).long()"
      ],
      "execution_count": 0,
      "outputs": []
    },
    {
      "cell_type": "code",
      "metadata": {
        "id": "oRxvYjvNcmcE",
        "colab_type": "code",
        "outputId": "5ade444d-9380-41f2-9c4c-e66961b449ac",
        "colab": {
          "base_uri": "https://localhost:8080/",
          "height": 33
        }
      },
      "source": [
        "# make sure each tensor actually has values\n",
        "for i, el in enumerate(X_testNum):\n",
        "    if el.nelement() == 0:\n",
        "        print(i)\n",
        "        X_testNum[i] = torch.tensor([0]).long()"
      ],
      "execution_count": 16,
      "outputs": [
        {
          "output_type": "stream",
          "text": [
            "7117\n"
          ],
          "name": "stdout"
        }
      ]
    },
    {
      "cell_type": "markdown",
      "metadata": {
        "id": "bZeEO3i5RxA-",
        "colab_type": "text"
      },
      "source": [
        "### Custom dataset class and batching function"
      ]
    },
    {
      "cell_type": "code",
      "metadata": {
        "id": "AkgWPf5IctN3",
        "colab_type": "code",
        "colab": {}
      },
      "source": [
        "class WordDataset(data.Dataset):\n",
        "    \n",
        "    def __init__(self, X, y):\n",
        "        self.X = X\n",
        "        self.y = y\n",
        "        \n",
        "    def __len__(self):\n",
        "        return len(self.y)\n",
        "    \n",
        "    def __getitem__(self, idx):  \n",
        "        X = self.X[idx]\n",
        "        Y = self.y[idx]\n",
        "        return X, Y"
      ],
      "execution_count": 0,
      "outputs": []
    },
    {
      "cell_type": "code",
      "metadata": {
        "id": "7MdXxHZjctSp",
        "colab_type": "code",
        "colab": {}
      },
      "source": [
        "def generate_batch(batch):\n",
        "    \n",
        "    # get data and targets from batch\n",
        "    data = [item[0] for item in batch]\n",
        "    targets = [item[1] for item in batch]\n",
        "    lengths = [len(el) for el in data]\n",
        "    offsets = np.cumsum(lengths)\n",
        "    offsets = np.concatenate([[0], offsets[:-1]])\n",
        "  \n",
        "    return torch.LongTensor(torch.cat(data).long()), torch.Tensor(targets).long(), torch.LongTensor(offsets)"
      ],
      "execution_count": 0,
      "outputs": []
    },
    {
      "cell_type": "code",
      "metadata": {
        "id": "0Ha36nkTctVh",
        "colab_type": "code",
        "colab": {}
      },
      "source": [
        "trainingset = WordDataset(X_trainNum, y_train)\n",
        "valset = WordDataset(X_valNum, y_val)\n",
        "testset = WordDataset(X_testNum, y_test)"
      ],
      "execution_count": 0,
      "outputs": []
    },
    {
      "cell_type": "code",
      "metadata": {
        "id": "bwPPMJ4KctQe",
        "colab_type": "code",
        "colab": {}
      },
      "source": [
        "training_generator = data.DataLoader(trainingset, batch_size=64, collate_fn=generate_batch)\n",
        "val_generator = data.DataLoader(valset, batch_size=len(y_val), collate_fn=generate_batch)\n",
        "test_generator = data.DataLoader(testset, batch_size=len(y_test), collate_fn=generate_batch)"
      ],
      "execution_count": 0,
      "outputs": []
    },
    {
      "cell_type": "code",
      "metadata": {
        "id": "Dtr4OmVrcmTf",
        "colab_type": "code",
        "colab": {}
      },
      "source": [
        "training_eval = data.DataLoader(trainingset, batch_size=len(y_train), collate_fn = generate_batch)"
      ],
      "execution_count": 0,
      "outputs": []
    },
    {
      "cell_type": "markdown",
      "metadata": {
        "id": "Oa2xWpRkR5iZ",
        "colab_type": "text"
      },
      "source": [
        "## Training and evaluation functions"
      ]
    },
    {
      "cell_type": "code",
      "metadata": {
        "id": "PXJgtCVZdHA1",
        "colab_type": "code",
        "colab": {}
      },
      "source": [
        "def train(m, lossFun, optim, scheduler, epochs, train_loader, val_loader, train_eval,\n",
        "          saveModel = False, verbose=False):\n",
        "\n",
        "    print(\"Summary of model\\n\")\n",
        "    print(m)\n",
        "    print(\"\\n\")\n",
        "\n",
        "    # initialize lists to store loss and accuracy\n",
        "    trainLossVec , valLossVec, trainAccuracyVec, valAccuracyVec = [], [], [], []\n",
        "    bestLoss, bestEpoch = 100, 0\n",
        "\n",
        "    # get number of batches\n",
        "    numberBatches = len(train_loader)\n",
        "\n",
        "    for epoch in range(epochs):\n",
        "\n",
        "        # Set model to training mode\n",
        "        m.train()\n",
        "    \n",
        "        # Loop over each batch from the training set\n",
        "        for batch_idx, (inputs, targets, offsets) in enumerate(train_loader):\n",
        "            \n",
        "            # Zero gradient buffers\n",
        "            optim.zero_grad()\n",
        "            # Foward pass and compute loss on batch\n",
        "            outputs = m(inputs.to(device), offsets.to(device))\n",
        "            batchloss = lossFun(outputs, targets.long().to(device))\n",
        "            # Backpropagate and update weights\n",
        "            batchloss.backward()\n",
        "            # gradient clipping\n",
        "            torch.nn.utils.clip_grad_norm_(m.parameters(), 1., norm_type=2)\n",
        "            # optimizer step\n",
        "            optim.step()\n",
        "    \n",
        "        # set model to evaluation mode\n",
        "        m.eval()\n",
        "        with torch.no_grad():\n",
        "            \n",
        "            # evaluate model on training and validation data\n",
        "            acc, loss = evalModel(m, {\"train\": train_eval, \"val\": val_loader}, lossFun)\n",
        "            # update accuracy\n",
        "            trainAccuracyVec.append(acc[\"train\"])\n",
        "            valAccuracyVec.append(acc[\"val\"])\n",
        "            # update loss\n",
        "            trainLossVec.append(loss[\"train\"])\n",
        "            valLossVec.append(loss[\"val\"])\n",
        "            \n",
        "            # opportunity to not include a scheduler\n",
        "            if scheduler != None:\n",
        "                scheduler.step()\n",
        "    \n",
        "            # check if new best for validation accuracy\n",
        "            if valLossVec[-1] < bestLoss:\n",
        "                bestLoss = valLossVec[-1]\n",
        "                bestEpoch = epoch\n",
        "                if saveModel == True:\n",
        "                    torch.save(m.state_dict(), \"bestModel.pt\")\n",
        "                    print(\"New best value for validation loss: Saved model to bestModel.pt\")\n",
        "            \n",
        "            # print information about training progress\n",
        "            if verbose == True:\n",
        "                print((\"Epoch: {} \\t Loss (train): {:.3f} (val): {:.3f} \\t\" +\n",
        "              \"Acc (train) {:.3f} (val): {:.3f}\").format(epoch + 1,\n",
        "                            trainLossVec[-1], valLossVec[-1], trainAccuracyVec[-1], valAccuracyVec[-1]))\n",
        "            # clean up\n",
        "            del inputs, targets, outputs, acc, loss\n",
        "\n",
        "    return trainLossVec, valLossVec, trainAccuracyVec, valAccuracyVec, bestEpoch"
      ],
      "execution_count": 0,
      "outputs": []
    },
    {
      "cell_type": "code",
      "metadata": {
        "id": "1dheFynldG9M",
        "colab_type": "code",
        "colab": {}
      },
      "source": [
        "def evalModel(model, dataDict, lossFun):\n",
        "    \n",
        "    keys = list(dataDict.keys())\n",
        "    values = [0] * len(keys)\n",
        "\n",
        "    acc = dict(zip(keys, values))\n",
        "    lossDict = dict(zip(keys, values))\n",
        "\n",
        "    model.eval()\n",
        "    with torch.no_grad(): \n",
        "        for data in dataDict.keys():\n",
        "\n",
        "            out = []\n",
        "            tar = []\n",
        "\n",
        "            for (inputs, targets, offsets) in dataDict[data]:\n",
        "              \n",
        "                tar.append(targets)\n",
        "                outputs = model(inputs.to(device), offsets.to(device))\n",
        "                out.append(outputs)\n",
        "\n",
        "            out = torch.cat(out, dim=0)\n",
        "            tar = torch.cat(tar)\n",
        "\n",
        "            accVal, lossVal = compute_metrics(out, tar, lossFun)\n",
        "            acc[data] = accVal * 100\n",
        "            lossDict[data] = lossVal\n",
        "\n",
        "            del inputs, targets, outputs\n",
        "\n",
        "    return acc, lossDict"
      ],
      "execution_count": 0,
      "outputs": []
    },
    {
      "cell_type": "code",
      "metadata": {
        "id": "QEjLJx_ASGOp",
        "colab_type": "code",
        "colab": {}
      },
      "source": [
        "def compute_metrics(outputs, targets, loss):\n",
        "    \n",
        "      lossVal = loss(outputs.to(device), targets.to(device)).item()\n",
        "      _, pred = torch.max(outputs.data, 1)\n",
        "      correct = (pred == targets.to(device)).sum().item()\n",
        "      accVal = correct/len(targets)\n",
        "\n",
        "      return accVal, lossVal"
      ],
      "execution_count": 0,
      "outputs": []
    },
    {
      "cell_type": "markdown",
      "metadata": {
        "id": "Go7pmDl9SMuT",
        "colab_type": "text"
      },
      "source": [
        "## Download word embedding (GloVe)"
      ]
    },
    {
      "cell_type": "code",
      "metadata": {
        "id": "4HH-uEctMMw0",
        "colab_type": "code",
        "outputId": "3dc8a7b3-98c9-41a0-80ed-f61cd08d43dd",
        "colab": {
          "base_uri": "https://localhost:8080/",
          "height": 456
        }
      },
      "source": [
        "!wget http://nlp.stanford.edu/data/glove.6B.zip\n",
        "!unzip glove*.zip\n",
        "print('Indexing word vectors.')\n",
        "embeddings_index = {}\n",
        "f = open('glove.6B.300d.txt', encoding='utf-8')\n",
        "for line in f:\n",
        "    values = line.split()\n",
        "    word = values[0]\n",
        "    coefs = np.asarray(values[1:], dtype='float32')\n",
        "    embeddings_index[word] = coefs\n",
        "f.close()\n",
        "print('Found {} word vectors.'.format(len(embeddings_index)))"
      ],
      "execution_count": 25,
      "outputs": [
        {
          "output_type": "stream",
          "text": [
            "--2020-04-04 21:14:05--  http://nlp.stanford.edu/data/glove.6B.zip\n",
            "Resolving nlp.stanford.edu (nlp.stanford.edu)... 171.64.67.140\n",
            "Connecting to nlp.stanford.edu (nlp.stanford.edu)|171.64.67.140|:80... connected.\n",
            "HTTP request sent, awaiting response... 302 Found\n",
            "Location: https://nlp.stanford.edu/data/glove.6B.zip [following]\n",
            "--2020-04-04 21:14:06--  https://nlp.stanford.edu/data/glove.6B.zip\n",
            "Connecting to nlp.stanford.edu (nlp.stanford.edu)|171.64.67.140|:443... connected.\n",
            "HTTP request sent, awaiting response... 301 Moved Permanently\n",
            "Location: http://downloads.cs.stanford.edu/nlp/data/glove.6B.zip [following]\n",
            "--2020-04-04 21:14:06--  http://downloads.cs.stanford.edu/nlp/data/glove.6B.zip\n",
            "Resolving downloads.cs.stanford.edu (downloads.cs.stanford.edu)... 171.64.64.22\n",
            "Connecting to downloads.cs.stanford.edu (downloads.cs.stanford.edu)|171.64.64.22|:80... connected.\n",
            "HTTP request sent, awaiting response... 200 OK\n",
            "Length: 862182613 (822M) [application/zip]\n",
            "Saving to: ‘glove.6B.zip’\n",
            "\n",
            "glove.6B.zip        100%[===================>] 822.24M  2.06MB/s    in 6m 26s  \n",
            "\n",
            "2020-04-04 21:20:32 (2.13 MB/s) - ‘glove.6B.zip’ saved [862182613/862182613]\n",
            "\n",
            "Archive:  glove.6B.zip\n",
            "  inflating: glove.6B.50d.txt        \n",
            "  inflating: glove.6B.100d.txt       \n",
            "  inflating: glove.6B.200d.txt       \n",
            "  inflating: glove.6B.300d.txt       \n",
            "Indexing word vectors.\n",
            "Found 400000 word vectors.\n"
          ],
          "name": "stdout"
        }
      ]
    },
    {
      "cell_type": "code",
      "metadata": {
        "id": "c1ukiixcdLCZ",
        "colab_type": "code",
        "outputId": "f83c7665-3780-4bd2-f69b-ffdd61002c36",
        "colab": {
          "base_uri": "https://localhost:8080/",
          "height": 33
        }
      },
      "source": [
        "# iterate through each word in the vocabularly\n",
        "# if there exists a word embedding insert it,\n",
        "# else use a sample from a random normal\n",
        "matrix_len = len(vocab)\n",
        "weights_matrix = np.zeros((matrix_len, 300))\n",
        "words_notfound = 0\n",
        "\n",
        "for i, word in enumerate(vocab):\n",
        "    try: \n",
        "        weights_matrix[i] = embeddings_index[word]\n",
        "        # if there is no embedding for the given word\n",
        "        # create vector sampled from random normal\n",
        "\n",
        "        # a advantage of updating the weights of the\n",
        "        # embedding layer as part of training, is that\n",
        "        # an embedding will be learnt for these words \n",
        "    except KeyError:\n",
        "\n",
        "        weights_matrix[i] = np.random.normal(scale=0.5, size=(300, ))\n",
        "        words_notfound += 1\n",
        "\n",
        "# clean up\n",
        "#del embeddings_index\n",
        "\n",
        "print(\"Words not found: {}\".format(words_notfound))"
      ],
      "execution_count": 26,
      "outputs": [
        {
          "output_type": "stream",
          "text": [
            "Words not found: 440\n"
          ],
          "name": "stdout"
        }
      ]
    },
    {
      "cell_type": "markdown",
      "metadata": {
        "id": "TADzcXkySVOy",
        "colab_type": "text"
      },
      "source": [
        "## Model"
      ]
    },
    {
      "cell_type": "code",
      "metadata": {
        "id": "i9UAhYlidLFV",
        "colab_type": "code",
        "colab": {}
      },
      "source": [
        "class BagofVector(nn.Module):\n",
        "    \n",
        "    def __init__(self, embeddingDIM, hiddenDIM1, hiddenDIM2, \n",
        "               ouputDIM, vocab_size, pooling=\"sum\"):\n",
        "        \n",
        "        super(BagofVector, self).__init__()\n",
        "\n",
        "        self.embedding = nn.EmbeddingBag(vocab_size, embeddingDIM, mode=pooling)\n",
        "        self.fc = nn.Sequential(\n",
        "            nn.Linear(embeddingDIM, hiddenDIM1),\n",
        "            nn.ReLU(),\n",
        "            nn.Dropout(),\n",
        "            nn.Linear(hiddenDIM1, hiddenDIM2),\n",
        "            nn.ReLU(),\n",
        "            nn.Dropout(),\n",
        "            nn.Linear(hiddenDIM2, ouputDIM)\n",
        "        )\n",
        "\n",
        "    def forward(self, inputs, offsets):\n",
        "\n",
        "        x = self.embedding(inputs, offsets)\n",
        "        x = self.fc(x)\n",
        "        return x"
      ],
      "execution_count": 0,
      "outputs": []
    },
    {
      "cell_type": "code",
      "metadata": {
        "id": "PKvsV4wLdG3y",
        "colab_type": "code",
        "colab": {}
      },
      "source": [
        "torch.manual_seed(42)\n",
        "mlp = BagofVector(300, 128, 64, 5, len(vocab), \"sum\").to(device)\n",
        "mlp.embedding.weight.data.copy_(torch.from_numpy(weights_matrix))\n",
        "optimizer = optim.Adam([\n",
        "                {'params': mlp.fc.parameters(), 'lr': 2e-4},\n",
        "                {'params': mlp.embedding.weight, 'lr': 1e-5}\n",
        "            ])\n",
        "scheduler = optim.lr_scheduler.StepLR(optimizer, step_size=6, gamma=0.8) \n",
        "loss = nn.CrossEntropyLoss()"
      ],
      "execution_count": 0,
      "outputs": []
    },
    {
      "cell_type": "code",
      "metadata": {
        "id": "wdFrRVdNbw_f",
        "colab_type": "code",
        "outputId": "e263a343-edd1-4bab-dfcd-1450b4275fa2",
        "colab": {
          "base_uri": "https://localhost:8080/",
          "height": 1000
        }
      },
      "source": [
        "trainLossVec, valLossVec, trainAccVec, valAccVec, bEpoch = train(mlp, loss, optimizer, scheduler, 50, \n",
        "                                      training_generator, val_generator, \n",
        "                                      training_eval, verbose=True, saveModel=True)"
      ],
      "execution_count": 29,
      "outputs": [
        {
          "output_type": "stream",
          "text": [
            "Summary of model\n",
            "\n",
            "BagofVector(\n",
            "  (embedding): EmbeddingBag(12133, 300, mode=sum)\n",
            "  (fc): Sequential(\n",
            "    (0): Linear(in_features=300, out_features=128, bias=True)\n",
            "    (1): ReLU()\n",
            "    (2): Dropout(p=0.5, inplace=False)\n",
            "    (3): Linear(in_features=128, out_features=64, bias=True)\n",
            "    (4): ReLU()\n",
            "    (5): Dropout(p=0.5, inplace=False)\n",
            "    (6): Linear(in_features=64, out_features=5, bias=True)\n",
            "  )\n",
            ")\n",
            "\n",
            "\n",
            "New best value for validation loss: Saved model to bestModel.pt\n",
            "Epoch: 1 \t Loss (train): 1.005 (val): 1.013 \tAcc (train) 58.814 (val): 58.461\n",
            "New best value for validation loss: Saved model to bestModel.pt\n",
            "Epoch: 2 \t Loss (train): 0.955 (val): 0.966 \tAcc (train) 60.186 (val): 59.732\n",
            "New best value for validation loss: Saved model to bestModel.pt\n",
            "Epoch: 3 \t Loss (train): 0.934 (val): 0.950 \tAcc (train) 60.795 (val): 60.026\n",
            "New best value for validation loss: Saved model to bestModel.pt\n",
            "Epoch: 4 \t Loss (train): 0.915 (val): 0.936 \tAcc (train) 61.440 (val): 60.431\n",
            "New best value for validation loss: Saved model to bestModel.pt\n",
            "Epoch: 5 \t Loss (train): 0.899 (val): 0.924 \tAcc (train) 61.906 (val): 60.773\n",
            "New best value for validation loss: Saved model to bestModel.pt\n",
            "Epoch: 6 \t Loss (train): 0.886 (val): 0.915 \tAcc (train) 62.605 (val): 61.451\n",
            "New best value for validation loss: Saved model to bestModel.pt\n",
            "Epoch: 7 \t Loss (train): 0.872 (val): 0.906 \tAcc (train) 63.122 (val): 61.702\n",
            "New best value for validation loss: Saved model to bestModel.pt\n",
            "Epoch: 8 \t Loss (train): 0.861 (val): 0.898 \tAcc (train) 63.620 (val): 62.071\n",
            "New best value for validation loss: Saved model to bestModel.pt\n",
            "Epoch: 9 \t Loss (train): 0.854 (val): 0.893 \tAcc (train) 63.875 (val): 62.343\n",
            "New best value for validation loss: Saved model to bestModel.pt\n",
            "Epoch: 10 \t Loss (train): 0.845 (val): 0.887 \tAcc (train) 64.482 (val): 62.567\n",
            "New best value for validation loss: Saved model to bestModel.pt\n",
            "Epoch: 11 \t Loss (train): 0.837 (val): 0.883 \tAcc (train) 64.567 (val): 62.594\n",
            "New best value for validation loss: Saved model to bestModel.pt\n",
            "Epoch: 12 \t Loss (train): 0.830 (val): 0.877 \tAcc (train) 64.984 (val): 63.027\n",
            "New best value for validation loss: Saved model to bestModel.pt\n",
            "Epoch: 13 \t Loss (train): 0.821 (val): 0.874 \tAcc (train) 65.294 (val): 63.219\n",
            "New best value for validation loss: Saved model to bestModel.pt\n",
            "Epoch: 14 \t Loss (train): 0.813 (val): 0.868 \tAcc (train) 65.675 (val): 63.566\n",
            "New best value for validation loss: Saved model to bestModel.pt\n",
            "Epoch: 15 \t Loss (train): 0.808 (val): 0.866 \tAcc (train) 65.816 (val): 63.886\n",
            "New best value for validation loss: Saved model to bestModel.pt\n",
            "Epoch: 16 \t Loss (train): 0.803 (val): 0.864 \tAcc (train) 66.156 (val): 64.004\n",
            "New best value for validation loss: Saved model to bestModel.pt\n",
            "Epoch: 17 \t Loss (train): 0.796 (val): 0.861 \tAcc (train) 66.304 (val): 64.095\n",
            "New best value for validation loss: Saved model to bestModel.pt\n",
            "Epoch: 18 \t Loss (train): 0.794 (val): 0.860 \tAcc (train) 66.504 (val): 64.031\n",
            "New best value for validation loss: Saved model to bestModel.pt\n",
            "Epoch: 19 \t Loss (train): 0.786 (val): 0.855 \tAcc (train) 66.873 (val): 64.260\n",
            "New best value for validation loss: Saved model to bestModel.pt\n",
            "Epoch: 20 \t Loss (train): 0.781 (val): 0.854 \tAcc (train) 67.007 (val): 64.314\n",
            "New best value for validation loss: Saved model to bestModel.pt\n",
            "Epoch: 21 \t Loss (train): 0.779 (val): 0.853 \tAcc (train) 67.052 (val): 64.308\n",
            "New best value for validation loss: Saved model to bestModel.pt\n",
            "Epoch: 22 \t Loss (train): 0.775 (val): 0.851 \tAcc (train) 67.309 (val): 64.522\n",
            "New best value for validation loss: Saved model to bestModel.pt\n",
            "Epoch: 23 \t Loss (train): 0.772 (val): 0.849 \tAcc (train) 67.406 (val): 64.821\n",
            "New best value for validation loss: Saved model to bestModel.pt\n",
            "Epoch: 24 \t Loss (train): 0.767 (val): 0.849 \tAcc (train) 67.589 (val): 64.661\n",
            "New best value for validation loss: Saved model to bestModel.pt\n",
            "Epoch: 25 \t Loss (train): 0.763 (val): 0.847 \tAcc (train) 67.722 (val): 64.837\n",
            "New best value for validation loss: Saved model to bestModel.pt\n",
            "Epoch: 26 \t Loss (train): 0.759 (val): 0.843 \tAcc (train) 67.947 (val): 64.799\n",
            "New best value for validation loss: Saved model to bestModel.pt\n",
            "Epoch: 27 \t Loss (train): 0.756 (val): 0.841 \tAcc (train) 68.012 (val): 65.066\n",
            "Epoch: 28 \t Loss (train): 0.753 (val): 0.842 \tAcc (train) 68.166 (val): 65.189\n",
            "New best value for validation loss: Saved model to bestModel.pt\n",
            "Epoch: 29 \t Loss (train): 0.750 (val): 0.840 \tAcc (train) 68.347 (val): 65.157\n",
            "Epoch: 30 \t Loss (train): 0.748 (val): 0.841 \tAcc (train) 68.326 (val): 65.088\n",
            "New best value for validation loss: Saved model to bestModel.pt\n",
            "Epoch: 31 \t Loss (train): 0.744 (val): 0.839 \tAcc (train) 68.532 (val): 65.253\n",
            "Epoch: 32 \t Loss (train): 0.742 (val): 0.840 \tAcc (train) 68.486 (val): 65.269\n",
            "New best value for validation loss: Saved model to bestModel.pt\n",
            "Epoch: 33 \t Loss (train): 0.740 (val): 0.837 \tAcc (train) 68.773 (val): 65.440\n",
            "Epoch: 34 \t Loss (train): 0.737 (val): 0.837 \tAcc (train) 68.868 (val): 65.344\n",
            "Epoch: 35 \t Loss (train): 0.736 (val): 0.837 \tAcc (train) 68.868 (val): 65.446\n",
            "New best value for validation loss: Saved model to bestModel.pt\n",
            "Epoch: 36 \t Loss (train): 0.733 (val): 0.834 \tAcc (train) 69.052 (val): 65.622\n",
            "New best value for validation loss: Saved model to bestModel.pt\n",
            "Epoch: 37 \t Loss (train): 0.730 (val): 0.834 \tAcc (train) 69.130 (val): 65.600\n",
            "Epoch: 38 \t Loss (train): 0.730 (val): 0.835 \tAcc (train) 69.156 (val): 65.472\n",
            "New best value for validation loss: Saved model to bestModel.pt\n",
            "Epoch: 39 \t Loss (train): 0.727 (val): 0.833 \tAcc (train) 69.339 (val): 65.616\n",
            "Epoch: 40 \t Loss (train): 0.726 (val): 0.833 \tAcc (train) 69.331 (val): 65.568\n",
            "New best value for validation loss: Saved model to bestModel.pt\n",
            "Epoch: 41 \t Loss (train): 0.724 (val): 0.832 \tAcc (train) 69.412 (val): 65.691\n",
            "New best value for validation loss: Saved model to bestModel.pt\n",
            "Epoch: 42 \t Loss (train): 0.722 (val): 0.832 \tAcc (train) 69.517 (val): 65.649\n",
            "Epoch: 43 \t Loss (train): 0.721 (val): 0.832 \tAcc (train) 69.505 (val): 65.782\n",
            "New best value for validation loss: Saved model to bestModel.pt\n",
            "Epoch: 44 \t Loss (train): 0.718 (val): 0.830 \tAcc (train) 69.680 (val): 65.793\n",
            "New best value for validation loss: Saved model to bestModel.pt\n",
            "Epoch: 45 \t Loss (train): 0.717 (val): 0.830 \tAcc (train) 69.700 (val): 65.894\n",
            "Epoch: 46 \t Loss (train): 0.716 (val): 0.831 \tAcc (train) 69.701 (val): 65.841\n",
            "Epoch: 47 \t Loss (train): 0.715 (val): 0.830 \tAcc (train) 69.734 (val): 65.873\n",
            "Epoch: 48 \t Loss (train): 0.714 (val): 0.830 \tAcc (train) 69.843 (val): 65.835\n",
            "Epoch: 49 \t Loss (train): 0.712 (val): 0.831 \tAcc (train) 69.939 (val): 65.841\n",
            "Epoch: 50 \t Loss (train): 0.712 (val): 0.830 \tAcc (train) 69.915 (val): 65.894\n"
          ],
          "name": "stdout"
        }
      ]
    },
    {
      "cell_type": "code",
      "metadata": {
        "id": "C4f_urOcixCS",
        "colab_type": "code",
        "colab": {}
      },
      "source": [
        "bestModel = copy.deepcopy(mlp)\n",
        "bestModel.load_state_dict(torch.load(\"bestModel.pt\"))\n",
        "bestModel = bestModel.to(device)"
      ],
      "execution_count": 0,
      "outputs": []
    },
    {
      "cell_type": "code",
      "metadata": {
        "id": "V4GzYpWXnkbi",
        "colab_type": "code",
        "outputId": "2c10cfc7-6896-4465-e946-390818d1109c",
        "colab": {
          "base_uri": "https://localhost:8080/",
          "height": 82
        }
      },
      "source": [
        "accDict, lossDict = evalModel(bestModel, {\"test\": test_generator, \"train\": training_eval, \"val\": val_generator}, loss)\n",
        "print(\"Accuracy: \\n{} \\nLoss: \\n{}\".format(accDict, lossDict))"
      ],
      "execution_count": 31,
      "outputs": [
        {
          "output_type": "stream",
          "text": [
            "Accuracy: \n",
            "{'test': 65.47056467761314, 'train': 69.69995514545687, 'val': 65.89416350723553} \n",
            "Loss: \n",
            "{'test': 0.8281164765357971, 'train': 0.71733558177948, 'val': 0.8299584984779358}\n"
          ],
          "name": "stdout"
        }
      ]
    },
    {
      "cell_type": "code",
      "metadata": {
        "id": "yGJuzHdonnfp",
        "colab_type": "code",
        "outputId": "1ab31597-b82b-4633-a11a-e843cbbf7f86",
        "colab": {
          "base_uri": "https://localhost:8080/",
          "height": 336
        }
      },
      "source": [
        "matplotlib.rcParams['axes.spines.top'] = False\n",
        "matplotlib.rcParams['axes.spines.right'] = False\n",
        "\n",
        "fig, (ax1, ax2) = plt.subplots(1, 2, figsize=(12,5))\n",
        "\n",
        "ax1.plot(range(len(valAccVec)), valAccVec, label = \"Validation\")\n",
        "ax1.plot(range(len(trainAccVec)), trainAccVec, label = \"Train\")\n",
        "ax1.grid(True, alpha=0.4)\n",
        "ax1.set_title(\"Accuracy\")\n",
        "ax1.legend()\n",
        "ax2.plot(range(len(valLossVec)), valLossVec, label = \"Validation\")\n",
        "ax2.plot(range(len(trainLossVec)), trainLossVec, label = \"Train\")\n",
        "ax2.grid(True, alpha=0.4)\n",
        "ax2.set_title(\"Loss\")\n",
        "ax2.legend()\n",
        "plt.show()"
      ],
      "execution_count": 32,
      "outputs": [
        {
          "output_type": "display_data",
          "data": {
            "image/png": "[encoded data removed]",
            "text/plain": [
              "<Figure size 864x360 with 2 Axes>"
            ]
          },
          "metadata": {
            "tags": []
          }
        }
      ]
    }
  ]
}