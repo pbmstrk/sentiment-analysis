{
 "cells": [
  {
   "cell_type": "markdown",
   "metadata": {},
   "source": [
    "# LSTM"
   ]
  },
  {
   "cell_type": "code",
   "execution_count": 0,
   "metadata": {
    "colab": {},
    "colab_type": "code",
    "id": "hzo5eVM8wVv8"
   },
   "outputs": [],
   "source": [
    "# data wrangling\n",
    "import pandas as pd\n",
    "import numpy as np\n",
    "from sklearn.model_selection import train_test_split\n",
    "\n",
    "# language model \n",
    "import spacy\n",
    "spacy_en = spacy.load('en')\n",
    "\n",
    "# pytorch\n",
    "import torch\n",
    "import torch.nn as nn\n",
    "import torch.nn.functional as F\n",
    "import torch.optim as optim\n",
    "from torch.nn.utils.rnn import pad_sequence, pack_padded_sequence, pad_packed_sequence\n",
    "from torch.utils import data\n",
    "\n",
    "from collections import Counter\n",
    "import copy\n",
    "import re\n",
    "import matplotlib.pyplot as plt\n",
    "import matplotlib "
   ]
  },
  {
   "cell_type": "code",
   "execution_count": 0,
   "metadata": {
    "colab": {},
    "colab_type": "code",
    "id": "OVMpObCdcFDi"
   },
   "outputs": [],
   "source": [
    "torch.backends.cudnn.deterministic = True"
   ]
  },
  {
   "cell_type": "code",
   "execution_count": 5,
   "metadata": {
    "colab": {
     "base_uri": "https://localhost:8080/",
     "height": 33
    },
    "colab_type": "code",
    "id": "5QgyixJocGwa",
    "outputId": "d21f724e-e3a5-4866-8cd9-064039891aad"
   },
   "outputs": [
    {
     "data": {
      "text/plain": [
       "device(type='cuda')"
      ]
     },
     "execution_count": 5,
     "metadata": {
      "tags": []
     },
     "output_type": "execute_result"
    }
   ],
   "source": [
    "device = torch.device(\"cuda\" if torch.cuda.is_available() else \"cpu\")\n",
    "device"
   ]
  },
  {
   "cell_type": "markdown",
   "metadata": {},
   "source": [
    "## Text processing"
   ]
  },
  {
   "cell_type": "code",
   "execution_count": 0,
   "metadata": {
    "colab": {},
    "colab_type": "code",
    "id": "pwKaPqUvcGy0"
   },
   "outputs": [],
   "source": [
    "def tokenizer(text): \n",
    "    text = text.lower()\n",
    "    text = re.sub(\"-rrb-\",\"\", text)\n",
    "    text = re.sub(\"-lrb-\",\"\", text)\n",
    "    tokens = spacy_en.tokenizer(text)\n",
    "    #tokens = [tok for tok in tokens if tok.is_stop == False]\n",
    "    tokens = [tok.lemma_ for tok in tokens]\n",
    "    return tokens"
   ]
  },
  {
   "cell_type": "code",
   "execution_count": 0,
   "metadata": {
    "colab": {},
    "colab_type": "code",
    "id": "EyMBgFPycG6Y"
   },
   "outputs": [],
   "source": [
    "class Vocabulary:\n",
    "      \n",
    "    def __init__(self, vocabCount, min_freq):\n",
    "        # initialize PAD and UNK tokens\n",
    "        self.PAD_token = 0   \n",
    "        self.UNK_token = 1\n",
    "        self.vocabCount = vocabCount\n",
    "        self.min_freq = min_freq\n",
    "        # initialize list of words and vocab dictionary\n",
    "        self.wordlist = [\"<pad>\", \"<unk>\"]\n",
    "        self.word2index = {}\n",
    "\n",
    "        self.build_vocab(self.vocabCount)\n",
    "\n",
    "    def __len__(self):\n",
    "        return len(self.word2index)\n",
    "\n",
    "    def __getitem__(self, word):\n",
    "        return self.word2index.get(word, 1)\n",
    "\n",
    "    def __iter__(self):\n",
    "        return iter(vocab.word2index)\n",
    "\n",
    "    def build_vocab(self, vocabCount):\n",
    "        for word in self.vocabCount:\n",
    "            if vocabCount[word] >= self.min_freq:\n",
    "                self.wordlist.append(word)\n",
    "        self.word2index.update({tok: i for i, tok in enumerate(self.wordlist)})"
   ]
  },
  {
   "cell_type": "markdown",
   "metadata": {},
   "source": [
    "## Load and process data"
   ]
  },
  {
   "cell_type": "code",
   "execution_count": 0,
   "metadata": {
    "colab": {},
    "colab_type": "code",
    "id": "R6WC74oacG3w"
   },
   "outputs": [],
   "source": [
    "train_data = pd.read_csv('../data/train.tsv', sep=\"\\t\", encoding=\"utf_8_sig\")\n",
    "phrases = np.array(train_data.iloc[:, 2])\n",
    "target = np.array(train_data.iloc[:, 3])\n",
    "\n",
    "# create train and validation sets\n",
    "X_train , X_val, y_train , y_val = train_test_split(phrases, target, \n",
    "                                                    test_size = 0.2, random_state=42)\n",
    "\n",
    "# create validation and test sets\n",
    "X_val , X_test, y_val , y_test = train_test_split(X_val, y_val, \n",
    "                                                    test_size = 0.4, random_state=42)"
   ]
  },
  {
   "cell_type": "code",
   "execution_count": 9,
   "metadata": {
    "colab": {
     "base_uri": "https://localhost:8080/",
     "height": 66
    },
    "colab_type": "code",
    "id": "W6uwiAT4xD5u",
    "outputId": "dcdd5697-5bce-4e19-c34e-66889cf88339"
   },
   "outputs": [
    {
     "name": "stdout",
     "output_type": "stream",
     "text": [
      "Length of train dataset: 124848 \n",
      "Length of validation dataset: 18727 \n",
      "Length of test dataset: 12485\n"
     ]
    }
   ],
   "source": [
    "X_train = [tokenizer(phrase) for phrase in X_train]\n",
    "X_val = [tokenizer(phrase) for phrase in X_val]\n",
    "X_test = [tokenizer(phrase) for phrase in X_test]\n",
    "\n",
    "print(\"Length of train dataset: {} \\nLength of validation dataset: {} \\nLength of test dataset: {}\".format(len(X_train), len(X_val), len(X_test)))"
   ]
  },
  {
   "cell_type": "markdown",
   "metadata": {},
   "source": [
    "## Create vocabularly"
   ]
  },
  {
   "cell_type": "code",
   "execution_count": 0,
   "metadata": {
    "colab": {},
    "colab_type": "code",
    "id": "Gn9KLrBsxGlG"
   },
   "outputs": [],
   "source": [
    "vocabCount = Counter([item for sublist in X_train for item in sublist])\n",
    "vocab = Vocabulary(vocabCount, 1)"
   ]
  },
  {
   "cell_type": "code",
   "execution_count": 0,
   "metadata": {
    "colab": {},
    "colab_type": "code",
    "id": "pPXC8lmUxIQt"
   },
   "outputs": [],
   "source": [
    "X_trainNum = [torch.tensor([vocab[word] for word in phrase]) for phrase in X_train]\n",
    "X_valNum = [torch.tensor([vocab[word] for word in phrase]) for phrase in X_val]\n",
    "X_testNum = [torch.tensor([vocab[word] for word in phrase]) for phrase in X_test]"
   ]
  },
  {
   "cell_type": "code",
   "execution_count": 12,
   "metadata": {
    "colab": {
     "base_uri": "https://localhost:8080/",
     "height": 33
    },
    "colab_type": "code",
    "id": "qVnB7wh9cG13",
    "outputId": "7b5a5716-c0b8-4f0d-e62c-0600ce6b4d44"
   },
   "outputs": [
    {
     "name": "stdout",
     "output_type": "stream",
     "text": [
      "43785\n"
     ]
    }
   ],
   "source": [
    "# make sure each tensor actually has values\n",
    "for i, el in enumerate(X_trainNum):\n",
    "    if el.nelement() == 0:\n",
    "        print(i)\n",
    "        X_trainNum[i] = torch.tensor([0]).long()"
   ]
  },
  {
   "cell_type": "code",
   "execution_count": 0,
   "metadata": {
    "colab": {},
    "colab_type": "code",
    "id": "s3ICfhe1cmVX"
   },
   "outputs": [],
   "source": [
    "# make sure each tensor actually has values\n",
    "for i, el in enumerate(X_valNum):\n",
    "    if el.nelement() == 0:\n",
    "        print(i)\n",
    "        X_valNum[i] = torch.tensor([0]).long()"
   ]
  },
  {
   "cell_type": "code",
   "execution_count": 14,
   "metadata": {
    "colab": {
     "base_uri": "https://localhost:8080/",
     "height": 33
    },
    "colab_type": "code",
    "id": "oRxvYjvNcmcE",
    "outputId": "6d78d7eb-9cea-4f22-b044-391b5c116c49"
   },
   "outputs": [
    {
     "name": "stdout",
     "output_type": "stream",
     "text": [
      "7117\n"
     ]
    }
   ],
   "source": [
    "# make sure each tensor actually has values\n",
    "for i, el in enumerate(X_testNum):\n",
    "    if el.nelement() == 0:\n",
    "        print(i)\n",
    "        X_testNum[i] = torch.tensor([0]).long()"
   ]
  },
  {
   "cell_type": "markdown",
   "metadata": {},
   "source": [
    "## Dataset class and batching function"
   ]
  },
  {
   "cell_type": "code",
   "execution_count": 0,
   "metadata": {
    "colab": {},
    "colab_type": "code",
    "id": "lEdSJyz_xRnB"
   },
   "outputs": [],
   "source": [
    "class WordDataset(data.Dataset):\n",
    "    \n",
    "    def __init__(self, X, y):\n",
    "        self.X = X\n",
    "        self.y = y\n",
    "        \n",
    "    def __len__(self):\n",
    "        return len(self.y)\n",
    "    \n",
    "    def __getitem__(self, idx):  \n",
    "        X = self.X[idx]\n",
    "        Y = self.y[idx]\n",
    "        return X, Y"
   ]
  },
  {
   "cell_type": "code",
   "execution_count": 0,
   "metadata": {
    "colab": {},
    "colab_type": "code",
    "id": "_VRlF9yhxZjD"
   },
   "outputs": [],
   "source": [
    "def generate_batch(batch):\n",
    "    \n",
    "    # get inputs and targets\n",
    "    data = [item[0] for item in batch]\n",
    "    targets = [item[1] for item in batch]\n",
    "\n",
    "    # to be able to pack sequences later on, need\n",
    "    # the original sequence lengths\n",
    "    seqlengths = [len(el) for el in data]\n",
    "    \n",
    "    # pad the sequences\n",
    "    x = pad_sequence(data, batch_first=True)\n",
    "\n",
    "    return x, torch.Tensor(targets), seqlengths"
   ]
  },
  {
   "cell_type": "code",
   "execution_count": 0,
   "metadata": {
    "colab": {},
    "colab_type": "code",
    "id": "nmsXlCwkxZ1A"
   },
   "outputs": [],
   "source": [
    "trainingset = WordDataset(X_trainNum, y_train)\n",
    "valset = WordDataset(X_valNum, y_val)\n",
    "testset = WordDataset(X_testNum, y_test)"
   ]
  },
  {
   "cell_type": "code",
   "execution_count": 0,
   "metadata": {
    "colab": {},
    "colab_type": "code",
    "id": "WXEw6wYYxbkY"
   },
   "outputs": [],
   "source": [
    "training_generator = data.DataLoader(trainingset, batch_size=64, collate_fn=generate_batch)\n",
    "val_generator = data.DataLoader(valset, batch_size=len(y_val), collate_fn=generate_batch)\n",
    "test_generator = data.DataLoader(testset, batch_size=len(y_test), collate_fn=generate_batch)"
   ]
  },
  {
   "cell_type": "code",
   "execution_count": 0,
   "metadata": {
    "colab": {},
    "colab_type": "code",
    "id": "qKEUtySRxczo"
   },
   "outputs": [],
   "source": [
    "training_eval = data.DataLoader(trainingset, batch_size=512, collate_fn = generate_batch)"
   ]
  },
  {
   "cell_type": "markdown",
   "metadata": {},
   "source": [
    "## Training loop and evaluation function"
   ]
  },
  {
   "cell_type": "code",
   "execution_count": 0,
   "metadata": {
    "colab": {},
    "colab_type": "code",
    "id": "J0aJFHnpxeC4"
   },
   "outputs": [],
   "source": [
    "def train(m, lossFun, optim, scheduler, epochs, train_loader, val_loader, train_eval,\n",
    "          saveModel = False, verbose=False):\n",
    "\n",
    "    print(\"Summary of model\\n\")\n",
    "    print(m)\n",
    "    print(\"\\n\")\n",
    "\n",
    "    # initialize lists to store loss and accuracy\n",
    "    trainLossVec , valLossVec, trainAccuracyVec, valAccuracyVec = [], [], [], []\n",
    "    bestLoss, bestEpoch = 100, 0\n",
    "\n",
    "    # get number of batches\n",
    "    numberBatches = len(train_loader)\n",
    "\n",
    "    for epoch in range(epochs):\n",
    "\n",
    "        # Set model to training mode\n",
    "        m.train()\n",
    "    \n",
    "        # Loop over each batch from the training set\n",
    "        for batch_idx, (inputs, targets, seqlengths) in enumerate(train_loader):\n",
    "            \n",
    "            # Zero gradient buffers\n",
    "            optim.zero_grad()\n",
    "            # Foward pass and compute loss on batch\n",
    "            outputs = m(inputs.to(device), seqlengths)\n",
    "            batchloss = lossFun(outputs, targets.long().to(device))\n",
    "            # Backpropagate and update weights\n",
    "            batchloss.backward()\n",
    "            # gradient clipping\n",
    "            torch.nn.utils.clip_grad_norm_(m.parameters(), 1., norm_type=2)\n",
    "            # optimizer step\n",
    "            optim.step()\n",
    "    \n",
    "        # set model to evaluation mode\n",
    "        m.eval()\n",
    "        with torch.no_grad():\n",
    "            \n",
    "            # evaluate model on training and validation data\n",
    "            acc, loss = evalModel(m, {\"train\": train_eval, \"val\": val_loader}, lossFun)\n",
    "            # update accuracy\n",
    "            trainAccuracyVec.append(acc[\"train\"])\n",
    "            valAccuracyVec.append(acc[\"val\"])\n",
    "            # update loss\n",
    "            trainLossVec.append(loss[\"train\"])\n",
    "            valLossVec.append(loss[\"val\"])\n",
    "            \n",
    "            scheduler.step()\n",
    "    \n",
    "            # check if new best for validation accuracy\n",
    "            if valLossVec[-1] < bestLoss:\n",
    "                bestLoss = valLossVec[-1]\n",
    "                bestEpoch = epoch\n",
    "                if saveModel == True:\n",
    "                    torch.save(m.state_dict(), \"bestModel.pt\")\n",
    "                    print(\"New best value for validation loss: Saved model to bestModel.pt\")\n",
    "            \n",
    "            # print information about training progress\n",
    "            if verbose == True:\n",
    "                print((\"Epoch: {} \\t Loss (train): {:.3f} (val): {:.3f} \\t\" +\n",
    "              \"Acc (train) {:.3f} (val): {:.3f}\").format(epoch + 1,\n",
    "                            trainLossVec[-1], valLossVec[-1], trainAccuracyVec[-1], valAccuracyVec[-1]))\n",
    "            # clean up\n",
    "            del inputs, targets, outputs, acc, loss\n",
    "\n",
    "    return trainLossVec, valLossVec, trainAccuracyVec, valAccuracyVec, bestEpoch"
   ]
  },
  {
   "cell_type": "code",
   "execution_count": 0,
   "metadata": {
    "colab": {},
    "colab_type": "code",
    "id": "KzMx499kxnW7"
   },
   "outputs": [],
   "source": [
    "def evalModel(model, dataDict, lossFun):\n",
    "    \n",
    "    keys = list(dataDict.keys())\n",
    "    values = [0] * len(keys)\n",
    "\n",
    "    acc = dict(zip(keys, values))\n",
    "    lossDict = dict(zip(keys, values))\n",
    "\n",
    "    model.eval()\n",
    "    with torch.no_grad():\n",
    "        \n",
    "        for data in dataDict.keys():\n",
    "\n",
    "            lossVal = 0\n",
    "            correct = 0\n",
    "\n",
    "            for (inputs, targets, seqlengths) in dataDict[data]:\n",
    "                \n",
    "                batchsize = len(targets)\n",
    "                outputs = model(inputs.to(device), seqlengths)\n",
    "                lossVal += lossFun(outputs, targets.long().to(device)).item() * batchsize\n",
    "\n",
    "                _, pred = torch.max(outputs.data, 1)\n",
    "                correct += (pred == targets.long().to(device)).sum().item()\n",
    "                \n",
    "            lossVal = lossVal/len(dataDict[data].dataset)\n",
    "            accuracy = correct/len(dataDict[data].dataset)\n",
    "\n",
    "            acc[data] = accuracy * 100\n",
    "            lossDict[data] = lossVal\n",
    "\n",
    "            del inputs, targets, outputs\n",
    "\n",
    "    return acc, lossDict"
   ]
  },
  {
   "cell_type": "markdown",
   "metadata": {},
   "source": [
    "## Download word embeddings"
   ]
  },
  {
   "cell_type": "code",
   "execution_count": 22,
   "metadata": {
    "colab": {
     "base_uri": "https://localhost:8080/",
     "height": 456
    },
    "colab_type": "code",
    "id": "XK5DWNvuyTFu",
    "outputId": "c7a34846-1eae-41dd-d197-0a798090a402"
   },
   "outputs": [
    {
     "name": "stdout",
     "output_type": "stream",
     "text": [
      "--2020-01-29 19:42:30--  http://nlp.stanford.edu/data/glove.6B.zip\n",
      "Resolving nlp.stanford.edu (nlp.stanford.edu)... 171.64.67.140\n",
      "Connecting to nlp.stanford.edu (nlp.stanford.edu)|171.64.67.140|:80... connected.\n",
      "HTTP request sent, awaiting response... 302 Found\n",
      "Location: https://nlp.stanford.edu/data/glove.6B.zip [following]\n",
      "--2020-01-29 19:42:31--  https://nlp.stanford.edu/data/glove.6B.zip\n",
      "Connecting to nlp.stanford.edu (nlp.stanford.edu)|171.64.67.140|:443... connected.\n",
      "HTTP request sent, awaiting response... 301 Moved Permanently\n",
      "Location: http://downloads.cs.stanford.edu/nlp/data/glove.6B.zip [following]\n",
      "--2020-01-29 19:42:31--  http://downloads.cs.stanford.edu/nlp/data/glove.6B.zip\n",
      "Resolving downloads.cs.stanford.edu (downloads.cs.stanford.edu)... 171.64.64.22\n",
      "Connecting to downloads.cs.stanford.edu (downloads.cs.stanford.edu)|171.64.64.22|:80... connected.\n",
      "HTTP request sent, awaiting response... 200 OK\n",
      "Length: 862182613 (822M) [application/zip]\n",
      "Saving to: ‘glove.6B.zip’\n",
      "\n",
      "glove.6B.zip        100%[===================>] 822.24M  1.97MB/s    in 6m 29s  \n",
      "\n",
      "2020-01-29 19:49:01 (2.11 MB/s) - ‘glove.6B.zip’ saved [862182613/862182613]\n",
      "\n",
      "Archive:  glove.6B.zip\n",
      "  inflating: glove.6B.50d.txt        \n",
      "  inflating: glove.6B.100d.txt       \n",
      "  inflating: glove.6B.200d.txt       \n",
      "  inflating: glove.6B.300d.txt       \n",
      "Indexing word vectors.\n",
      "Found 400000 word vectors.\n"
     ]
    }
   ],
   "source": [
    "!wget http://nlp.stanford.edu/data/glove.6B.zip\n",
    "!unzip glove*.zip"
   ]
  },
  {
   "cell_type": "code",
   "execution_count": 36,
   "metadata": {
    "colab": {
     "base_uri": "https://localhost:8080/",
     "height": 50
    },
    "colab_type": "code",
    "id": "GIZ2Oay_3I3D",
    "outputId": "3d0def63-0f6f-4ed8-e2fb-34b20dc6821c"
   },
   "outputs": [
    {
     "name": "stdout",
     "output_type": "stream",
     "text": [
      "Indexing word vectors.\n",
      "Found 400000 word vectors.\n"
     ]
    }
   ],
   "source": [
    "print('Indexing word vectors.')\n",
    "embeddings_index = {}\n",
    "f = open('glove.6B.300d.txt', encoding='utf-8')\n",
    "for line in f:\n",
    "    values = line.split()\n",
    "    word = values[0]\n",
    "    coefs = np.asarray(values[1:], dtype='float32')\n",
    "    embeddings_index[word] = coefs\n",
    "f.close()\n",
    "print('Found {} word vectors.'.format(len(embeddings_index)))"
   ]
  },
  {
   "cell_type": "code",
   "execution_count": 37,
   "metadata": {
    "colab": {
     "base_uri": "https://localhost:8080/",
     "height": 33
    },
    "colab_type": "code",
    "id": "zU3cyw0iyPiH",
    "outputId": "5ba2c107-8cff-490f-f566-48cfa48a251b"
   },
   "outputs": [
    {
     "name": "stdout",
     "output_type": "stream",
     "text": [
      "Words not found: 442\n"
     ]
    }
   ],
   "source": [
    "# iterate through each word in the vocabularly\n",
    "# if there exists a word embedding insert it,\n",
    "# else use a sample from a random normal\n",
    "matrix_len = len(vocab)\n",
    "weights_matrix = np.zeros((matrix_len, 300))\n",
    "words_notfound = 0\n",
    "\n",
    "for i, word in enumerate(vocab):\n",
    "    try: \n",
    "        weights_matrix[i] = embeddings_index[word]\n",
    "        # if there is no embedding for the given word\n",
    "        # create vector sampled from random normal\n",
    "\n",
    "        # a advantage of updating the weights of the\n",
    "        # embedding layer as part of training, is that\n",
    "        # an embedding will be learnt for these words \n",
    "    except KeyError:\n",
    "\n",
    "        weights_matrix[i] = np.random.normal(scale=0.5, size=(300, ))\n",
    "        words_notfound += 1\n",
    "\n",
    "# clean up\n",
    "del embeddings_index\n",
    "\n",
    "print(\"Words not found: {}\".format(words_notfound))"
   ]
  },
  {
   "cell_type": "markdown",
   "metadata": {
    "colab_type": "text",
    "id": "DFTNxIVxx6O7"
   },
   "source": [
    "## Model"
   ]
  },
  {
   "cell_type": "code",
   "execution_count": 0,
   "metadata": {
    "colab": {},
    "colab_type": "code",
    "id": "-_E3oh9kxws8"
   },
   "outputs": [],
   "source": [
    "class LSTM(nn.Module):\n",
    "    \n",
    "    def __init__(self, embeddingDIM, hiddenDIM1, hiddenDIM2, outputDIM, \n",
    "                 n_layers, vocab_size):\n",
    "    \n",
    "        super(LSTM, self).__init__()    \n",
    "\n",
    "        self.embedding = nn.Embedding(vocab_size, embeddingDIM, padding_idx=0)\n",
    "        self.lstm = nn.LSTM(embeddingDIM, hiddenDIM1, num_layers = n_layers, batch_first = True)\n",
    "        self.linear1 = nn.Linear(hiddenDIM1, hiddenDIM2)\n",
    "        self.linear2 = nn.Linear(hiddenDIM2, outputDIM)\n",
    "        self.dropout = nn.Dropout()\n",
    "\n",
    "    def forward(self, inputs, seqlengths):\n",
    "\n",
    "        # input size: (batchsize, longest_seq)\n",
    "        \n",
    "        # get embeddings for each sequence\n",
    "        embeds = self.embedding(inputs.long()).to(device)\n",
    "        # size after embedding: (batchsize, longest_seq, embed_dim)\n",
    "    \n",
    "        # as sequences are padded, pack them\n",
    "        inputs = pack_padded_sequence(embeds, seqlengths, \n",
    "                  enforce_sorted=False, batch_first=True)\n",
    "        # size after packing: (sum(seqlengths), embed_dim)\n",
    "    \n",
    "        # as we leave the second argument empty, the hidden states are\n",
    "        # initialized to zero - and also reset after every batch\n",
    "        packed_output, (hidden, cell) = self.lstm(inputs)\n",
    "        # packed output size: (sum(seqlengths), hidden_dim)\n",
    "        # hidden size: (n_layers, batchsize, hidden_dim)\n",
    "    \n",
    "        # need hidden state from last layer\n",
    "        lastState = hidden[-1]\n",
    "    \n",
    "        # linear layer\n",
    "        output = self.dropout(F.relu(self.linear1(lastState)))\n",
    "        output = self.linear2(output)\n",
    "    \n",
    "        return output"
   ]
  },
  {
   "cell_type": "code",
   "execution_count": 0,
   "metadata": {
    "colab": {},
    "colab_type": "code",
    "id": "F-2riNIlyJzb"
   },
   "outputs": [],
   "source": [
    "torch.manual_seed(42)\n",
    "model = LSTM(300, 300, 100, 5, 1, len(vocab)).to(device) \n",
    "model.embedding.weight.data.copy_(torch.from_numpy(weights_matrix))\n",
    "model.embedding.weight.requires_grad = False\n",
    "optimizer = optim.Adam(model.parameters(), lr = 6e-4)\n",
    "scheduler = optim.lr_scheduler.StepLR(optimizer, step_size=3, gamma=0.1) \n",
    "loss = nn.CrossEntropyLoss()"
   ]
  },
  {
   "cell_type": "code",
   "execution_count": 56,
   "metadata": {
    "colab": {
     "base_uri": "https://localhost:8080/",
     "height": 440
    },
    "colab_type": "code",
    "id": "PxgqTWCCyF7i",
    "outputId": "f4238174-bb4c-4993-e4b4-c298e69b3934"
   },
   "outputs": [
    {
     "name": "stdout",
     "output_type": "stream",
     "text": [
      "Summary of model\n",
      "\n",
      "LSTM(\n",
      "  (embedding): Embedding(12135, 300, padding_idx=0)\n",
      "  (lstm): LSTM(300, 300, batch_first=True)\n",
      "  (linear1): Linear(in_features=300, out_features=100, bias=True)\n",
      "  (linear2): Linear(in_features=100, out_features=5, bias=True)\n",
      "  (dropout): Dropout(p=0.5, inplace=False)\n",
      ")\n",
      "\n",
      "\n",
      "Epoch: 1 \t Loss (train): 0.882 (val): 0.901 \tAcc (train) 62.789 (val): 62.258\n",
      "Epoch: 2 \t Loss (train): 0.807 (val): 0.852 \tAcc (train) 65.994 (val): 64.431\n",
      "Epoch: 3 \t Loss (train): 0.742 (val): 0.823 \tAcc (train) 68.606 (val): 65.932\n",
      "Epoch: 4 \t Loss (train): 0.703 (val): 0.815 \tAcc (train) 70.230 (val): 66.951\n",
      "Epoch: 5 \t Loss (train): 0.688 (val): 0.813 \tAcc (train) 70.861 (val): 67.101\n",
      "Epoch: 6 \t Loss (train): 0.676 (val): 0.811 \tAcc (train) 71.407 (val): 67.197\n",
      "Epoch: 7 \t Loss (train): 0.672 (val): 0.807 \tAcc (train) 71.654 (val): 67.320\n",
      "Epoch: 8 \t Loss (train): 0.670 (val): 0.806 \tAcc (train) 71.723 (val): 67.299\n",
      "Epoch: 9 \t Loss (train): 0.669 (val): 0.806 \tAcc (train) 71.802 (val): 67.304\n",
      "Epoch: 10 \t Loss (train): 0.669 (val): 0.805 \tAcc (train) 71.825 (val): 67.309\n",
      "Epoch: 11 \t Loss (train): 0.668 (val): 0.805 \tAcc (train) 71.835 (val): 67.288\n",
      "Epoch: 12 \t Loss (train): 0.668 (val): 0.805 \tAcc (train) 71.855 (val): 67.304\n",
      "Epoch: 13 \t Loss (train): 0.668 (val): 0.805 \tAcc (train) 71.859 (val): 67.320\n",
      "Epoch: 14 \t Loss (train): 0.668 (val): 0.805 \tAcc (train) 71.859 (val): 67.331\n",
      "Epoch: 15 \t Loss (train): 0.668 (val): 0.805 \tAcc (train) 71.862 (val): 67.325\n"
     ]
    }
   ],
   "source": [
    "trainLossVec, valLossVec, trainAccuracyVec, valAccuracyVec, bestEpoch = train(model, loss, optimizer, \n",
    "                  scheduler, 15, training_generator, val_generator, training_eval, verbose = True)"
   ]
  },
  {
   "cell_type": "code",
   "execution_count": 57,
   "metadata": {
    "colab": {
     "base_uri": "https://localhost:8080/",
     "height": 336
    },
    "colab_type": "code",
    "id": "tppt3PZh0Jsx",
    "outputId": "6422a637-2c50-4bfb-f0ec-d4aaefabde0a"
   },
   "outputs": [
    {
     "data": {
      "image/png": "[encoded data removed]",
      "text/plain": [
       "<Figure size 864x360 with 2 Axes>"
      ]
     },
     "metadata": {
      "tags": []
     },
     "output_type": "display_data"
    }
   ],
   "source": [
    "matplotlib.rcParams['axes.spines.top'] = False\n",
    "matplotlib.rcParams['axes.spines.right'] = False\n",
    "\n",
    "fig, (ax1, ax2) = plt.subplots(1, 2, figsize=(12,5))\n",
    "\n",
    "ax1.plot(range(len(valAccuracyVec)), valAccuracyVec, label = \"Validation\")\n",
    "ax1.plot(range(len(trainAccuracyVec)), trainAccuracyVec, label = \"Train\")\n",
    "ax1.grid(True, alpha=0.4)\n",
    "ax1.set_title(\"Accuracy\")\n",
    "ax1.legend()\n",
    "ax2.plot(range(len(valLossVec)), valLossVec, label = \"Validation\")\n",
    "ax2.plot(range(len(trainLossVec)), trainLossVec, label = \"Train\")\n",
    "ax2.grid(True, alpha=0.4)\n",
    "ax2.set_title(\"Loss\")\n",
    "ax2.legend()\n",
    "plt.show()"
   ]
  },
  {
   "cell_type": "markdown",
   "metadata": {},
   "source": [
    "## Fine-tuning word embeddings"
   ]
  },
  {
   "cell_type": "code",
   "execution_count": 0,
   "metadata": {
    "colab": {},
    "colab_type": "code",
    "id": "SzEVYErGGgav"
   },
   "outputs": [],
   "source": [
    "torch.manual_seed(42)\n",
    "model = LSTM(300, 300, 100, 5, 1, len(vocab)).to(device) \n",
    "model.embedding.weight.data.copy_(torch.from_numpy(weights_matrix))\n",
    "optimizer = optim.Adam([\n",
    "                {'params': [model.lstm.weight_ih_l0,\n",
    "    model.lstm.weight_hh_l0, model.lstm.bias_ih_l0,\n",
    "    model.lstm.bias_hh_l0, model.linear1.weight,\n",
    "    model.linear1.bias, model.linear2.weight,\n",
    "    model.linear2.bias], 'lr': 6e-4},\n",
    "                {'params': model.embedding.weight, 'lr': 5e-6}\n",
    "            ])\n",
    "scheduler = optim.lr_scheduler.StepLR(optimizer, step_size=3, gamma=0.1) \n",
    "loss = nn.CrossEntropyLoss()"
   ]
  },
  {
   "cell_type": "code",
   "execution_count": 99,
   "metadata": {
    "colab": {
     "base_uri": "https://localhost:8080/",
     "height": 440
    },
    "colab_type": "code",
    "id": "KO3zSjgaG6NC",
    "outputId": "baf59fbd-bbe6-490d-c24b-d3892100e076"
   },
   "outputs": [
    {
     "name": "stdout",
     "output_type": "stream",
     "text": [
      "Summary of model\n",
      "\n",
      "LSTM(\n",
      "  (embedding): Embedding(12135, 300, padding_idx=0)\n",
      "  (lstm): LSTM(300, 300, batch_first=True)\n",
      "  (linear1): Linear(in_features=300, out_features=100, bias=True)\n",
      "  (linear2): Linear(in_features=100, out_features=5, bias=True)\n",
      "  (dropout): Dropout(p=0.5, inplace=False)\n",
      ")\n",
      "\n",
      "\n",
      "Epoch: 1 \t Loss (train): 0.878 (val): 0.897 \tAcc (train) 63.052 (val): 62.680\n",
      "Epoch: 2 \t Loss (train): 0.803 (val): 0.848 \tAcc (train) 66.180 (val): 64.623\n",
      "Epoch: 3 \t Loss (train): 0.735 (val): 0.817 \tAcc (train) 68.942 (val): 66.140\n",
      "Epoch: 4 \t Loss (train): 0.699 (val): 0.812 \tAcc (train) 70.423 (val): 66.807\n",
      "Epoch: 5 \t Loss (train): 0.685 (val): 0.811 \tAcc (train) 71.074 (val): 67.010\n",
      "Epoch: 6 \t Loss (train): 0.672 (val): 0.811 \tAcc (train) 71.585 (val): 67.128\n",
      "Epoch: 7 \t Loss (train): 0.667 (val): 0.805 \tAcc (train) 71.884 (val): 67.411\n",
      "Epoch: 8 \t Loss (train): 0.666 (val): 0.805 \tAcc (train) 71.972 (val): 67.469\n",
      "Epoch: 9 \t Loss (train): 0.664 (val): 0.805 \tAcc (train) 72.040 (val): 67.437\n",
      "Epoch: 10 \t Loss (train): 0.664 (val): 0.804 \tAcc (train) 72.059 (val): 67.411\n",
      "Epoch: 11 \t Loss (train): 0.664 (val): 0.804 \tAcc (train) 72.084 (val): 67.464\n",
      "Epoch: 12 \t Loss (train): 0.664 (val): 0.804 \tAcc (train) 72.104 (val): 67.437\n",
      "Epoch: 13 \t Loss (train): 0.664 (val): 0.804 \tAcc (train) 72.100 (val): 67.432\n",
      "Epoch: 14 \t Loss (train): 0.663 (val): 0.804 \tAcc (train) 72.102 (val): 67.437\n",
      "Epoch: 15 \t Loss (train): 0.663 (val): 0.804 \tAcc (train) 72.098 (val): 67.437\n"
     ]
    }
   ],
   "source": [
    "trainLossVec, valLossVec, trainAccuracyVec, valAccuracyVec, bestEpoch = train(model, loss, optimizer, \n",
    "                  scheduler, 15, training_generator, val_generator, training_eval, verbose = True)"
   ]
  }
 ],
 "metadata": {
  "accelerator": "GPU",
  "colab": {
   "collapsed_sections": [],
   "name": "LSTM",
   "provenance": []
  },
  "kernelspec": {
   "display_name": "Python 3",
   "language": "python",
   "name": "python3"
  },
  "language_info": {
   "codemirror_mode": {
    "name": "ipython",
    "version": 3
   },
   "file_extension": ".py",
   "mimetype": "text/x-python",
   "name": "python",
   "nbconvert_exporter": "python",
   "pygments_lexer": "ipython3",
   "version": "3.7.3"
  }
 },
 "nbformat": 4,
 "nbformat_minor": 1
}
